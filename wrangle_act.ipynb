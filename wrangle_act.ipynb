{
 "cells": [
  {
   "cell_type": "markdown",
   "metadata": {},
   "source": [
    "# Data Wrangling"
   ]
  },
  {
   "cell_type": "markdown",
   "metadata": {},
   "source": [
    "## Introduction"
   ]
  },
  {
   "cell_type": "markdown",
   "metadata": {},
   "source": [
    "Real-world data rarely comes clean. Using Python and its libraries, you will gather data from a variety of sources and in a variety of formats, assess its quality and tidiness, then clean it. This is called data wrangling. You will document your wrangling efforts in a Jupyter Notebook, plus showcase them through analyses and visualizations using Python (and its libraries) and/or SQL.\n",
    "\n",
    "The dataset that you will be wrangling (and analyzing and visualizing) is the tweet archive of Twitter user @dog_rates, also known as WeRateDogs. WeRateDogs is a Twitter account that rates people's dogs with a humorous comment about the dog. These ratings almost always have a denominator of 10. The numerators, though? Almost always greater than 10. 11/10, 12/10, 13/10, etc. Why? Because \"they're good dogs Brent.\" WeRateDogs has over 4 million followers and has received international media coverage.\n",
    "\n",
    "WeRateDogs downloaded their Twitter archive and sent it to Udacity via email exclusively for you to use in this project. This archive contains basic tweet data (tweet ID, timestamp, text, etc.) for all 5000+ of their tweets as they stood on August 1, 2017. More on this soon."
   ]
  },
  {
   "cell_type": "markdown",
   "metadata": {},
   "source": [
    "## Project Details"
   ]
  },
  {
   "cell_type": "markdown",
   "metadata": {},
   "source": [
    "Data wrangling, which consists of:\n",
    "<ul>\n",
    "    <li>Gathering data</li>\n",
    "    <li>Assessing data</li>\n",
    "    <li>Cleaning data</li>\n",
    "    <li>Storing, analyzing, and visualizing your wrangled data</li>\n",
    "</ul>"
   ]
  },
  {
   "cell_type": "markdown",
   "metadata": {},
   "source": [
    "## Data Gathering"
   ]
  },
  {
   "cell_type": "markdown",
   "metadata": {},
   "source": [
    "In  this project we are using three dataset\n",
    "<ol>\n",
    "    <li> The WeRateDogs Twitter data file which holds 2356 entries with 17 columns.I manually download this file from the link <a>twitter_archive_enhanced.csv</a></li>\n",
    "    <li> The tweet image predictions, i.e., what breed of dog (or other object, animal, etc.) is present in each tweet according to a neural network. This file (image_predictions.tsv) is hosted on Udacity's servers and should be downloaded programmatically using the Requests library and the following URL: <a>image_predictions.tsv</a></li>\n",
    "    <li>Each tweet's retweet count and favorite (\"like\") count at minimum, and any additional data you find interesting. Using the tweet IDs in the WeRateDogs Twitter archive, query the Twitter API for each tweet's JSON data using Python's Tweepy library and store each tweet's entire set of JSON data in a file called tweet_json.txt file. Each tweet's JSON data should be written to its own line. Then read this .txt file line by line into a pandas DataFrame with (at minimum) tweet ID, retweet count, and favorite count.</li>"
   ]
  },
  {
   "cell_type": "markdown",
   "metadata": {},
   "source": [
    "## Importing Libraries"
   ]
  },
  {
   "cell_type": "code",
   "execution_count": 2,
   "metadata": {},
   "outputs": [],
   "source": [
    "import pandas as pd\n",
    "import requests\n",
    "import os\n",
    "import tweepy\n",
    "import time\n",
    "import json\n",
    "import re\n",
    "import seaborn as sns\n",
    "import datetime as dt\n",
    "import matplotlib.pyplot as plt\n",
    "import warnings\n"
   ]
  },
  {
   "cell_type": "markdown",
   "metadata": {},
   "source": [
    "## Gathering the Data"
   ]
  },
  {
   "cell_type": "markdown",
   "metadata": {},
   "source": [
    "### Twitter Archive Enhanced Data"
   ]
  },
  {
   "cell_type": "code",
   "execution_count": 128,
   "metadata": {},
   "outputs": [],
   "source": [
    "df1 = pd.read_csv(\"twitter-archive-enhanced.csv\")"
   ]
  },
  {
   "cell_type": "markdown",
   "metadata": {},
   "source": [
    "### Visualizing the Dataframe Programatically"
   ]
  },
  {
   "cell_type": "code",
   "execution_count": 129,
   "metadata": {
    "scrolled": true
   },
   "outputs": [
    {
     "data": {
      "text/html": [
       "<div>\n",
       "<style scoped>\n",
       "    .dataframe tbody tr th:only-of-type {\n",
       "        vertical-align: middle;\n",
       "    }\n",
       "\n",
       "    .dataframe tbody tr th {\n",
       "        vertical-align: top;\n",
       "    }\n",
       "\n",
       "    .dataframe thead th {\n",
       "        text-align: right;\n",
       "    }\n",
       "</style>\n",
       "<table border=\"1\" class=\"dataframe\">\n",
       "  <thead>\n",
       "    <tr style=\"text-align: right;\">\n",
       "      <th></th>\n",
       "      <th>tweet_id</th>\n",
       "      <th>in_reply_to_status_id</th>\n",
       "      <th>in_reply_to_user_id</th>\n",
       "      <th>timestamp</th>\n",
       "      <th>source</th>\n",
       "      <th>text</th>\n",
       "      <th>retweeted_status_id</th>\n",
       "      <th>retweeted_status_user_id</th>\n",
       "      <th>retweeted_status_timestamp</th>\n",
       "      <th>expanded_urls</th>\n",
       "      <th>rating_numerator</th>\n",
       "      <th>rating_denominator</th>\n",
       "      <th>name</th>\n",
       "      <th>doggo</th>\n",
       "      <th>floofer</th>\n",
       "      <th>pupper</th>\n",
       "      <th>puppo</th>\n",
       "    </tr>\n",
       "  </thead>\n",
       "  <tbody>\n",
       "    <tr>\n",
       "      <th>0</th>\n",
       "      <td>892420643555336193</td>\n",
       "      <td>NaN</td>\n",
       "      <td>NaN</td>\n",
       "      <td>2017-08-01 16:23:56 +0000</td>\n",
       "      <td>&lt;a href=\"http://twitter.com/download/iphone\" r...</td>\n",
       "      <td>This is Phineas. He's a mystical boy. Only eve...</td>\n",
       "      <td>NaN</td>\n",
       "      <td>NaN</td>\n",
       "      <td>NaN</td>\n",
       "      <td>https://twitter.com/dog_rates/status/892420643...</td>\n",
       "      <td>13</td>\n",
       "      <td>10</td>\n",
       "      <td>Phineas</td>\n",
       "      <td>None</td>\n",
       "      <td>None</td>\n",
       "      <td>None</td>\n",
       "      <td>None</td>\n",
       "    </tr>\n",
       "    <tr>\n",
       "      <th>1</th>\n",
       "      <td>892177421306343426</td>\n",
       "      <td>NaN</td>\n",
       "      <td>NaN</td>\n",
       "      <td>2017-08-01 00:17:27 +0000</td>\n",
       "      <td>&lt;a href=\"http://twitter.com/download/iphone\" r...</td>\n",
       "      <td>This is Tilly. She's just checking pup on you....</td>\n",
       "      <td>NaN</td>\n",
       "      <td>NaN</td>\n",
       "      <td>NaN</td>\n",
       "      <td>https://twitter.com/dog_rates/status/892177421...</td>\n",
       "      <td>13</td>\n",
       "      <td>10</td>\n",
       "      <td>Tilly</td>\n",
       "      <td>None</td>\n",
       "      <td>None</td>\n",
       "      <td>None</td>\n",
       "      <td>None</td>\n",
       "    </tr>\n",
       "    <tr>\n",
       "      <th>2</th>\n",
       "      <td>891815181378084864</td>\n",
       "      <td>NaN</td>\n",
       "      <td>NaN</td>\n",
       "      <td>2017-07-31 00:18:03 +0000</td>\n",
       "      <td>&lt;a href=\"http://twitter.com/download/iphone\" r...</td>\n",
       "      <td>This is Archie. He is a rare Norwegian Pouncin...</td>\n",
       "      <td>NaN</td>\n",
       "      <td>NaN</td>\n",
       "      <td>NaN</td>\n",
       "      <td>https://twitter.com/dog_rates/status/891815181...</td>\n",
       "      <td>12</td>\n",
       "      <td>10</td>\n",
       "      <td>Archie</td>\n",
       "      <td>None</td>\n",
       "      <td>None</td>\n",
       "      <td>None</td>\n",
       "      <td>None</td>\n",
       "    </tr>\n",
       "    <tr>\n",
       "      <th>3</th>\n",
       "      <td>891689557279858688</td>\n",
       "      <td>NaN</td>\n",
       "      <td>NaN</td>\n",
       "      <td>2017-07-30 15:58:51 +0000</td>\n",
       "      <td>&lt;a href=\"http://twitter.com/download/iphone\" r...</td>\n",
       "      <td>This is Darla. She commenced a snooze mid meal...</td>\n",
       "      <td>NaN</td>\n",
       "      <td>NaN</td>\n",
       "      <td>NaN</td>\n",
       "      <td>https://twitter.com/dog_rates/status/891689557...</td>\n",
       "      <td>13</td>\n",
       "      <td>10</td>\n",
       "      <td>Darla</td>\n",
       "      <td>None</td>\n",
       "      <td>None</td>\n",
       "      <td>None</td>\n",
       "      <td>None</td>\n",
       "    </tr>\n",
       "    <tr>\n",
       "      <th>4</th>\n",
       "      <td>891327558926688256</td>\n",
       "      <td>NaN</td>\n",
       "      <td>NaN</td>\n",
       "      <td>2017-07-29 16:00:24 +0000</td>\n",
       "      <td>&lt;a href=\"http://twitter.com/download/iphone\" r...</td>\n",
       "      <td>This is Franklin. He would like you to stop ca...</td>\n",
       "      <td>NaN</td>\n",
       "      <td>NaN</td>\n",
       "      <td>NaN</td>\n",
       "      <td>https://twitter.com/dog_rates/status/891327558...</td>\n",
       "      <td>12</td>\n",
       "      <td>10</td>\n",
       "      <td>Franklin</td>\n",
       "      <td>None</td>\n",
       "      <td>None</td>\n",
       "      <td>None</td>\n",
       "      <td>None</td>\n",
       "    </tr>\n",
       "  </tbody>\n",
       "</table>\n",
       "</div>"
      ],
      "text/plain": [
       "             tweet_id  in_reply_to_status_id  in_reply_to_user_id  \\\n",
       "0  892420643555336193                    NaN                  NaN   \n",
       "1  892177421306343426                    NaN                  NaN   \n",
       "2  891815181378084864                    NaN                  NaN   \n",
       "3  891689557279858688                    NaN                  NaN   \n",
       "4  891327558926688256                    NaN                  NaN   \n",
       "\n",
       "                   timestamp  \\\n",
       "0  2017-08-01 16:23:56 +0000   \n",
       "1  2017-08-01 00:17:27 +0000   \n",
       "2  2017-07-31 00:18:03 +0000   \n",
       "3  2017-07-30 15:58:51 +0000   \n",
       "4  2017-07-29 16:00:24 +0000   \n",
       "\n",
       "                                              source  \\\n",
       "0  <a href=\"http://twitter.com/download/iphone\" r...   \n",
       "1  <a href=\"http://twitter.com/download/iphone\" r...   \n",
       "2  <a href=\"http://twitter.com/download/iphone\" r...   \n",
       "3  <a href=\"http://twitter.com/download/iphone\" r...   \n",
       "4  <a href=\"http://twitter.com/download/iphone\" r...   \n",
       "\n",
       "                                                text  retweeted_status_id  \\\n",
       "0  This is Phineas. He's a mystical boy. Only eve...                  NaN   \n",
       "1  This is Tilly. She's just checking pup on you....                  NaN   \n",
       "2  This is Archie. He is a rare Norwegian Pouncin...                  NaN   \n",
       "3  This is Darla. She commenced a snooze mid meal...                  NaN   \n",
       "4  This is Franklin. He would like you to stop ca...                  NaN   \n",
       "\n",
       "   retweeted_status_user_id retweeted_status_timestamp  \\\n",
       "0                       NaN                        NaN   \n",
       "1                       NaN                        NaN   \n",
       "2                       NaN                        NaN   \n",
       "3                       NaN                        NaN   \n",
       "4                       NaN                        NaN   \n",
       "\n",
       "                                       expanded_urls  rating_numerator  \\\n",
       "0  https://twitter.com/dog_rates/status/892420643...                13   \n",
       "1  https://twitter.com/dog_rates/status/892177421...                13   \n",
       "2  https://twitter.com/dog_rates/status/891815181...                12   \n",
       "3  https://twitter.com/dog_rates/status/891689557...                13   \n",
       "4  https://twitter.com/dog_rates/status/891327558...                12   \n",
       "\n",
       "   rating_denominator      name doggo floofer pupper puppo  \n",
       "0                  10   Phineas  None    None   None  None  \n",
       "1                  10     Tilly  None    None   None  None  \n",
       "2                  10    Archie  None    None   None  None  \n",
       "3                  10     Darla  None    None   None  None  \n",
       "4                  10  Franklin  None    None   None  None  "
      ]
     },
     "execution_count": 129,
     "metadata": {},
     "output_type": "execute_result"
    }
   ],
   "source": [
    "df1.head()"
   ]
  },
  {
   "cell_type": "code",
   "execution_count": 130,
   "metadata": {
    "scrolled": true
   },
   "outputs": [
    {
     "data": {
      "text/html": [
       "<div>\n",
       "<style scoped>\n",
       "    .dataframe tbody tr th:only-of-type {\n",
       "        vertical-align: middle;\n",
       "    }\n",
       "\n",
       "    .dataframe tbody tr th {\n",
       "        vertical-align: top;\n",
       "    }\n",
       "\n",
       "    .dataframe thead th {\n",
       "        text-align: right;\n",
       "    }\n",
       "</style>\n",
       "<table border=\"1\" class=\"dataframe\">\n",
       "  <thead>\n",
       "    <tr style=\"text-align: right;\">\n",
       "      <th></th>\n",
       "      <th>tweet_id</th>\n",
       "      <th>in_reply_to_status_id</th>\n",
       "      <th>in_reply_to_user_id</th>\n",
       "      <th>timestamp</th>\n",
       "      <th>source</th>\n",
       "      <th>text</th>\n",
       "      <th>retweeted_status_id</th>\n",
       "      <th>retweeted_status_user_id</th>\n",
       "      <th>retweeted_status_timestamp</th>\n",
       "      <th>expanded_urls</th>\n",
       "      <th>rating_numerator</th>\n",
       "      <th>rating_denominator</th>\n",
       "      <th>name</th>\n",
       "      <th>doggo</th>\n",
       "      <th>floofer</th>\n",
       "      <th>pupper</th>\n",
       "      <th>puppo</th>\n",
       "    </tr>\n",
       "  </thead>\n",
       "  <tbody>\n",
       "    <tr>\n",
       "      <th>2351</th>\n",
       "      <td>666049248165822465</td>\n",
       "      <td>NaN</td>\n",
       "      <td>NaN</td>\n",
       "      <td>2015-11-16 00:24:50 +0000</td>\n",
       "      <td>&lt;a href=\"http://twitter.com/download/iphone\" r...</td>\n",
       "      <td>Here we have a 1949 1st generation vulpix. Enj...</td>\n",
       "      <td>NaN</td>\n",
       "      <td>NaN</td>\n",
       "      <td>NaN</td>\n",
       "      <td>https://twitter.com/dog_rates/status/666049248...</td>\n",
       "      <td>5</td>\n",
       "      <td>10</td>\n",
       "      <td>None</td>\n",
       "      <td>None</td>\n",
       "      <td>None</td>\n",
       "      <td>None</td>\n",
       "      <td>None</td>\n",
       "    </tr>\n",
       "    <tr>\n",
       "      <th>2352</th>\n",
       "      <td>666044226329800704</td>\n",
       "      <td>NaN</td>\n",
       "      <td>NaN</td>\n",
       "      <td>2015-11-16 00:04:52 +0000</td>\n",
       "      <td>&lt;a href=\"http://twitter.com/download/iphone\" r...</td>\n",
       "      <td>This is a purebred Piers Morgan. Loves to Netf...</td>\n",
       "      <td>NaN</td>\n",
       "      <td>NaN</td>\n",
       "      <td>NaN</td>\n",
       "      <td>https://twitter.com/dog_rates/status/666044226...</td>\n",
       "      <td>6</td>\n",
       "      <td>10</td>\n",
       "      <td>a</td>\n",
       "      <td>None</td>\n",
       "      <td>None</td>\n",
       "      <td>None</td>\n",
       "      <td>None</td>\n",
       "    </tr>\n",
       "    <tr>\n",
       "      <th>2353</th>\n",
       "      <td>666033412701032449</td>\n",
       "      <td>NaN</td>\n",
       "      <td>NaN</td>\n",
       "      <td>2015-11-15 23:21:54 +0000</td>\n",
       "      <td>&lt;a href=\"http://twitter.com/download/iphone\" r...</td>\n",
       "      <td>Here is a very happy pup. Big fan of well-main...</td>\n",
       "      <td>NaN</td>\n",
       "      <td>NaN</td>\n",
       "      <td>NaN</td>\n",
       "      <td>https://twitter.com/dog_rates/status/666033412...</td>\n",
       "      <td>9</td>\n",
       "      <td>10</td>\n",
       "      <td>a</td>\n",
       "      <td>None</td>\n",
       "      <td>None</td>\n",
       "      <td>None</td>\n",
       "      <td>None</td>\n",
       "    </tr>\n",
       "    <tr>\n",
       "      <th>2354</th>\n",
       "      <td>666029285002620928</td>\n",
       "      <td>NaN</td>\n",
       "      <td>NaN</td>\n",
       "      <td>2015-11-15 23:05:30 +0000</td>\n",
       "      <td>&lt;a href=\"http://twitter.com/download/iphone\" r...</td>\n",
       "      <td>This is a western brown Mitsubishi terrier. Up...</td>\n",
       "      <td>NaN</td>\n",
       "      <td>NaN</td>\n",
       "      <td>NaN</td>\n",
       "      <td>https://twitter.com/dog_rates/status/666029285...</td>\n",
       "      <td>7</td>\n",
       "      <td>10</td>\n",
       "      <td>a</td>\n",
       "      <td>None</td>\n",
       "      <td>None</td>\n",
       "      <td>None</td>\n",
       "      <td>None</td>\n",
       "    </tr>\n",
       "    <tr>\n",
       "      <th>2355</th>\n",
       "      <td>666020888022790149</td>\n",
       "      <td>NaN</td>\n",
       "      <td>NaN</td>\n",
       "      <td>2015-11-15 22:32:08 +0000</td>\n",
       "      <td>&lt;a href=\"http://twitter.com/download/iphone\" r...</td>\n",
       "      <td>Here we have a Japanese Irish Setter. Lost eye...</td>\n",
       "      <td>NaN</td>\n",
       "      <td>NaN</td>\n",
       "      <td>NaN</td>\n",
       "      <td>https://twitter.com/dog_rates/status/666020888...</td>\n",
       "      <td>8</td>\n",
       "      <td>10</td>\n",
       "      <td>None</td>\n",
       "      <td>None</td>\n",
       "      <td>None</td>\n",
       "      <td>None</td>\n",
       "      <td>None</td>\n",
       "    </tr>\n",
       "  </tbody>\n",
       "</table>\n",
       "</div>"
      ],
      "text/plain": [
       "                tweet_id  in_reply_to_status_id  in_reply_to_user_id  \\\n",
       "2351  666049248165822465                    NaN                  NaN   \n",
       "2352  666044226329800704                    NaN                  NaN   \n",
       "2353  666033412701032449                    NaN                  NaN   \n",
       "2354  666029285002620928                    NaN                  NaN   \n",
       "2355  666020888022790149                    NaN                  NaN   \n",
       "\n",
       "                      timestamp  \\\n",
       "2351  2015-11-16 00:24:50 +0000   \n",
       "2352  2015-11-16 00:04:52 +0000   \n",
       "2353  2015-11-15 23:21:54 +0000   \n",
       "2354  2015-11-15 23:05:30 +0000   \n",
       "2355  2015-11-15 22:32:08 +0000   \n",
       "\n",
       "                                                 source  \\\n",
       "2351  <a href=\"http://twitter.com/download/iphone\" r...   \n",
       "2352  <a href=\"http://twitter.com/download/iphone\" r...   \n",
       "2353  <a href=\"http://twitter.com/download/iphone\" r...   \n",
       "2354  <a href=\"http://twitter.com/download/iphone\" r...   \n",
       "2355  <a href=\"http://twitter.com/download/iphone\" r...   \n",
       "\n",
       "                                                   text  retweeted_status_id  \\\n",
       "2351  Here we have a 1949 1st generation vulpix. Enj...                  NaN   \n",
       "2352  This is a purebred Piers Morgan. Loves to Netf...                  NaN   \n",
       "2353  Here is a very happy pup. Big fan of well-main...                  NaN   \n",
       "2354  This is a western brown Mitsubishi terrier. Up...                  NaN   \n",
       "2355  Here we have a Japanese Irish Setter. Lost eye...                  NaN   \n",
       "\n",
       "      retweeted_status_user_id retweeted_status_timestamp  \\\n",
       "2351                       NaN                        NaN   \n",
       "2352                       NaN                        NaN   \n",
       "2353                       NaN                        NaN   \n",
       "2354                       NaN                        NaN   \n",
       "2355                       NaN                        NaN   \n",
       "\n",
       "                                          expanded_urls  rating_numerator  \\\n",
       "2351  https://twitter.com/dog_rates/status/666049248...                 5   \n",
       "2352  https://twitter.com/dog_rates/status/666044226...                 6   \n",
       "2353  https://twitter.com/dog_rates/status/666033412...                 9   \n",
       "2354  https://twitter.com/dog_rates/status/666029285...                 7   \n",
       "2355  https://twitter.com/dog_rates/status/666020888...                 8   \n",
       "\n",
       "      rating_denominator  name doggo floofer pupper puppo  \n",
       "2351                  10  None  None    None   None  None  \n",
       "2352                  10     a  None    None   None  None  \n",
       "2353                  10     a  None    None   None  None  \n",
       "2354                  10     a  None    None   None  None  \n",
       "2355                  10  None  None    None   None  None  "
      ]
     },
     "execution_count": 130,
     "metadata": {},
     "output_type": "execute_result"
    }
   ],
   "source": [
    "df1.tail()"
   ]
  },
  {
   "cell_type": "code",
   "execution_count": 131,
   "metadata": {
    "scrolled": true
   },
   "outputs": [
    {
     "name": "stdout",
     "output_type": "stream",
     "text": [
      "<class 'pandas.core.frame.DataFrame'>\n",
      "RangeIndex: 2356 entries, 0 to 2355\n",
      "Data columns (total 17 columns):\n",
      "tweet_id                      2356 non-null int64\n",
      "in_reply_to_status_id         78 non-null float64\n",
      "in_reply_to_user_id           78 non-null float64\n",
      "timestamp                     2356 non-null object\n",
      "source                        2356 non-null object\n",
      "text                          2356 non-null object\n",
      "retweeted_status_id           181 non-null float64\n",
      "retweeted_status_user_id      181 non-null float64\n",
      "retweeted_status_timestamp    181 non-null object\n",
      "expanded_urls                 2297 non-null object\n",
      "rating_numerator              2356 non-null int64\n",
      "rating_denominator            2356 non-null int64\n",
      "name                          2356 non-null object\n",
      "doggo                         2356 non-null object\n",
      "floofer                       2356 non-null object\n",
      "pupper                        2356 non-null object\n",
      "puppo                         2356 non-null object\n",
      "dtypes: float64(4), int64(3), object(10)\n",
      "memory usage: 313.0+ KB\n"
     ]
    }
   ],
   "source": [
    "df1.info()"
   ]
  },
  {
   "cell_type": "code",
   "execution_count": 132,
   "metadata": {},
   "outputs": [
    {
     "data": {
      "text/html": [
       "<div>\n",
       "<style scoped>\n",
       "    .dataframe tbody tr th:only-of-type {\n",
       "        vertical-align: middle;\n",
       "    }\n",
       "\n",
       "    .dataframe tbody tr th {\n",
       "        vertical-align: top;\n",
       "    }\n",
       "\n",
       "    .dataframe thead th {\n",
       "        text-align: right;\n",
       "    }\n",
       "</style>\n",
       "<table border=\"1\" class=\"dataframe\">\n",
       "  <thead>\n",
       "    <tr style=\"text-align: right;\">\n",
       "      <th></th>\n",
       "      <th>tweet_id</th>\n",
       "      <th>in_reply_to_status_id</th>\n",
       "      <th>in_reply_to_user_id</th>\n",
       "      <th>retweeted_status_id</th>\n",
       "      <th>retweeted_status_user_id</th>\n",
       "      <th>rating_numerator</th>\n",
       "      <th>rating_denominator</th>\n",
       "    </tr>\n",
       "  </thead>\n",
       "  <tbody>\n",
       "    <tr>\n",
       "      <th>count</th>\n",
       "      <td>2.356000e+03</td>\n",
       "      <td>7.800000e+01</td>\n",
       "      <td>7.800000e+01</td>\n",
       "      <td>1.810000e+02</td>\n",
       "      <td>1.810000e+02</td>\n",
       "      <td>2356.000000</td>\n",
       "      <td>2356.000000</td>\n",
       "    </tr>\n",
       "    <tr>\n",
       "      <th>mean</th>\n",
       "      <td>7.427716e+17</td>\n",
       "      <td>7.455079e+17</td>\n",
       "      <td>2.014171e+16</td>\n",
       "      <td>7.720400e+17</td>\n",
       "      <td>1.241698e+16</td>\n",
       "      <td>13.126486</td>\n",
       "      <td>10.455433</td>\n",
       "    </tr>\n",
       "    <tr>\n",
       "      <th>std</th>\n",
       "      <td>6.856705e+16</td>\n",
       "      <td>7.582492e+16</td>\n",
       "      <td>1.252797e+17</td>\n",
       "      <td>6.236928e+16</td>\n",
       "      <td>9.599254e+16</td>\n",
       "      <td>45.876648</td>\n",
       "      <td>6.745237</td>\n",
       "    </tr>\n",
       "    <tr>\n",
       "      <th>min</th>\n",
       "      <td>6.660209e+17</td>\n",
       "      <td>6.658147e+17</td>\n",
       "      <td>1.185634e+07</td>\n",
       "      <td>6.661041e+17</td>\n",
       "      <td>7.832140e+05</td>\n",
       "      <td>0.000000</td>\n",
       "      <td>0.000000</td>\n",
       "    </tr>\n",
       "    <tr>\n",
       "      <th>25%</th>\n",
       "      <td>6.783989e+17</td>\n",
       "      <td>6.757419e+17</td>\n",
       "      <td>3.086374e+08</td>\n",
       "      <td>7.186315e+17</td>\n",
       "      <td>4.196984e+09</td>\n",
       "      <td>10.000000</td>\n",
       "      <td>10.000000</td>\n",
       "    </tr>\n",
       "    <tr>\n",
       "      <th>50%</th>\n",
       "      <td>7.196279e+17</td>\n",
       "      <td>7.038708e+17</td>\n",
       "      <td>4.196984e+09</td>\n",
       "      <td>7.804657e+17</td>\n",
       "      <td>4.196984e+09</td>\n",
       "      <td>11.000000</td>\n",
       "      <td>10.000000</td>\n",
       "    </tr>\n",
       "    <tr>\n",
       "      <th>75%</th>\n",
       "      <td>7.993373e+17</td>\n",
       "      <td>8.257804e+17</td>\n",
       "      <td>4.196984e+09</td>\n",
       "      <td>8.203146e+17</td>\n",
       "      <td>4.196984e+09</td>\n",
       "      <td>12.000000</td>\n",
       "      <td>10.000000</td>\n",
       "    </tr>\n",
       "    <tr>\n",
       "      <th>max</th>\n",
       "      <td>8.924206e+17</td>\n",
       "      <td>8.862664e+17</td>\n",
       "      <td>8.405479e+17</td>\n",
       "      <td>8.874740e+17</td>\n",
       "      <td>7.874618e+17</td>\n",
       "      <td>1776.000000</td>\n",
       "      <td>170.000000</td>\n",
       "    </tr>\n",
       "  </tbody>\n",
       "</table>\n",
       "</div>"
      ],
      "text/plain": [
       "           tweet_id  in_reply_to_status_id  in_reply_to_user_id  \\\n",
       "count  2.356000e+03           7.800000e+01         7.800000e+01   \n",
       "mean   7.427716e+17           7.455079e+17         2.014171e+16   \n",
       "std    6.856705e+16           7.582492e+16         1.252797e+17   \n",
       "min    6.660209e+17           6.658147e+17         1.185634e+07   \n",
       "25%    6.783989e+17           6.757419e+17         3.086374e+08   \n",
       "50%    7.196279e+17           7.038708e+17         4.196984e+09   \n",
       "75%    7.993373e+17           8.257804e+17         4.196984e+09   \n",
       "max    8.924206e+17           8.862664e+17         8.405479e+17   \n",
       "\n",
       "       retweeted_status_id  retweeted_status_user_id  rating_numerator  \\\n",
       "count         1.810000e+02              1.810000e+02       2356.000000   \n",
       "mean          7.720400e+17              1.241698e+16         13.126486   \n",
       "std           6.236928e+16              9.599254e+16         45.876648   \n",
       "min           6.661041e+17              7.832140e+05          0.000000   \n",
       "25%           7.186315e+17              4.196984e+09         10.000000   \n",
       "50%           7.804657e+17              4.196984e+09         11.000000   \n",
       "75%           8.203146e+17              4.196984e+09         12.000000   \n",
       "max           8.874740e+17              7.874618e+17       1776.000000   \n",
       "\n",
       "       rating_denominator  \n",
       "count         2356.000000  \n",
       "mean            10.455433  \n",
       "std              6.745237  \n",
       "min              0.000000  \n",
       "25%             10.000000  \n",
       "50%             10.000000  \n",
       "75%             10.000000  \n",
       "max            170.000000  "
      ]
     },
     "execution_count": 132,
     "metadata": {},
     "output_type": "execute_result"
    }
   ],
   "source": [
    "df1.describe()"
   ]
  },
  {
   "cell_type": "markdown",
   "metadata": {},
   "source": [
    "### Twitter Image Predictions Data"
   ]
  },
  {
   "cell_type": "code",
   "execution_count": 8,
   "metadata": {},
   "outputs": [],
   "source": [
    "folder_name = \"tweet_image_predictions\"\n",
    "if not os.path.exists(folder_name):\n",
    "    os.makedirs(folder_name)\n",
    "\n",
    "url = \" https://d17h27t6h515a5.cloudfront.net/topher/2017/August/599fd2ad_image-predictions/image-predictions.tsv\"\n",
    "response = requests.get(url)\n",
    "\n",
    "with open(os.path.join(folder_name,url.split('/')[-1]),mode=\"wb\") as file:\n",
    "    file.write(response.content)"
   ]
  },
  {
   "cell_type": "code",
   "execution_count": 9,
   "metadata": {},
   "outputs": [],
   "source": [
    "df2 = pd.read_csv(\"tweet_image_predictions/image-predictions-Copy1.tsv\",sep=\"\\t\")"
   ]
  },
  {
   "cell_type": "code",
   "execution_count": 10,
   "metadata": {},
   "outputs": [
    {
     "data": {
      "text/html": [
       "<div>\n",
       "<style scoped>\n",
       "    .dataframe tbody tr th:only-of-type {\n",
       "        vertical-align: middle;\n",
       "    }\n",
       "\n",
       "    .dataframe tbody tr th {\n",
       "        vertical-align: top;\n",
       "    }\n",
       "\n",
       "    .dataframe thead th {\n",
       "        text-align: right;\n",
       "    }\n",
       "</style>\n",
       "<table border=\"1\" class=\"dataframe\">\n",
       "  <thead>\n",
       "    <tr style=\"text-align: right;\">\n",
       "      <th></th>\n",
       "      <th>tweet_id</th>\n",
       "      <th>jpg_url</th>\n",
       "      <th>img_num</th>\n",
       "      <th>p1</th>\n",
       "      <th>p1_conf</th>\n",
       "      <th>p1_dog</th>\n",
       "      <th>p2</th>\n",
       "      <th>p2_conf</th>\n",
       "      <th>p2_dog</th>\n",
       "      <th>p3</th>\n",
       "      <th>p3_conf</th>\n",
       "      <th>p3_dog</th>\n",
       "    </tr>\n",
       "  </thead>\n",
       "  <tbody>\n",
       "    <tr>\n",
       "      <th>0</th>\n",
       "      <td>666020888022790149</td>\n",
       "      <td>https://pbs.twimg.com/media/CT4udn0WwAA0aMy.jpg</td>\n",
       "      <td>1</td>\n",
       "      <td>Welsh_springer_spaniel</td>\n",
       "      <td>0.465074</td>\n",
       "      <td>True</td>\n",
       "      <td>collie</td>\n",
       "      <td>0.156665</td>\n",
       "      <td>True</td>\n",
       "      <td>Shetland_sheepdog</td>\n",
       "      <td>0.061428</td>\n",
       "      <td>True</td>\n",
       "    </tr>\n",
       "    <tr>\n",
       "      <th>1</th>\n",
       "      <td>666029285002620928</td>\n",
       "      <td>https://pbs.twimg.com/media/CT42GRgUYAA5iDo.jpg</td>\n",
       "      <td>1</td>\n",
       "      <td>redbone</td>\n",
       "      <td>0.506826</td>\n",
       "      <td>True</td>\n",
       "      <td>miniature_pinscher</td>\n",
       "      <td>0.074192</td>\n",
       "      <td>True</td>\n",
       "      <td>Rhodesian_ridgeback</td>\n",
       "      <td>0.072010</td>\n",
       "      <td>True</td>\n",
       "    </tr>\n",
       "    <tr>\n",
       "      <th>2</th>\n",
       "      <td>666033412701032449</td>\n",
       "      <td>https://pbs.twimg.com/media/CT4521TWwAEvMyu.jpg</td>\n",
       "      <td>1</td>\n",
       "      <td>German_shepherd</td>\n",
       "      <td>0.596461</td>\n",
       "      <td>True</td>\n",
       "      <td>malinois</td>\n",
       "      <td>0.138584</td>\n",
       "      <td>True</td>\n",
       "      <td>bloodhound</td>\n",
       "      <td>0.116197</td>\n",
       "      <td>True</td>\n",
       "    </tr>\n",
       "    <tr>\n",
       "      <th>3</th>\n",
       "      <td>666044226329800704</td>\n",
       "      <td>https://pbs.twimg.com/media/CT5Dr8HUEAA-lEu.jpg</td>\n",
       "      <td>1</td>\n",
       "      <td>Rhodesian_ridgeback</td>\n",
       "      <td>0.408143</td>\n",
       "      <td>True</td>\n",
       "      <td>redbone</td>\n",
       "      <td>0.360687</td>\n",
       "      <td>True</td>\n",
       "      <td>miniature_pinscher</td>\n",
       "      <td>0.222752</td>\n",
       "      <td>True</td>\n",
       "    </tr>\n",
       "    <tr>\n",
       "      <th>4</th>\n",
       "      <td>666049248165822465</td>\n",
       "      <td>https://pbs.twimg.com/media/CT5IQmsXIAAKY4A.jpg</td>\n",
       "      <td>1</td>\n",
       "      <td>miniature_pinscher</td>\n",
       "      <td>0.560311</td>\n",
       "      <td>True</td>\n",
       "      <td>Rottweiler</td>\n",
       "      <td>0.243682</td>\n",
       "      <td>True</td>\n",
       "      <td>Doberman</td>\n",
       "      <td>0.154629</td>\n",
       "      <td>True</td>\n",
       "    </tr>\n",
       "  </tbody>\n",
       "</table>\n",
       "</div>"
      ],
      "text/plain": [
       "             tweet_id                                          jpg_url  \\\n",
       "0  666020888022790149  https://pbs.twimg.com/media/CT4udn0WwAA0aMy.jpg   \n",
       "1  666029285002620928  https://pbs.twimg.com/media/CT42GRgUYAA5iDo.jpg   \n",
       "2  666033412701032449  https://pbs.twimg.com/media/CT4521TWwAEvMyu.jpg   \n",
       "3  666044226329800704  https://pbs.twimg.com/media/CT5Dr8HUEAA-lEu.jpg   \n",
       "4  666049248165822465  https://pbs.twimg.com/media/CT5IQmsXIAAKY4A.jpg   \n",
       "\n",
       "   img_num                      p1   p1_conf  p1_dog                  p2  \\\n",
       "0        1  Welsh_springer_spaniel  0.465074    True              collie   \n",
       "1        1                 redbone  0.506826    True  miniature_pinscher   \n",
       "2        1         German_shepherd  0.596461    True            malinois   \n",
       "3        1     Rhodesian_ridgeback  0.408143    True             redbone   \n",
       "4        1      miniature_pinscher  0.560311    True          Rottweiler   \n",
       "\n",
       "    p2_conf  p2_dog                   p3   p3_conf  p3_dog  \n",
       "0  0.156665    True    Shetland_sheepdog  0.061428    True  \n",
       "1  0.074192    True  Rhodesian_ridgeback  0.072010    True  \n",
       "2  0.138584    True           bloodhound  0.116197    True  \n",
       "3  0.360687    True   miniature_pinscher  0.222752    True  \n",
       "4  0.243682    True             Doberman  0.154629    True  "
      ]
     },
     "execution_count": 10,
     "metadata": {},
     "output_type": "execute_result"
    }
   ],
   "source": [
    "df2.head()"
   ]
  },
  {
   "cell_type": "code",
   "execution_count": 11,
   "metadata": {},
   "outputs": [
    {
     "data": {
      "text/html": [
       "<div>\n",
       "<style scoped>\n",
       "    .dataframe tbody tr th:only-of-type {\n",
       "        vertical-align: middle;\n",
       "    }\n",
       "\n",
       "    .dataframe tbody tr th {\n",
       "        vertical-align: top;\n",
       "    }\n",
       "\n",
       "    .dataframe thead th {\n",
       "        text-align: right;\n",
       "    }\n",
       "</style>\n",
       "<table border=\"1\" class=\"dataframe\">\n",
       "  <thead>\n",
       "    <tr style=\"text-align: right;\">\n",
       "      <th></th>\n",
       "      <th>tweet_id</th>\n",
       "      <th>jpg_url</th>\n",
       "      <th>img_num</th>\n",
       "      <th>p1</th>\n",
       "      <th>p1_conf</th>\n",
       "      <th>p1_dog</th>\n",
       "      <th>p2</th>\n",
       "      <th>p2_conf</th>\n",
       "      <th>p2_dog</th>\n",
       "      <th>p3</th>\n",
       "      <th>p3_conf</th>\n",
       "      <th>p3_dog</th>\n",
       "    </tr>\n",
       "  </thead>\n",
       "  <tbody>\n",
       "    <tr>\n",
       "      <th>2070</th>\n",
       "      <td>891327558926688256</td>\n",
       "      <td>https://pbs.twimg.com/media/DF6hr6BUMAAzZgT.jpg</td>\n",
       "      <td>2</td>\n",
       "      <td>basset</td>\n",
       "      <td>0.555712</td>\n",
       "      <td>True</td>\n",
       "      <td>English_springer</td>\n",
       "      <td>0.225770</td>\n",
       "      <td>True</td>\n",
       "      <td>German_short-haired_pointer</td>\n",
       "      <td>0.175219</td>\n",
       "      <td>True</td>\n",
       "    </tr>\n",
       "    <tr>\n",
       "      <th>2071</th>\n",
       "      <td>891689557279858688</td>\n",
       "      <td>https://pbs.twimg.com/media/DF_q7IAWsAEuuN8.jpg</td>\n",
       "      <td>1</td>\n",
       "      <td>paper_towel</td>\n",
       "      <td>0.170278</td>\n",
       "      <td>False</td>\n",
       "      <td>Labrador_retriever</td>\n",
       "      <td>0.168086</td>\n",
       "      <td>True</td>\n",
       "      <td>spatula</td>\n",
       "      <td>0.040836</td>\n",
       "      <td>False</td>\n",
       "    </tr>\n",
       "    <tr>\n",
       "      <th>2072</th>\n",
       "      <td>891815181378084864</td>\n",
       "      <td>https://pbs.twimg.com/media/DGBdLU1WsAANxJ9.jpg</td>\n",
       "      <td>1</td>\n",
       "      <td>Chihuahua</td>\n",
       "      <td>0.716012</td>\n",
       "      <td>True</td>\n",
       "      <td>malamute</td>\n",
       "      <td>0.078253</td>\n",
       "      <td>True</td>\n",
       "      <td>kelpie</td>\n",
       "      <td>0.031379</td>\n",
       "      <td>True</td>\n",
       "    </tr>\n",
       "    <tr>\n",
       "      <th>2073</th>\n",
       "      <td>892177421306343426</td>\n",
       "      <td>https://pbs.twimg.com/media/DGGmoV4XsAAUL6n.jpg</td>\n",
       "      <td>1</td>\n",
       "      <td>Chihuahua</td>\n",
       "      <td>0.323581</td>\n",
       "      <td>True</td>\n",
       "      <td>Pekinese</td>\n",
       "      <td>0.090647</td>\n",
       "      <td>True</td>\n",
       "      <td>papillon</td>\n",
       "      <td>0.068957</td>\n",
       "      <td>True</td>\n",
       "    </tr>\n",
       "    <tr>\n",
       "      <th>2074</th>\n",
       "      <td>892420643555336193</td>\n",
       "      <td>https://pbs.twimg.com/media/DGKD1-bXoAAIAUK.jpg</td>\n",
       "      <td>1</td>\n",
       "      <td>orange</td>\n",
       "      <td>0.097049</td>\n",
       "      <td>False</td>\n",
       "      <td>bagel</td>\n",
       "      <td>0.085851</td>\n",
       "      <td>False</td>\n",
       "      <td>banana</td>\n",
       "      <td>0.076110</td>\n",
       "      <td>False</td>\n",
       "    </tr>\n",
       "  </tbody>\n",
       "</table>\n",
       "</div>"
      ],
      "text/plain": [
       "                tweet_id                                          jpg_url  \\\n",
       "2070  891327558926688256  https://pbs.twimg.com/media/DF6hr6BUMAAzZgT.jpg   \n",
       "2071  891689557279858688  https://pbs.twimg.com/media/DF_q7IAWsAEuuN8.jpg   \n",
       "2072  891815181378084864  https://pbs.twimg.com/media/DGBdLU1WsAANxJ9.jpg   \n",
       "2073  892177421306343426  https://pbs.twimg.com/media/DGGmoV4XsAAUL6n.jpg   \n",
       "2074  892420643555336193  https://pbs.twimg.com/media/DGKD1-bXoAAIAUK.jpg   \n",
       "\n",
       "      img_num           p1   p1_conf  p1_dog                  p2   p2_conf  \\\n",
       "2070        2       basset  0.555712    True    English_springer  0.225770   \n",
       "2071        1  paper_towel  0.170278   False  Labrador_retriever  0.168086   \n",
       "2072        1    Chihuahua  0.716012    True            malamute  0.078253   \n",
       "2073        1    Chihuahua  0.323581    True            Pekinese  0.090647   \n",
       "2074        1       orange  0.097049   False               bagel  0.085851   \n",
       "\n",
       "      p2_dog                           p3   p3_conf  p3_dog  \n",
       "2070    True  German_short-haired_pointer  0.175219    True  \n",
       "2071    True                      spatula  0.040836   False  \n",
       "2072    True                       kelpie  0.031379    True  \n",
       "2073    True                     papillon  0.068957    True  \n",
       "2074   False                       banana  0.076110   False  "
      ]
     },
     "execution_count": 11,
     "metadata": {},
     "output_type": "execute_result"
    }
   ],
   "source": [
    "df2.tail()"
   ]
  },
  {
   "cell_type": "code",
   "execution_count": 12,
   "metadata": {},
   "outputs": [
    {
     "name": "stdout",
     "output_type": "stream",
     "text": [
      "<class 'pandas.core.frame.DataFrame'>\n",
      "RangeIndex: 2075 entries, 0 to 2074\n",
      "Data columns (total 12 columns):\n",
      "tweet_id    2075 non-null int64\n",
      "jpg_url     2075 non-null object\n",
      "img_num     2075 non-null int64\n",
      "p1          2075 non-null object\n",
      "p1_conf     2075 non-null float64\n",
      "p1_dog      2075 non-null bool\n",
      "p2          2075 non-null object\n",
      "p2_conf     2075 non-null float64\n",
      "p2_dog      2075 non-null bool\n",
      "p3          2075 non-null object\n",
      "p3_conf     2075 non-null float64\n",
      "p3_dog      2075 non-null bool\n",
      "dtypes: bool(3), float64(3), int64(2), object(4)\n",
      "memory usage: 152.1+ KB\n"
     ]
    }
   ],
   "source": [
    "df2.info()"
   ]
  },
  {
   "cell_type": "code",
   "execution_count": 13,
   "metadata": {},
   "outputs": [
    {
     "data": {
      "text/html": [
       "<div>\n",
       "<style scoped>\n",
       "    .dataframe tbody tr th:only-of-type {\n",
       "        vertical-align: middle;\n",
       "    }\n",
       "\n",
       "    .dataframe tbody tr th {\n",
       "        vertical-align: top;\n",
       "    }\n",
       "\n",
       "    .dataframe thead th {\n",
       "        text-align: right;\n",
       "    }\n",
       "</style>\n",
       "<table border=\"1\" class=\"dataframe\">\n",
       "  <thead>\n",
       "    <tr style=\"text-align: right;\">\n",
       "      <th></th>\n",
       "      <th>tweet_id</th>\n",
       "      <th>img_num</th>\n",
       "      <th>p1_conf</th>\n",
       "      <th>p2_conf</th>\n",
       "      <th>p3_conf</th>\n",
       "    </tr>\n",
       "  </thead>\n",
       "  <tbody>\n",
       "    <tr>\n",
       "      <th>count</th>\n",
       "      <td>2.075000e+03</td>\n",
       "      <td>2075.000000</td>\n",
       "      <td>2075.000000</td>\n",
       "      <td>2.075000e+03</td>\n",
       "      <td>2.075000e+03</td>\n",
       "    </tr>\n",
       "    <tr>\n",
       "      <th>mean</th>\n",
       "      <td>7.384514e+17</td>\n",
       "      <td>1.203855</td>\n",
       "      <td>0.594548</td>\n",
       "      <td>1.345886e-01</td>\n",
       "      <td>6.032417e-02</td>\n",
       "    </tr>\n",
       "    <tr>\n",
       "      <th>std</th>\n",
       "      <td>6.785203e+16</td>\n",
       "      <td>0.561875</td>\n",
       "      <td>0.271174</td>\n",
       "      <td>1.006657e-01</td>\n",
       "      <td>5.090593e-02</td>\n",
       "    </tr>\n",
       "    <tr>\n",
       "      <th>min</th>\n",
       "      <td>6.660209e+17</td>\n",
       "      <td>1.000000</td>\n",
       "      <td>0.044333</td>\n",
       "      <td>1.011300e-08</td>\n",
       "      <td>1.740170e-10</td>\n",
       "    </tr>\n",
       "    <tr>\n",
       "      <th>25%</th>\n",
       "      <td>6.764835e+17</td>\n",
       "      <td>1.000000</td>\n",
       "      <td>0.364412</td>\n",
       "      <td>5.388625e-02</td>\n",
       "      <td>1.622240e-02</td>\n",
       "    </tr>\n",
       "    <tr>\n",
       "      <th>50%</th>\n",
       "      <td>7.119988e+17</td>\n",
       "      <td>1.000000</td>\n",
       "      <td>0.588230</td>\n",
       "      <td>1.181810e-01</td>\n",
       "      <td>4.944380e-02</td>\n",
       "    </tr>\n",
       "    <tr>\n",
       "      <th>75%</th>\n",
       "      <td>7.932034e+17</td>\n",
       "      <td>1.000000</td>\n",
       "      <td>0.843855</td>\n",
       "      <td>1.955655e-01</td>\n",
       "      <td>9.180755e-02</td>\n",
       "    </tr>\n",
       "    <tr>\n",
       "      <th>max</th>\n",
       "      <td>8.924206e+17</td>\n",
       "      <td>4.000000</td>\n",
       "      <td>1.000000</td>\n",
       "      <td>4.880140e-01</td>\n",
       "      <td>2.734190e-01</td>\n",
       "    </tr>\n",
       "  </tbody>\n",
       "</table>\n",
       "</div>"
      ],
      "text/plain": [
       "           tweet_id      img_num      p1_conf       p2_conf       p3_conf\n",
       "count  2.075000e+03  2075.000000  2075.000000  2.075000e+03  2.075000e+03\n",
       "mean   7.384514e+17     1.203855     0.594548  1.345886e-01  6.032417e-02\n",
       "std    6.785203e+16     0.561875     0.271174  1.006657e-01  5.090593e-02\n",
       "min    6.660209e+17     1.000000     0.044333  1.011300e-08  1.740170e-10\n",
       "25%    6.764835e+17     1.000000     0.364412  5.388625e-02  1.622240e-02\n",
       "50%    7.119988e+17     1.000000     0.588230  1.181810e-01  4.944380e-02\n",
       "75%    7.932034e+17     1.000000     0.843855  1.955655e-01  9.180755e-02\n",
       "max    8.924206e+17     4.000000     1.000000  4.880140e-01  2.734190e-01"
      ]
     },
     "execution_count": 13,
     "metadata": {},
     "output_type": "execute_result"
    }
   ],
   "source": [
    "df2.describe()"
   ]
  },
  {
   "cell_type": "markdown",
   "metadata": {},
   "source": [
    "### Query the Twitter API"
   ]
  },
  {
   "cell_type": "code",
   "execution_count": 15,
   "metadata": {},
   "outputs": [],
   "source": [
    "consumer_key = ''\n",
    "consumer_secret = ''\n",
    "access_token = ''\n",
    "access_secret = ''\n",
    "\n",
    "auth = tweepy.OAuthHandler(consumer_key, consumer_secret)\n",
    "auth.set_access_token(access_token, access_secret)\n",
    "\n",
    "api = tweepy.API(auth,wait_on_rate_limit=True,wait_on_rate_limit_notify=True)"
   ]
  },
  {
   "cell_type": "code",
   "execution_count": 16,
   "metadata": {},
   "outputs": [],
   "source": [
    "df_tweet_ids  = df1[\"tweet_id\"]"
   ]
  },
  {
   "cell_type": "code",
   "execution_count": 17,
   "metadata": {
    "scrolled": true
   },
   "outputs": [
    {
     "name": "stdout",
     "output_type": "stream",
     "text": [
      "888202515573088257 _ [{'code': 144, 'message': 'No status found with that ID.'}]\n",
      "873697596434513921 _ [{'code': 144, 'message': 'No status found with that ID.'}]\n",
      "872668790621863937 _ [{'code': 144, 'message': 'No status found with that ID.'}]\n",
      "872261713294495745 _ [{'code': 144, 'message': 'No status found with that ID.'}]\n",
      "869988702071779329 _ [{'code': 144, 'message': 'No status found with that ID.'}]\n",
      "866816280283807744 _ [{'code': 144, 'message': 'No status found with that ID.'}]\n",
      "861769973181624320 _ [{'code': 144, 'message': 'No status found with that ID.'}]\n",
      "856602993587888130 _ [{'code': 144, 'message': 'No status found with that ID.'}]\n",
      "851953902622658560 _ [{'code': 144, 'message': 'No status found with that ID.'}]\n",
      "845459076796616705 _ [{'code': 144, 'message': 'No status found with that ID.'}]\n",
      "844704788403113984 _ [{'code': 144, 'message': 'No status found with that ID.'}]\n",
      "842892208864923648 _ [{'code': 144, 'message': 'No status found with that ID.'}]\n",
      "837366284874571778 _ [{'code': 144, 'message': 'No status found with that ID.'}]\n",
      "837012587749474308 _ [{'code': 144, 'message': 'No status found with that ID.'}]\n",
      "829374341691346946 _ [{'code': 144, 'message': 'No status found with that ID.'}]\n",
      "827228250799742977 _ [{'code': 144, 'message': 'No status found with that ID.'}]\n",
      "812747805718642688 _ [{'code': 144, 'message': 'No status found with that ID.'}]\n",
      "802247111496568832 _ [{'code': 144, 'message': 'No status found with that ID.'}]\n",
      "779123168116150273 _ [{'code': 144, 'message': 'No status found with that ID.'}]\n",
      "775096608509886464 _ [{'code': 144, 'message': 'No status found with that ID.'}]\n",
      "771004394259247104 _ [{'code': 179, 'message': 'Sorry, you are not authorized to see this status.'}]\n",
      "770743923962707968 _ [{'code': 144, 'message': 'No status found with that ID.'}]\n",
      "759566828574212096 _ [{'code': 144, 'message': 'No status found with that ID.'}]\n",
      "Rate limit reached. Sleeping for: 745\n",
      "754011816964026368 _ [{'code': 144, 'message': 'No status found with that ID.'}]\n",
      "680055455951884288 _ [{'code': 144, 'message': 'No status found with that ID.'}]\n",
      "Rate limit reached. Sleeping for: 742\n",
      "1907.2093513011932\n"
     ]
    }
   ],
   "source": [
    "df_list = []\n",
    "error_list = []\n",
    "\n",
    "start = time.time()\n",
    "\n",
    "for tweet_id in df1['tweet_id']:\n",
    "    try:\n",
    "        tweet = api.get_status(tweet_id, tweet_mode='extended',\n",
    "                               wait_on_rate_limit = True, wait_on_rate_limit_notify = True)._json \n",
    "        favorites = tweet['favorite_count'] # to see how many favorite the tweets had\n",
    "        retweets = tweet['retweet_count'] # for counting the retweets\n",
    "        user_followers = tweet['user']['followers_count'] # to see how many followers the user had\n",
    "        user_favourites = tweet['user']['favourites_count'] # to see how many favorites the user had\n",
    "        #tweet_created_time = tweet['created_at'] # to see the datetime of tweet\n",
    "        #user_created_time = tweet[\"user\"][\"created_at\"]\n",
    "        \n",
    "        df_list.append({'tweet_id': int(tweet_id),\n",
    "                        'favorites': int(favorites),\n",
    "                        'retweets': int(retweets),\n",
    "                        'user_followers': int(user_followers),\n",
    "                        'user_favourites': int(user_favourites)\n",
    "                        })\n",
    "        #'user_created_time': pd.to_datetime(user_created_time),\n",
    "        #'tweet_created_time': pd.to_datetime(tweet_created_time\n",
    "        \n",
    "    except Exception as e:\n",
    "        print(str(tweet_id)+ \" _ \" + str(e))\n",
    "        error_list.append(tweet_id)\n",
    "end = time.time()\n",
    "\n",
    "print(end - start)"
   ]
  },
  {
   "cell_type": "code",
   "execution_count": 18,
   "metadata": {},
   "outputs": [
    {
     "name": "stdout",
     "output_type": "stream",
     "text": [
      "The length the total tweet records: 25\n",
      "The length the total tweet records: 2331\n"
     ]
    }
   ],
   "source": [
    "print(\"The length the total tweet records:\",len(error_list))\n",
    "print(\"The length the total tweet records:\",len(df_list))"
   ]
  },
  {
   "cell_type": "code",
   "execution_count": 19,
   "metadata": {},
   "outputs": [],
   "source": [
    "tweet_json_file = 'tweet_json.txt'"
   ]
  },
  {
   "cell_type": "code",
   "execution_count": 20,
   "metadata": {},
   "outputs": [],
   "source": [
    "# save the JSON data in the list to the output file\n",
    "with open(tweet_json_file, 'w') as outfile:\n",
    "    for tweet_json in df_list:\n",
    "        json.dump(tweet_json, outfile)\n",
    "        outfile.write('\\n')"
   ]
  },
  {
   "cell_type": "code",
   "execution_count": 21,
   "metadata": {},
   "outputs": [],
   "source": [
    "### Storing the data into Dataframe\n",
    "tweet_json_data = []\n",
    "\n",
    "with open(tweet_json_file, 'r') as json_file:\n",
    "    # read the first line to start the loop\n",
    "    line = json_file.readline()\n",
    "    while line:\n",
    "        data = json.loads(line)\n",
    "\n",
    "        # extract variables from the JSON data\n",
    "        data_id = data['tweet_id']\n",
    "        data_retweet_count = data['retweets']\n",
    "        data_favorite_count = data['favorites']\n",
    "        data_user_followers = data['user_followers']\n",
    "        data_user_favourites = data['user_favourites']\n",
    "        # create a dictionary with the JSON data, then add to a list\n",
    "        json_data = {'tweet_id': data_id, \n",
    "                     'retweets': data_retweet_count, \n",
    "                     'favorites': data_favorite_count,\n",
    "                     'user_followers': data_user_followers,\n",
    "                     'user_favourites':data_user_favourites\n",
    "                     \n",
    "                    }\n",
    "        tweet_json_data.append(json_data)\n",
    "\n",
    "        # read the next line of JSON data\n",
    "        line = json_file.readline()"
   ]
  },
  {
   "cell_type": "code",
   "execution_count": 28,
   "metadata": {},
   "outputs": [],
   "source": [
    "df3_final = pd.DataFrame(tweet_json_data, columns = ['tweet_id', 'retweets', 'favorites',\n",
    "                                               'user_followers', 'user_favourites'])\n"
   ]
  },
  {
   "cell_type": "code",
   "execution_count": null,
   "metadata": {},
   "outputs": [],
   "source": [
    "### Exporting the data as CSV file"
   ]
  },
  {
   "cell_type": "code",
   "execution_count": 29,
   "metadata": {},
   "outputs": [
    {
     "data": {
      "text/plain": [
       "(2331, 5)"
      ]
     },
     "execution_count": 29,
     "metadata": {},
     "output_type": "execute_result"
    }
   ],
   "source": [
    "df3_final.shape"
   ]
  },
  {
   "cell_type": "code",
   "execution_count": 30,
   "metadata": {},
   "outputs": [
    {
     "data": {
      "text/html": [
       "<div>\n",
       "<style scoped>\n",
       "    .dataframe tbody tr th:only-of-type {\n",
       "        vertical-align: middle;\n",
       "    }\n",
       "\n",
       "    .dataframe tbody tr th {\n",
       "        vertical-align: top;\n",
       "    }\n",
       "\n",
       "    .dataframe thead th {\n",
       "        text-align: right;\n",
       "    }\n",
       "</style>\n",
       "<table border=\"1\" class=\"dataframe\">\n",
       "  <thead>\n",
       "    <tr style=\"text-align: right;\">\n",
       "      <th></th>\n",
       "      <th>tweet_id</th>\n",
       "      <th>retweets</th>\n",
       "      <th>favorites</th>\n",
       "      <th>user_followers</th>\n",
       "      <th>user_favourites</th>\n",
       "    </tr>\n",
       "  </thead>\n",
       "  <tbody>\n",
       "    <tr>\n",
       "      <th>0</th>\n",
       "      <td>892420643555336193</td>\n",
       "      <td>7548</td>\n",
       "      <td>35714</td>\n",
       "      <td>8855163</td>\n",
       "      <td>145874</td>\n",
       "    </tr>\n",
       "    <tr>\n",
       "      <th>1</th>\n",
       "      <td>892177421306343426</td>\n",
       "      <td>5594</td>\n",
       "      <td>30870</td>\n",
       "      <td>8855163</td>\n",
       "      <td>145874</td>\n",
       "    </tr>\n",
       "    <tr>\n",
       "      <th>2</th>\n",
       "      <td>891815181378084864</td>\n",
       "      <td>3703</td>\n",
       "      <td>23211</td>\n",
       "      <td>8855163</td>\n",
       "      <td>145874</td>\n",
       "    </tr>\n",
       "    <tr>\n",
       "      <th>3</th>\n",
       "      <td>891689557279858688</td>\n",
       "      <td>7729</td>\n",
       "      <td>39009</td>\n",
       "      <td>8855163</td>\n",
       "      <td>145874</td>\n",
       "    </tr>\n",
       "    <tr>\n",
       "      <th>4</th>\n",
       "      <td>891327558926688256</td>\n",
       "      <td>8332</td>\n",
       "      <td>37262</td>\n",
       "      <td>8855163</td>\n",
       "      <td>145874</td>\n",
       "    </tr>\n",
       "  </tbody>\n",
       "</table>\n",
       "</div>"
      ],
      "text/plain": [
       "             tweet_id  retweets  favorites  user_followers  user_favourites\n",
       "0  892420643555336193      7548      35714         8855163           145874\n",
       "1  892177421306343426      5594      30870         8855163           145874\n",
       "2  891815181378084864      3703      23211         8855163           145874\n",
       "3  891689557279858688      7729      39009         8855163           145874\n",
       "4  891327558926688256      8332      37262         8855163           145874"
      ]
     },
     "execution_count": 30,
     "metadata": {},
     "output_type": "execute_result"
    }
   ],
   "source": [
    "df3_final.head()"
   ]
  },
  {
   "cell_type": "code",
   "execution_count": 31,
   "metadata": {},
   "outputs": [
    {
     "data": {
      "text/html": [
       "<div>\n",
       "<style scoped>\n",
       "    .dataframe tbody tr th:only-of-type {\n",
       "        vertical-align: middle;\n",
       "    }\n",
       "\n",
       "    .dataframe tbody tr th {\n",
       "        vertical-align: top;\n",
       "    }\n",
       "\n",
       "    .dataframe thead th {\n",
       "        text-align: right;\n",
       "    }\n",
       "</style>\n",
       "<table border=\"1\" class=\"dataframe\">\n",
       "  <thead>\n",
       "    <tr style=\"text-align: right;\">\n",
       "      <th></th>\n",
       "      <th>tweet_id</th>\n",
       "      <th>retweets</th>\n",
       "      <th>favorites</th>\n",
       "      <th>user_followers</th>\n",
       "      <th>user_favourites</th>\n",
       "    </tr>\n",
       "  </thead>\n",
       "  <tbody>\n",
       "    <tr>\n",
       "      <th>2326</th>\n",
       "      <td>666049248165822465</td>\n",
       "      <td>40</td>\n",
       "      <td>96</td>\n",
       "      <td>8854948</td>\n",
       "      <td>145874</td>\n",
       "    </tr>\n",
       "    <tr>\n",
       "      <th>2327</th>\n",
       "      <td>666044226329800704</td>\n",
       "      <td>127</td>\n",
       "      <td>265</td>\n",
       "      <td>8854948</td>\n",
       "      <td>145874</td>\n",
       "    </tr>\n",
       "    <tr>\n",
       "      <th>2328</th>\n",
       "      <td>666033412701032449</td>\n",
       "      <td>40</td>\n",
       "      <td>111</td>\n",
       "      <td>8854948</td>\n",
       "      <td>145874</td>\n",
       "    </tr>\n",
       "    <tr>\n",
       "      <th>2329</th>\n",
       "      <td>666029285002620928</td>\n",
       "      <td>42</td>\n",
       "      <td>120</td>\n",
       "      <td>8854948</td>\n",
       "      <td>145874</td>\n",
       "    </tr>\n",
       "    <tr>\n",
       "      <th>2330</th>\n",
       "      <td>666020888022790149</td>\n",
       "      <td>457</td>\n",
       "      <td>2381</td>\n",
       "      <td>8854948</td>\n",
       "      <td>145874</td>\n",
       "    </tr>\n",
       "  </tbody>\n",
       "</table>\n",
       "</div>"
      ],
      "text/plain": [
       "                tweet_id  retweets  favorites  user_followers  user_favourites\n",
       "2326  666049248165822465        40         96         8854948           145874\n",
       "2327  666044226329800704       127        265         8854948           145874\n",
       "2328  666033412701032449        40        111         8854948           145874\n",
       "2329  666029285002620928        42        120         8854948           145874\n",
       "2330  666020888022790149       457       2381         8854948           145874"
      ]
     },
     "execution_count": 31,
     "metadata": {},
     "output_type": "execute_result"
    }
   ],
   "source": [
    "df3_final.tail()"
   ]
  },
  {
   "cell_type": "code",
   "execution_count": 32,
   "metadata": {},
   "outputs": [
    {
     "name": "stdout",
     "output_type": "stream",
     "text": [
      "<class 'pandas.core.frame.DataFrame'>\n",
      "RangeIndex: 2331 entries, 0 to 2330\n",
      "Data columns (total 5 columns):\n",
      "tweet_id           2331 non-null int64\n",
      "retweets           2331 non-null int64\n",
      "favorites          2331 non-null int64\n",
      "user_followers     2331 non-null int64\n",
      "user_favourites    2331 non-null int64\n",
      "dtypes: int64(5)\n",
      "memory usage: 91.1 KB\n"
     ]
    }
   ],
   "source": [
    "df3_final.info()"
   ]
  },
  {
   "cell_type": "markdown",
   "metadata": {},
   "source": [
    "After the end of Data Gathering process we have now three different dataframes namely\n",
    "<ol>\n",
    "    <li>df1 - Dataframe which holds the twitter data with ratings of the dogs</li>\n",
    "    <li>df2 - Dataframe with the image of the dogs and by using that image there is predictions happened with the help of neural network concepts and its corresponding confidence interval value </li>\n",
    "    <li> df3_clean - Dataframe with favorites, no of follwers and likes for each individual tweets </li>\n",
    "</ol>"
   ]
  },
  {
   "cell_type": "markdown",
   "metadata": {},
   "source": [
    "### Assessing Data"
   ]
  },
  {
   "cell_type": "markdown",
   "metadata": {},
   "source": [
    "Assessing the data can be done with two possible methods. \n",
    "<ol>\n",
    "    <li>Visually</li> \n",
    "    <li>Programatically</li>"
   ]
  },
  {
   "cell_type": "markdown",
   "metadata": {},
   "source": [
    "### 1. Twitter Archived Enhanced Data"
   ]
  },
  {
   "cell_type": "code",
   "execution_count": 33,
   "metadata": {
    "scrolled": true
   },
   "outputs": [
    {
     "data": {
      "text/html": [
       "<div>\n",
       "<style scoped>\n",
       "    .dataframe tbody tr th:only-of-type {\n",
       "        vertical-align: middle;\n",
       "    }\n",
       "\n",
       "    .dataframe tbody tr th {\n",
       "        vertical-align: top;\n",
       "    }\n",
       "\n",
       "    .dataframe thead th {\n",
       "        text-align: right;\n",
       "    }\n",
       "</style>\n",
       "<table border=\"1\" class=\"dataframe\">\n",
       "  <thead>\n",
       "    <tr style=\"text-align: right;\">\n",
       "      <th></th>\n",
       "      <th>tweet_id</th>\n",
       "      <th>in_reply_to_status_id</th>\n",
       "      <th>in_reply_to_user_id</th>\n",
       "      <th>timestamp</th>\n",
       "      <th>source</th>\n",
       "      <th>text</th>\n",
       "      <th>retweeted_status_id</th>\n",
       "      <th>retweeted_status_user_id</th>\n",
       "      <th>retweeted_status_timestamp</th>\n",
       "      <th>expanded_urls</th>\n",
       "      <th>rating_numerator</th>\n",
       "      <th>rating_denominator</th>\n",
       "      <th>name</th>\n",
       "      <th>doggo</th>\n",
       "      <th>floofer</th>\n",
       "      <th>pupper</th>\n",
       "      <th>puppo</th>\n",
       "    </tr>\n",
       "  </thead>\n",
       "  <tbody>\n",
       "    <tr>\n",
       "      <th>1931</th>\n",
       "      <td>674036086168010753</td>\n",
       "      <td>NaN</td>\n",
       "      <td>NaN</td>\n",
       "      <td>2015-12-08 01:21:40 +0000</td>\n",
       "      <td>&lt;a href=\"http://twitter.com/download/iphone\" r...</td>\n",
       "      <td>Meet Daisy. She has no eyes &amp;amp; her face has...</td>\n",
       "      <td>NaN</td>\n",
       "      <td>NaN</td>\n",
       "      <td>NaN</td>\n",
       "      <td>https://twitter.com/dog_rates/status/674036086...</td>\n",
       "      <td>9</td>\n",
       "      <td>10</td>\n",
       "      <td>Daisy</td>\n",
       "      <td>None</td>\n",
       "      <td>None</td>\n",
       "      <td>None</td>\n",
       "      <td>None</td>\n",
       "    </tr>\n",
       "    <tr>\n",
       "      <th>1970</th>\n",
       "      <td>673295268553605120</td>\n",
       "      <td>NaN</td>\n",
       "      <td>NaN</td>\n",
       "      <td>2015-12-06 00:17:55 +0000</td>\n",
       "      <td>&lt;a href=\"http://twitter.com/download/iphone\" r...</td>\n",
       "      <td>Meet Eve. She's a raging alcoholic 8/10 (would...</td>\n",
       "      <td>NaN</td>\n",
       "      <td>NaN</td>\n",
       "      <td>NaN</td>\n",
       "      <td>https://twitter.com/dog_rates/status/673295268...</td>\n",
       "      <td>8</td>\n",
       "      <td>10</td>\n",
       "      <td>Eve</td>\n",
       "      <td>None</td>\n",
       "      <td>None</td>\n",
       "      <td>pupper</td>\n",
       "      <td>None</td>\n",
       "    </tr>\n",
       "    <tr>\n",
       "      <th>204</th>\n",
       "      <td>852936405516943360</td>\n",
       "      <td>NaN</td>\n",
       "      <td>NaN</td>\n",
       "      <td>2017-04-14 17:27:40 +0000</td>\n",
       "      <td>&lt;a href=\"http://twitter.com/download/iphone\" r...</td>\n",
       "      <td>RT @dog_rates: I usually only share these on F...</td>\n",
       "      <td>8.316501e+17</td>\n",
       "      <td>4.196984e+09</td>\n",
       "      <td>2017-02-14 23:43:18 +0000</td>\n",
       "      <td>http://www.gofundme.com/bluethewhitehusky,http...</td>\n",
       "      <td>13</td>\n",
       "      <td>10</td>\n",
       "      <td>None</td>\n",
       "      <td>None</td>\n",
       "      <td>None</td>\n",
       "      <td>None</td>\n",
       "      <td>None</td>\n",
       "    </tr>\n",
       "    <tr>\n",
       "      <th>1114</th>\n",
       "      <td>732732193018155009</td>\n",
       "      <td>NaN</td>\n",
       "      <td>NaN</td>\n",
       "      <td>2016-05-18 00:39:02 +0000</td>\n",
       "      <td>&lt;a href=\"http://twitter.com/download/iphone\" r...</td>\n",
       "      <td>This is Ralpher. He's an East Guinean Flop Dog...</td>\n",
       "      <td>NaN</td>\n",
       "      <td>NaN</td>\n",
       "      <td>NaN</td>\n",
       "      <td>https://twitter.com/dog_rates/status/732732193...</td>\n",
       "      <td>12</td>\n",
       "      <td>10</td>\n",
       "      <td>Ralpher</td>\n",
       "      <td>None</td>\n",
       "      <td>None</td>\n",
       "      <td>None</td>\n",
       "      <td>None</td>\n",
       "    </tr>\n",
       "    <tr>\n",
       "      <th>1836</th>\n",
       "      <td>676098748976615425</td>\n",
       "      <td>NaN</td>\n",
       "      <td>NaN</td>\n",
       "      <td>2015-12-13 17:57:57 +0000</td>\n",
       "      <td>&lt;a href=\"http://twitter.com/download/iphone\" r...</td>\n",
       "      <td>Extremely rare pup here. Very religious. Alway...</td>\n",
       "      <td>NaN</td>\n",
       "      <td>NaN</td>\n",
       "      <td>NaN</td>\n",
       "      <td>https://twitter.com/dog_rates/status/676098748...</td>\n",
       "      <td>3</td>\n",
       "      <td>10</td>\n",
       "      <td>None</td>\n",
       "      <td>None</td>\n",
       "      <td>None</td>\n",
       "      <td>None</td>\n",
       "      <td>None</td>\n",
       "    </tr>\n",
       "    <tr>\n",
       "      <th>254</th>\n",
       "      <td>844580511645339650</td>\n",
       "      <td>NaN</td>\n",
       "      <td>NaN</td>\n",
       "      <td>2017-03-22 16:04:20 +0000</td>\n",
       "      <td>&lt;a href=\"http://twitter.com/download/iphone\" r...</td>\n",
       "      <td>This is Charlie. He wants to know if you have ...</td>\n",
       "      <td>NaN</td>\n",
       "      <td>NaN</td>\n",
       "      <td>NaN</td>\n",
       "      <td>https://twitter.com/dog_rates/status/844580511...</td>\n",
       "      <td>11</td>\n",
       "      <td>10</td>\n",
       "      <td>Charlie</td>\n",
       "      <td>None</td>\n",
       "      <td>None</td>\n",
       "      <td>None</td>\n",
       "      <td>None</td>\n",
       "    </tr>\n",
       "    <tr>\n",
       "      <th>569</th>\n",
       "      <td>801958328846974976</td>\n",
       "      <td>NaN</td>\n",
       "      <td>NaN</td>\n",
       "      <td>2016-11-25 01:18:59 +0000</td>\n",
       "      <td>&lt;a href=\"http://twitter.com/download/iphone\" r...</td>\n",
       "      <td>This is Ronnie. He hopes you're having a great...</td>\n",
       "      <td>NaN</td>\n",
       "      <td>NaN</td>\n",
       "      <td>NaN</td>\n",
       "      <td>https://twitter.com/dog_rates/status/801958328...</td>\n",
       "      <td>12</td>\n",
       "      <td>10</td>\n",
       "      <td>Ronnie</td>\n",
       "      <td>None</td>\n",
       "      <td>None</td>\n",
       "      <td>None</td>\n",
       "      <td>None</td>\n",
       "    </tr>\n",
       "    <tr>\n",
       "      <th>299</th>\n",
       "      <td>836989968035819520</td>\n",
       "      <td>NaN</td>\n",
       "      <td>NaN</td>\n",
       "      <td>2017-03-01 17:22:13 +0000</td>\n",
       "      <td>&lt;a href=\"http://twitter.com/download/iphone\" r...</td>\n",
       "      <td>This is Mookie. He really enjoys shopping but ...</td>\n",
       "      <td>NaN</td>\n",
       "      <td>NaN</td>\n",
       "      <td>NaN</td>\n",
       "      <td>https://twitter.com/dog_rates/status/836989968...</td>\n",
       "      <td>12</td>\n",
       "      <td>10</td>\n",
       "      <td>Mookie</td>\n",
       "      <td>None</td>\n",
       "      <td>None</td>\n",
       "      <td>None</td>\n",
       "      <td>None</td>\n",
       "    </tr>\n",
       "    <tr>\n",
       "      <th>2040</th>\n",
       "      <td>671544874165002241</td>\n",
       "      <td>NaN</td>\n",
       "      <td>NaN</td>\n",
       "      <td>2015-12-01 04:22:29 +0000</td>\n",
       "      <td>&lt;a href=\"http://twitter.com/download/iphone\" r...</td>\n",
       "      <td>Interesting dog here. Very large. Purple. Mani...</td>\n",
       "      <td>NaN</td>\n",
       "      <td>NaN</td>\n",
       "      <td>NaN</td>\n",
       "      <td>https://twitter.com/dog_rates/status/671544874...</td>\n",
       "      <td>6</td>\n",
       "      <td>10</td>\n",
       "      <td>None</td>\n",
       "      <td>None</td>\n",
       "      <td>None</td>\n",
       "      <td>None</td>\n",
       "      <td>None</td>\n",
       "    </tr>\n",
       "    <tr>\n",
       "      <th>1386</th>\n",
       "      <td>700518061187723268</td>\n",
       "      <td>NaN</td>\n",
       "      <td>NaN</td>\n",
       "      <td>2016-02-19 03:11:35 +0000</td>\n",
       "      <td>&lt;a href=\"http://twitter.com/download/iphone\" r...</td>\n",
       "      <td>This is Vincent. He's the man your girl is wit...</td>\n",
       "      <td>NaN</td>\n",
       "      <td>NaN</td>\n",
       "      <td>NaN</td>\n",
       "      <td>https://twitter.com/dog_rates/status/700518061...</td>\n",
       "      <td>10</td>\n",
       "      <td>10</td>\n",
       "      <td>Vincent</td>\n",
       "      <td>None</td>\n",
       "      <td>None</td>\n",
       "      <td>None</td>\n",
       "      <td>None</td>\n",
       "    </tr>\n",
       "    <tr>\n",
       "      <th>1493</th>\n",
       "      <td>692752401762250755</td>\n",
       "      <td>NaN</td>\n",
       "      <td>NaN</td>\n",
       "      <td>2016-01-28 16:53:37 +0000</td>\n",
       "      <td>&lt;a href=\"http://twitter.com/download/iphone\" r...</td>\n",
       "      <td>\"Hello yes could I get one pupper to go please...</td>\n",
       "      <td>NaN</td>\n",
       "      <td>NaN</td>\n",
       "      <td>NaN</td>\n",
       "      <td>https://twitter.com/dog_rates/status/692752401...</td>\n",
       "      <td>13</td>\n",
       "      <td>10</td>\n",
       "      <td>None</td>\n",
       "      <td>None</td>\n",
       "      <td>None</td>\n",
       "      <td>pupper</td>\n",
       "      <td>None</td>\n",
       "    </tr>\n",
       "    <tr>\n",
       "      <th>822</th>\n",
       "      <td>770093767776997377</td>\n",
       "      <td>NaN</td>\n",
       "      <td>NaN</td>\n",
       "      <td>2016-08-29 03:00:36 +0000</td>\n",
       "      <td>&lt;a href=\"http://twitter.com/download/iphone\" r...</td>\n",
       "      <td>RT @dog_rates: This is just downright precious...</td>\n",
       "      <td>7.410673e+17</td>\n",
       "      <td>4.196984e+09</td>\n",
       "      <td>2016-06-10 00:39:48 +0000</td>\n",
       "      <td>https://twitter.com/dog_rates/status/741067306...</td>\n",
       "      <td>12</td>\n",
       "      <td>10</td>\n",
       "      <td>just</td>\n",
       "      <td>doggo</td>\n",
       "      <td>None</td>\n",
       "      <td>pupper</td>\n",
       "      <td>None</td>\n",
       "    </tr>\n",
       "    <tr>\n",
       "      <th>1662</th>\n",
       "      <td>682962037429899265</td>\n",
       "      <td>NaN</td>\n",
       "      <td>NaN</td>\n",
       "      <td>2016-01-01 16:30:13 +0000</td>\n",
       "      <td>&lt;a href=\"http://twitter.com/download/iphone\" r...</td>\n",
       "      <td>This is Darrel. He just robbed a 7/11 and is i...</td>\n",
       "      <td>NaN</td>\n",
       "      <td>NaN</td>\n",
       "      <td>NaN</td>\n",
       "      <td>https://twitter.com/dog_rates/status/682962037...</td>\n",
       "      <td>7</td>\n",
       "      <td>11</td>\n",
       "      <td>Darrel</td>\n",
       "      <td>None</td>\n",
       "      <td>None</td>\n",
       "      <td>None</td>\n",
       "      <td>None</td>\n",
       "    </tr>\n",
       "    <tr>\n",
       "      <th>333</th>\n",
       "      <td>832757312314028032</td>\n",
       "      <td>NaN</td>\n",
       "      <td>NaN</td>\n",
       "      <td>2017-02-18 01:03:09 +0000</td>\n",
       "      <td>&lt;a href=\"http://twitter.com/download/iphone\" r...</td>\n",
       "      <td>This is Willow. She's the official strawberry ...</td>\n",
       "      <td>NaN</td>\n",
       "      <td>NaN</td>\n",
       "      <td>NaN</td>\n",
       "      <td>https://twitter.com/dog_rates/status/832757312...</td>\n",
       "      <td>13</td>\n",
       "      <td>10</td>\n",
       "      <td>Willow</td>\n",
       "      <td>None</td>\n",
       "      <td>None</td>\n",
       "      <td>None</td>\n",
       "      <td>None</td>\n",
       "    </tr>\n",
       "    <tr>\n",
       "      <th>1781</th>\n",
       "      <td>677698403548192770</td>\n",
       "      <td>NaN</td>\n",
       "      <td>NaN</td>\n",
       "      <td>2015-12-18 03:54:25 +0000</td>\n",
       "      <td>&lt;a href=\"http://twitter.com/download/iphone\" r...</td>\n",
       "      <td>This is Sadie. She got her holidays confused. ...</td>\n",
       "      <td>NaN</td>\n",
       "      <td>NaN</td>\n",
       "      <td>NaN</td>\n",
       "      <td>https://twitter.com/dog_rates/status/677698403...</td>\n",
       "      <td>9</td>\n",
       "      <td>10</td>\n",
       "      <td>Sadie</td>\n",
       "      <td>None</td>\n",
       "      <td>None</td>\n",
       "      <td>None</td>\n",
       "      <td>None</td>\n",
       "    </tr>\n",
       "  </tbody>\n",
       "</table>\n",
       "</div>"
      ],
      "text/plain": [
       "                tweet_id  in_reply_to_status_id  in_reply_to_user_id  \\\n",
       "1931  674036086168010753                    NaN                  NaN   \n",
       "1970  673295268553605120                    NaN                  NaN   \n",
       "204   852936405516943360                    NaN                  NaN   \n",
       "1114  732732193018155009                    NaN                  NaN   \n",
       "1836  676098748976615425                    NaN                  NaN   \n",
       "254   844580511645339650                    NaN                  NaN   \n",
       "569   801958328846974976                    NaN                  NaN   \n",
       "299   836989968035819520                    NaN                  NaN   \n",
       "2040  671544874165002241                    NaN                  NaN   \n",
       "1386  700518061187723268                    NaN                  NaN   \n",
       "1493  692752401762250755                    NaN                  NaN   \n",
       "822   770093767776997377                    NaN                  NaN   \n",
       "1662  682962037429899265                    NaN                  NaN   \n",
       "333   832757312314028032                    NaN                  NaN   \n",
       "1781  677698403548192770                    NaN                  NaN   \n",
       "\n",
       "                      timestamp  \\\n",
       "1931  2015-12-08 01:21:40 +0000   \n",
       "1970  2015-12-06 00:17:55 +0000   \n",
       "204   2017-04-14 17:27:40 +0000   \n",
       "1114  2016-05-18 00:39:02 +0000   \n",
       "1836  2015-12-13 17:57:57 +0000   \n",
       "254   2017-03-22 16:04:20 +0000   \n",
       "569   2016-11-25 01:18:59 +0000   \n",
       "299   2017-03-01 17:22:13 +0000   \n",
       "2040  2015-12-01 04:22:29 +0000   \n",
       "1386  2016-02-19 03:11:35 +0000   \n",
       "1493  2016-01-28 16:53:37 +0000   \n",
       "822   2016-08-29 03:00:36 +0000   \n",
       "1662  2016-01-01 16:30:13 +0000   \n",
       "333   2017-02-18 01:03:09 +0000   \n",
       "1781  2015-12-18 03:54:25 +0000   \n",
       "\n",
       "                                                 source  \\\n",
       "1931  <a href=\"http://twitter.com/download/iphone\" r...   \n",
       "1970  <a href=\"http://twitter.com/download/iphone\" r...   \n",
       "204   <a href=\"http://twitter.com/download/iphone\" r...   \n",
       "1114  <a href=\"http://twitter.com/download/iphone\" r...   \n",
       "1836  <a href=\"http://twitter.com/download/iphone\" r...   \n",
       "254   <a href=\"http://twitter.com/download/iphone\" r...   \n",
       "569   <a href=\"http://twitter.com/download/iphone\" r...   \n",
       "299   <a href=\"http://twitter.com/download/iphone\" r...   \n",
       "2040  <a href=\"http://twitter.com/download/iphone\" r...   \n",
       "1386  <a href=\"http://twitter.com/download/iphone\" r...   \n",
       "1493  <a href=\"http://twitter.com/download/iphone\" r...   \n",
       "822   <a href=\"http://twitter.com/download/iphone\" r...   \n",
       "1662  <a href=\"http://twitter.com/download/iphone\" r...   \n",
       "333   <a href=\"http://twitter.com/download/iphone\" r...   \n",
       "1781  <a href=\"http://twitter.com/download/iphone\" r...   \n",
       "\n",
       "                                                   text  retweeted_status_id  \\\n",
       "1931  Meet Daisy. She has no eyes &amp; her face has...                  NaN   \n",
       "1970  Meet Eve. She's a raging alcoholic 8/10 (would...                  NaN   \n",
       "204   RT @dog_rates: I usually only share these on F...         8.316501e+17   \n",
       "1114  This is Ralpher. He's an East Guinean Flop Dog...                  NaN   \n",
       "1836  Extremely rare pup here. Very religious. Alway...                  NaN   \n",
       "254   This is Charlie. He wants to know if you have ...                  NaN   \n",
       "569   This is Ronnie. He hopes you're having a great...                  NaN   \n",
       "299   This is Mookie. He really enjoys shopping but ...                  NaN   \n",
       "2040  Interesting dog here. Very large. Purple. Mani...                  NaN   \n",
       "1386  This is Vincent. He's the man your girl is wit...                  NaN   \n",
       "1493  \"Hello yes could I get one pupper to go please...                  NaN   \n",
       "822   RT @dog_rates: This is just downright precious...         7.410673e+17   \n",
       "1662  This is Darrel. He just robbed a 7/11 and is i...                  NaN   \n",
       "333   This is Willow. She's the official strawberry ...                  NaN   \n",
       "1781  This is Sadie. She got her holidays confused. ...                  NaN   \n",
       "\n",
       "      retweeted_status_user_id retweeted_status_timestamp  \\\n",
       "1931                       NaN                        NaN   \n",
       "1970                       NaN                        NaN   \n",
       "204               4.196984e+09  2017-02-14 23:43:18 +0000   \n",
       "1114                       NaN                        NaN   \n",
       "1836                       NaN                        NaN   \n",
       "254                        NaN                        NaN   \n",
       "569                        NaN                        NaN   \n",
       "299                        NaN                        NaN   \n",
       "2040                       NaN                        NaN   \n",
       "1386                       NaN                        NaN   \n",
       "1493                       NaN                        NaN   \n",
       "822               4.196984e+09  2016-06-10 00:39:48 +0000   \n",
       "1662                       NaN                        NaN   \n",
       "333                        NaN                        NaN   \n",
       "1781                       NaN                        NaN   \n",
       "\n",
       "                                          expanded_urls  rating_numerator  \\\n",
       "1931  https://twitter.com/dog_rates/status/674036086...                 9   \n",
       "1970  https://twitter.com/dog_rates/status/673295268...                 8   \n",
       "204   http://www.gofundme.com/bluethewhitehusky,http...                13   \n",
       "1114  https://twitter.com/dog_rates/status/732732193...                12   \n",
       "1836  https://twitter.com/dog_rates/status/676098748...                 3   \n",
       "254   https://twitter.com/dog_rates/status/844580511...                11   \n",
       "569   https://twitter.com/dog_rates/status/801958328...                12   \n",
       "299   https://twitter.com/dog_rates/status/836989968...                12   \n",
       "2040  https://twitter.com/dog_rates/status/671544874...                 6   \n",
       "1386  https://twitter.com/dog_rates/status/700518061...                10   \n",
       "1493  https://twitter.com/dog_rates/status/692752401...                13   \n",
       "822   https://twitter.com/dog_rates/status/741067306...                12   \n",
       "1662  https://twitter.com/dog_rates/status/682962037...                 7   \n",
       "333   https://twitter.com/dog_rates/status/832757312...                13   \n",
       "1781  https://twitter.com/dog_rates/status/677698403...                 9   \n",
       "\n",
       "      rating_denominator     name  doggo floofer  pupper puppo  \n",
       "1931                  10    Daisy   None    None    None  None  \n",
       "1970                  10      Eve   None    None  pupper  None  \n",
       "204                   10     None   None    None    None  None  \n",
       "1114                  10  Ralpher   None    None    None  None  \n",
       "1836                  10     None   None    None    None  None  \n",
       "254                   10  Charlie   None    None    None  None  \n",
       "569                   10   Ronnie   None    None    None  None  \n",
       "299                   10   Mookie   None    None    None  None  \n",
       "2040                  10     None   None    None    None  None  \n",
       "1386                  10  Vincent   None    None    None  None  \n",
       "1493                  10     None   None    None  pupper  None  \n",
       "822                   10     just  doggo    None  pupper  None  \n",
       "1662                  11   Darrel   None    None    None  None  \n",
       "333                   10   Willow   None    None    None  None  \n",
       "1781                  10    Sadie   None    None    None  None  "
      ]
     },
     "execution_count": 33,
     "metadata": {},
     "output_type": "execute_result"
    }
   ],
   "source": [
    "\n",
    "df1.sample(15)"
   ]
  },
  {
   "cell_type": "code",
   "execution_count": 34,
   "metadata": {},
   "outputs": [
    {
     "data": {
      "text/html": [
       "<div>\n",
       "<style scoped>\n",
       "    .dataframe tbody tr th:only-of-type {\n",
       "        vertical-align: middle;\n",
       "    }\n",
       "\n",
       "    .dataframe tbody tr th {\n",
       "        vertical-align: top;\n",
       "    }\n",
       "\n",
       "    .dataframe thead th {\n",
       "        text-align: right;\n",
       "    }\n",
       "</style>\n",
       "<table border=\"1\" class=\"dataframe\">\n",
       "  <thead>\n",
       "    <tr style=\"text-align: right;\">\n",
       "      <th></th>\n",
       "      <th>tweet_id</th>\n",
       "      <th>in_reply_to_status_id</th>\n",
       "      <th>in_reply_to_user_id</th>\n",
       "      <th>retweeted_status_id</th>\n",
       "      <th>retweeted_status_user_id</th>\n",
       "      <th>rating_numerator</th>\n",
       "      <th>rating_denominator</th>\n",
       "    </tr>\n",
       "  </thead>\n",
       "  <tbody>\n",
       "    <tr>\n",
       "      <th>count</th>\n",
       "      <td>2.356000e+03</td>\n",
       "      <td>7.800000e+01</td>\n",
       "      <td>7.800000e+01</td>\n",
       "      <td>1.810000e+02</td>\n",
       "      <td>1.810000e+02</td>\n",
       "      <td>2356.000000</td>\n",
       "      <td>2356.000000</td>\n",
       "    </tr>\n",
       "    <tr>\n",
       "      <th>mean</th>\n",
       "      <td>7.427716e+17</td>\n",
       "      <td>7.455079e+17</td>\n",
       "      <td>2.014171e+16</td>\n",
       "      <td>7.720400e+17</td>\n",
       "      <td>1.241698e+16</td>\n",
       "      <td>13.126486</td>\n",
       "      <td>10.455433</td>\n",
       "    </tr>\n",
       "    <tr>\n",
       "      <th>std</th>\n",
       "      <td>6.856705e+16</td>\n",
       "      <td>7.582492e+16</td>\n",
       "      <td>1.252797e+17</td>\n",
       "      <td>6.236928e+16</td>\n",
       "      <td>9.599254e+16</td>\n",
       "      <td>45.876648</td>\n",
       "      <td>6.745237</td>\n",
       "    </tr>\n",
       "    <tr>\n",
       "      <th>min</th>\n",
       "      <td>6.660209e+17</td>\n",
       "      <td>6.658147e+17</td>\n",
       "      <td>1.185634e+07</td>\n",
       "      <td>6.661041e+17</td>\n",
       "      <td>7.832140e+05</td>\n",
       "      <td>0.000000</td>\n",
       "      <td>0.000000</td>\n",
       "    </tr>\n",
       "    <tr>\n",
       "      <th>25%</th>\n",
       "      <td>6.783989e+17</td>\n",
       "      <td>6.757419e+17</td>\n",
       "      <td>3.086374e+08</td>\n",
       "      <td>7.186315e+17</td>\n",
       "      <td>4.196984e+09</td>\n",
       "      <td>10.000000</td>\n",
       "      <td>10.000000</td>\n",
       "    </tr>\n",
       "    <tr>\n",
       "      <th>50%</th>\n",
       "      <td>7.196279e+17</td>\n",
       "      <td>7.038708e+17</td>\n",
       "      <td>4.196984e+09</td>\n",
       "      <td>7.804657e+17</td>\n",
       "      <td>4.196984e+09</td>\n",
       "      <td>11.000000</td>\n",
       "      <td>10.000000</td>\n",
       "    </tr>\n",
       "    <tr>\n",
       "      <th>75%</th>\n",
       "      <td>7.993373e+17</td>\n",
       "      <td>8.257804e+17</td>\n",
       "      <td>4.196984e+09</td>\n",
       "      <td>8.203146e+17</td>\n",
       "      <td>4.196984e+09</td>\n",
       "      <td>12.000000</td>\n",
       "      <td>10.000000</td>\n",
       "    </tr>\n",
       "    <tr>\n",
       "      <th>max</th>\n",
       "      <td>8.924206e+17</td>\n",
       "      <td>8.862664e+17</td>\n",
       "      <td>8.405479e+17</td>\n",
       "      <td>8.874740e+17</td>\n",
       "      <td>7.874618e+17</td>\n",
       "      <td>1776.000000</td>\n",
       "      <td>170.000000</td>\n",
       "    </tr>\n",
       "  </tbody>\n",
       "</table>\n",
       "</div>"
      ],
      "text/plain": [
       "           tweet_id  in_reply_to_status_id  in_reply_to_user_id  \\\n",
       "count  2.356000e+03           7.800000e+01         7.800000e+01   \n",
       "mean   7.427716e+17           7.455079e+17         2.014171e+16   \n",
       "std    6.856705e+16           7.582492e+16         1.252797e+17   \n",
       "min    6.660209e+17           6.658147e+17         1.185634e+07   \n",
       "25%    6.783989e+17           6.757419e+17         3.086374e+08   \n",
       "50%    7.196279e+17           7.038708e+17         4.196984e+09   \n",
       "75%    7.993373e+17           8.257804e+17         4.196984e+09   \n",
       "max    8.924206e+17           8.862664e+17         8.405479e+17   \n",
       "\n",
       "       retweeted_status_id  retweeted_status_user_id  rating_numerator  \\\n",
       "count         1.810000e+02              1.810000e+02       2356.000000   \n",
       "mean          7.720400e+17              1.241698e+16         13.126486   \n",
       "std           6.236928e+16              9.599254e+16         45.876648   \n",
       "min           6.661041e+17              7.832140e+05          0.000000   \n",
       "25%           7.186315e+17              4.196984e+09         10.000000   \n",
       "50%           7.804657e+17              4.196984e+09         11.000000   \n",
       "75%           8.203146e+17              4.196984e+09         12.000000   \n",
       "max           8.874740e+17              7.874618e+17       1776.000000   \n",
       "\n",
       "       rating_denominator  \n",
       "count         2356.000000  \n",
       "mean            10.455433  \n",
       "std              6.745237  \n",
       "min              0.000000  \n",
       "25%             10.000000  \n",
       "50%             10.000000  \n",
       "75%             10.000000  \n",
       "max            170.000000  "
      ]
     },
     "execution_count": 34,
     "metadata": {},
     "output_type": "execute_result"
    }
   ],
   "source": [
    "df1.describe()"
   ]
  },
  {
   "cell_type": "code",
   "execution_count": 35,
   "metadata": {
    "scrolled": true
   },
   "outputs": [
    {
     "name": "stdout",
     "output_type": "stream",
     "text": [
      "<class 'pandas.core.frame.DataFrame'>\n",
      "RangeIndex: 2356 entries, 0 to 2355\n",
      "Data columns (total 17 columns):\n",
      "tweet_id                      2356 non-null int64\n",
      "in_reply_to_status_id         78 non-null float64\n",
      "in_reply_to_user_id           78 non-null float64\n",
      "timestamp                     2356 non-null object\n",
      "source                        2356 non-null object\n",
      "text                          2356 non-null object\n",
      "retweeted_status_id           181 non-null float64\n",
      "retweeted_status_user_id      181 non-null float64\n",
      "retweeted_status_timestamp    181 non-null object\n",
      "expanded_urls                 2297 non-null object\n",
      "rating_numerator              2356 non-null int64\n",
      "rating_denominator            2356 non-null int64\n",
      "name                          2356 non-null object\n",
      "doggo                         2356 non-null object\n",
      "floofer                       2356 non-null object\n",
      "pupper                        2356 non-null object\n",
      "puppo                         2356 non-null object\n",
      "dtypes: float64(4), int64(3), object(10)\n",
      "memory usage: 313.0+ KB\n"
     ]
    }
   ],
   "source": [
    "df1.info()"
   ]
  },
  {
   "cell_type": "code",
   "execution_count": 36,
   "metadata": {},
   "outputs": [
    {
     "data": {
      "text/plain": [
       "0"
      ]
     },
     "execution_count": 36,
     "metadata": {},
     "output_type": "execute_result"
    }
   ],
   "source": [
    "sum(df1.duplicated())"
   ]
  },
  {
   "cell_type": "code",
   "execution_count": 37,
   "metadata": {},
   "outputs": [
    {
     "data": {
      "text/plain": [
       "<matplotlib.axes._subplots.AxesSubplot at 0x7fbeabd96b00>"
      ]
     },
     "execution_count": 37,
     "metadata": {},
     "output_type": "execute_result"
    },
    {
     "data": {
      "image/png": "[encoded data removed]",
      "text/plain": [
       "<matplotlib.figure.Figure at 0x7fbeabdfad68>"
      ]
     },
     "metadata": {
      "needs_background": "light"
     },
     "output_type": "display_data"
    }
   ],
   "source": [
    "sns.heatmap(df1.isnull())"
   ]
  },
  {
   "cell_type": "code",
   "execution_count": 38,
   "metadata": {},
   "outputs": [
    {
     "data": {
      "text/plain": [
       "<matplotlib.axes._subplots.AxesSubplot at 0x7fbeabc6d048>"
      ]
     },
     "execution_count": 38,
     "metadata": {},
     "output_type": "execute_result"
    },
    {
     "data": {
      "image/png": "[encoded data removed]",
      "text/plain": [
       "<matplotlib.figure.Figure at 0x7fbeabd006d8>"
      ]
     },
     "metadata": {
      "needs_background": "light"
     },
     "output_type": "display_data"
    }
   ],
   "source": [
    "sns.heatmap(df1.isna())"
   ]
  },
  {
   "cell_type": "code",
   "execution_count": 134,
   "metadata": {},
   "outputs": [
    {
     "data": {
      "text/plain": [
       "181"
      ]
     },
     "execution_count": 134,
     "metadata": {},
     "output_type": "execute_result"
    }
   ],
   "source": [
    "df1.retweeted_status_id.notnull().sum()"
   ]
  },
  {
   "cell_type": "markdown",
   "metadata": {},
   "source": [
    "### Twitter Image Predictions Data"
   ]
  },
  {
   "cell_type": "code",
   "execution_count": 39,
   "metadata": {},
   "outputs": [
    {
     "data": {
      "text/html": [
       "<div>\n",
       "<style scoped>\n",
       "    .dataframe tbody tr th:only-of-type {\n",
       "        vertical-align: middle;\n",
       "    }\n",
       "\n",
       "    .dataframe tbody tr th {\n",
       "        vertical-align: top;\n",
       "    }\n",
       "\n",
       "    .dataframe thead th {\n",
       "        text-align: right;\n",
       "    }\n",
       "</style>\n",
       "<table border=\"1\" class=\"dataframe\">\n",
       "  <thead>\n",
       "    <tr style=\"text-align: right;\">\n",
       "      <th></th>\n",
       "      <th>tweet_id</th>\n",
       "      <th>jpg_url</th>\n",
       "      <th>img_num</th>\n",
       "      <th>p1</th>\n",
       "      <th>p1_conf</th>\n",
       "      <th>p1_dog</th>\n",
       "      <th>p2</th>\n",
       "      <th>p2_conf</th>\n",
       "      <th>p2_dog</th>\n",
       "      <th>p3</th>\n",
       "      <th>p3_conf</th>\n",
       "      <th>p3_dog</th>\n",
       "    </tr>\n",
       "  </thead>\n",
       "  <tbody>\n",
       "    <tr>\n",
       "      <th>310</th>\n",
       "      <td>671542985629241344</td>\n",
       "      <td>https://pbs.twimg.com/media/CVHMyHMWwAALYXs.jpg</td>\n",
       "      <td>1</td>\n",
       "      <td>Shetland_sheepdog</td>\n",
       "      <td>0.980339</td>\n",
       "      <td>True</td>\n",
       "      <td>collie</td>\n",
       "      <td>0.006693</td>\n",
       "      <td>True</td>\n",
       "      <td>papillon</td>\n",
       "      <td>0.006157</td>\n",
       "      <td>True</td>\n",
       "    </tr>\n",
       "    <tr>\n",
       "      <th>711</th>\n",
       "      <td>685315239903100929</td>\n",
       "      <td>https://pbs.twimg.com/media/CYK6kf0WMAAzP-0.jpg</td>\n",
       "      <td>2</td>\n",
       "      <td>chow</td>\n",
       "      <td>0.470162</td>\n",
       "      <td>True</td>\n",
       "      <td>Pomeranian</td>\n",
       "      <td>0.159677</td>\n",
       "      <td>True</td>\n",
       "      <td>Eskimo_dog</td>\n",
       "      <td>0.105074</td>\n",
       "      <td>True</td>\n",
       "    </tr>\n",
       "    <tr>\n",
       "      <th>1342</th>\n",
       "      <td>758854675097526272</td>\n",
       "      <td>https://pbs.twimg.com/media/Cof-SuqVYAAs4kZ.jpg</td>\n",
       "      <td>4</td>\n",
       "      <td>barrow</td>\n",
       "      <td>0.974047</td>\n",
       "      <td>False</td>\n",
       "      <td>Old_English_sheepdog</td>\n",
       "      <td>0.023791</td>\n",
       "      <td>True</td>\n",
       "      <td>komondor</td>\n",
       "      <td>0.001246</td>\n",
       "      <td>True</td>\n",
       "    </tr>\n",
       "    <tr>\n",
       "      <th>608</th>\n",
       "      <td>680070545539371008</td>\n",
       "      <td>https://pbs.twimg.com/media/CW-dU34WQAANBGy.jpg</td>\n",
       "      <td>1</td>\n",
       "      <td>earthstar</td>\n",
       "      <td>0.127701</td>\n",
       "      <td>False</td>\n",
       "      <td>Shih-Tzu</td>\n",
       "      <td>0.121811</td>\n",
       "      <td>True</td>\n",
       "      <td>bubble</td>\n",
       "      <td>0.117820</td>\n",
       "      <td>False</td>\n",
       "    </tr>\n",
       "    <tr>\n",
       "      <th>1893</th>\n",
       "      <td>849412302885593088</td>\n",
       "      <td>https://pbs.twimg.com/media/C8m3-iQVoAAETnF.jpg</td>\n",
       "      <td>4</td>\n",
       "      <td>schipperke</td>\n",
       "      <td>0.907559</td>\n",
       "      <td>True</td>\n",
       "      <td>crossword_puzzle</td>\n",
       "      <td>0.017934</td>\n",
       "      <td>False</td>\n",
       "      <td>Chihuahua</td>\n",
       "      <td>0.016191</td>\n",
       "      <td>True</td>\n",
       "    </tr>\n",
       "    <tr>\n",
       "      <th>139</th>\n",
       "      <td>668542336805281792</td>\n",
       "      <td>https://pbs.twimg.com/media/CUcjtL8WUAAAJoz.jpg</td>\n",
       "      <td>1</td>\n",
       "      <td>American_Staffordshire_terrier</td>\n",
       "      <td>0.267695</td>\n",
       "      <td>True</td>\n",
       "      <td>French_bulldog</td>\n",
       "      <td>0.254050</td>\n",
       "      <td>True</td>\n",
       "      <td>Staffordshire_bullterrier</td>\n",
       "      <td>0.212381</td>\n",
       "      <td>True</td>\n",
       "    </tr>\n",
       "    <tr>\n",
       "      <th>1797</th>\n",
       "      <td>831552930092285952</td>\n",
       "      <td>https://pbs.twimg.com/media/C4pE-I0WQAABveu.jpg</td>\n",
       "      <td>1</td>\n",
       "      <td>Chihuahua</td>\n",
       "      <td>0.257415</td>\n",
       "      <td>True</td>\n",
       "      <td>Pembroke</td>\n",
       "      <td>0.161442</td>\n",
       "      <td>True</td>\n",
       "      <td>French_bulldog</td>\n",
       "      <td>0.092143</td>\n",
       "      <td>True</td>\n",
       "    </tr>\n",
       "    <tr>\n",
       "      <th>1050</th>\n",
       "      <td>713900603437621249</td>\n",
       "      <td>https://pbs.twimg.com/media/CehIzzZWQAEyHH5.jpg</td>\n",
       "      <td>1</td>\n",
       "      <td>golden_retriever</td>\n",
       "      <td>0.371816</td>\n",
       "      <td>True</td>\n",
       "      <td>cocker_spaniel</td>\n",
       "      <td>0.177413</td>\n",
       "      <td>True</td>\n",
       "      <td>Irish_setter</td>\n",
       "      <td>0.092725</td>\n",
       "      <td>True</td>\n",
       "    </tr>\n",
       "    <tr>\n",
       "      <th>237</th>\n",
       "      <td>670433248821026816</td>\n",
       "      <td>https://pbs.twimg.com/media/CU3be0SWEAEqb7I.jpg</td>\n",
       "      <td>1</td>\n",
       "      <td>window_shade</td>\n",
       "      <td>0.583427</td>\n",
       "      <td>False</td>\n",
       "      <td>giant_schnauzer</td>\n",
       "      <td>0.062215</td>\n",
       "      <td>True</td>\n",
       "      <td>window_screen</td>\n",
       "      <td>0.039941</td>\n",
       "      <td>False</td>\n",
       "    </tr>\n",
       "    <tr>\n",
       "      <th>1434</th>\n",
       "      <td>773670353721753600</td>\n",
       "      <td>https://pbs.twimg.com/media/CryhFC0XEAA9wp_.jpg</td>\n",
       "      <td>1</td>\n",
       "      <td>Old_English_sheepdog</td>\n",
       "      <td>0.969311</td>\n",
       "      <td>True</td>\n",
       "      <td>Maltese_dog</td>\n",
       "      <td>0.013243</td>\n",
       "      <td>True</td>\n",
       "      <td>soft-coated_wheaten_terrier</td>\n",
       "      <td>0.004857</td>\n",
       "      <td>True</td>\n",
       "    </tr>\n",
       "    <tr>\n",
       "      <th>26</th>\n",
       "      <td>666373753744588802</td>\n",
       "      <td>https://pbs.twimg.com/media/CT9vZEYWUAAlZ05.jpg</td>\n",
       "      <td>1</td>\n",
       "      <td>soft-coated_wheaten_terrier</td>\n",
       "      <td>0.326467</td>\n",
       "      <td>True</td>\n",
       "      <td>Afghan_hound</td>\n",
       "      <td>0.259551</td>\n",
       "      <td>True</td>\n",
       "      <td>briard</td>\n",
       "      <td>0.206803</td>\n",
       "      <td>True</td>\n",
       "    </tr>\n",
       "    <tr>\n",
       "      <th>452</th>\n",
       "      <td>674752233200820224</td>\n",
       "      <td>https://pbs.twimg.com/media/CV0zkzEU4AAzLc5.jpg</td>\n",
       "      <td>2</td>\n",
       "      <td>vizsla</td>\n",
       "      <td>0.665516</td>\n",
       "      <td>True</td>\n",
       "      <td>redbone</td>\n",
       "      <td>0.173366</td>\n",
       "      <td>True</td>\n",
       "      <td>basset</td>\n",
       "      <td>0.134783</td>\n",
       "      <td>True</td>\n",
       "    </tr>\n",
       "    <tr>\n",
       "      <th>979</th>\n",
       "      <td>707297311098011648</td>\n",
       "      <td>https://pbs.twimg.com/media/CdDTJLMW4AEST--.jpg</td>\n",
       "      <td>1</td>\n",
       "      <td>Blenheim_spaniel</td>\n",
       "      <td>0.370717</td>\n",
       "      <td>True</td>\n",
       "      <td>Shih-Tzu</td>\n",
       "      <td>0.201566</td>\n",
       "      <td>True</td>\n",
       "      <td>black-footed_ferret</td>\n",
       "      <td>0.101559</td>\n",
       "      <td>False</td>\n",
       "    </tr>\n",
       "    <tr>\n",
       "      <th>64</th>\n",
       "      <td>667171260800061440</td>\n",
       "      <td>https://pbs.twimg.com/media/CUJEuRIXIAAPDLt.jpg</td>\n",
       "      <td>1</td>\n",
       "      <td>giant_schnauzer</td>\n",
       "      <td>0.841265</td>\n",
       "      <td>True</td>\n",
       "      <td>Lakeland_terrier</td>\n",
       "      <td>0.052744</td>\n",
       "      <td>True</td>\n",
       "      <td>Irish_water_spaniel</td>\n",
       "      <td>0.034402</td>\n",
       "      <td>True</td>\n",
       "    </tr>\n",
       "    <tr>\n",
       "      <th>188</th>\n",
       "      <td>669371483794317312</td>\n",
       "      <td>https://pbs.twimg.com/media/CUoVz8rU8AAfW-c.jpg</td>\n",
       "      <td>1</td>\n",
       "      <td>Brabancon_griffon</td>\n",
       "      <td>0.483268</td>\n",
       "      <td>True</td>\n",
       "      <td>miniature_pinscher</td>\n",
       "      <td>0.307465</td>\n",
       "      <td>True</td>\n",
       "      <td>redbone</td>\n",
       "      <td>0.070524</td>\n",
       "      <td>True</td>\n",
       "    </tr>\n",
       "  </tbody>\n",
       "</table>\n",
       "</div>"
      ],
      "text/plain": [
       "                tweet_id                                          jpg_url  \\\n",
       "310   671542985629241344  https://pbs.twimg.com/media/CVHMyHMWwAALYXs.jpg   \n",
       "711   685315239903100929  https://pbs.twimg.com/media/CYK6kf0WMAAzP-0.jpg   \n",
       "1342  758854675097526272  https://pbs.twimg.com/media/Cof-SuqVYAAs4kZ.jpg   \n",
       "608   680070545539371008  https://pbs.twimg.com/media/CW-dU34WQAANBGy.jpg   \n",
       "1893  849412302885593088  https://pbs.twimg.com/media/C8m3-iQVoAAETnF.jpg   \n",
       "139   668542336805281792  https://pbs.twimg.com/media/CUcjtL8WUAAAJoz.jpg   \n",
       "1797  831552930092285952  https://pbs.twimg.com/media/C4pE-I0WQAABveu.jpg   \n",
       "1050  713900603437621249  https://pbs.twimg.com/media/CehIzzZWQAEyHH5.jpg   \n",
       "237   670433248821026816  https://pbs.twimg.com/media/CU3be0SWEAEqb7I.jpg   \n",
       "1434  773670353721753600  https://pbs.twimg.com/media/CryhFC0XEAA9wp_.jpg   \n",
       "26    666373753744588802  https://pbs.twimg.com/media/CT9vZEYWUAAlZ05.jpg   \n",
       "452   674752233200820224  https://pbs.twimg.com/media/CV0zkzEU4AAzLc5.jpg   \n",
       "979   707297311098011648  https://pbs.twimg.com/media/CdDTJLMW4AEST--.jpg   \n",
       "64    667171260800061440  https://pbs.twimg.com/media/CUJEuRIXIAAPDLt.jpg   \n",
       "188   669371483794317312  https://pbs.twimg.com/media/CUoVz8rU8AAfW-c.jpg   \n",
       "\n",
       "      img_num                              p1   p1_conf  p1_dog  \\\n",
       "310         1               Shetland_sheepdog  0.980339    True   \n",
       "711         2                            chow  0.470162    True   \n",
       "1342        4                          barrow  0.974047   False   \n",
       "608         1                       earthstar  0.127701   False   \n",
       "1893        4                      schipperke  0.907559    True   \n",
       "139         1  American_Staffordshire_terrier  0.267695    True   \n",
       "1797        1                       Chihuahua  0.257415    True   \n",
       "1050        1                golden_retriever  0.371816    True   \n",
       "237         1                    window_shade  0.583427   False   \n",
       "1434        1            Old_English_sheepdog  0.969311    True   \n",
       "26          1     soft-coated_wheaten_terrier  0.326467    True   \n",
       "452         2                          vizsla  0.665516    True   \n",
       "979         1                Blenheim_spaniel  0.370717    True   \n",
       "64          1                 giant_schnauzer  0.841265    True   \n",
       "188         1               Brabancon_griffon  0.483268    True   \n",
       "\n",
       "                        p2   p2_conf  p2_dog                           p3  \\\n",
       "310                 collie  0.006693    True                     papillon   \n",
       "711             Pomeranian  0.159677    True                   Eskimo_dog   \n",
       "1342  Old_English_sheepdog  0.023791    True                     komondor   \n",
       "608               Shih-Tzu  0.121811    True                       bubble   \n",
       "1893      crossword_puzzle  0.017934   False                    Chihuahua   \n",
       "139         French_bulldog  0.254050    True    Staffordshire_bullterrier   \n",
       "1797              Pembroke  0.161442    True               French_bulldog   \n",
       "1050        cocker_spaniel  0.177413    True                 Irish_setter   \n",
       "237        giant_schnauzer  0.062215    True                window_screen   \n",
       "1434           Maltese_dog  0.013243    True  soft-coated_wheaten_terrier   \n",
       "26            Afghan_hound  0.259551    True                       briard   \n",
       "452                redbone  0.173366    True                       basset   \n",
       "979               Shih-Tzu  0.201566    True          black-footed_ferret   \n",
       "64        Lakeland_terrier  0.052744    True          Irish_water_spaniel   \n",
       "188     miniature_pinscher  0.307465    True                      redbone   \n",
       "\n",
       "       p3_conf  p3_dog  \n",
       "310   0.006157    True  \n",
       "711   0.105074    True  \n",
       "1342  0.001246    True  \n",
       "608   0.117820   False  \n",
       "1893  0.016191    True  \n",
       "139   0.212381    True  \n",
       "1797  0.092143    True  \n",
       "1050  0.092725    True  \n",
       "237   0.039941   False  \n",
       "1434  0.004857    True  \n",
       "26    0.206803    True  \n",
       "452   0.134783    True  \n",
       "979   0.101559   False  \n",
       "64    0.034402    True  \n",
       "188   0.070524    True  "
      ]
     },
     "execution_count": 39,
     "metadata": {},
     "output_type": "execute_result"
    }
   ],
   "source": [
    "df2.sample(15)"
   ]
  },
  {
   "cell_type": "code",
   "execution_count": 40,
   "metadata": {},
   "outputs": [
    {
     "name": "stdout",
     "output_type": "stream",
     "text": [
      "<class 'pandas.core.frame.DataFrame'>\n",
      "RangeIndex: 2075 entries, 0 to 2074\n",
      "Data columns (total 12 columns):\n",
      "tweet_id    2075 non-null int64\n",
      "jpg_url     2075 non-null object\n",
      "img_num     2075 non-null int64\n",
      "p1          2075 non-null object\n",
      "p1_conf     2075 non-null float64\n",
      "p1_dog      2075 non-null bool\n",
      "p2          2075 non-null object\n",
      "p2_conf     2075 non-null float64\n",
      "p2_dog      2075 non-null bool\n",
      "p3          2075 non-null object\n",
      "p3_conf     2075 non-null float64\n",
      "p3_dog      2075 non-null bool\n",
      "dtypes: bool(3), float64(3), int64(2), object(4)\n",
      "memory usage: 152.1+ KB\n"
     ]
    }
   ],
   "source": [
    "df2.info()"
   ]
  },
  {
   "cell_type": "code",
   "execution_count": 41,
   "metadata": {},
   "outputs": [
    {
     "data": {
      "text/plain": [
       "0"
      ]
     },
     "execution_count": 41,
     "metadata": {},
     "output_type": "execute_result"
    }
   ],
   "source": [
    "sum(df2.duplicated())"
   ]
  },
  {
   "cell_type": "code",
   "execution_count": 42,
   "metadata": {},
   "outputs": [
    {
     "data": {
      "text/plain": [
       "<matplotlib.axes._subplots.AxesSubplot at 0x7fbeabcdca58>"
      ]
     },
     "execution_count": 42,
     "metadata": {},
     "output_type": "execute_result"
    },
    {
     "data": {
      "image/png": "[encoded data removed]",
      "text/plain": [
       "<matplotlib.figure.Figure at 0x7fbea91fc0b8>"
      ]
     },
     "metadata": {
      "needs_background": "light"
     },
     "output_type": "display_data"
    }
   ],
   "source": [
    "sns.heatmap(df2.isna())"
   ]
  },
  {
   "cell_type": "markdown",
   "metadata": {},
   "source": [
    "### Twitter api data"
   ]
  },
  {
   "cell_type": "code",
   "execution_count": 43,
   "metadata": {},
   "outputs": [
    {
     "data": {
      "text/html": [
       "<div>\n",
       "<style scoped>\n",
       "    .dataframe tbody tr th:only-of-type {\n",
       "        vertical-align: middle;\n",
       "    }\n",
       "\n",
       "    .dataframe tbody tr th {\n",
       "        vertical-align: top;\n",
       "    }\n",
       "\n",
       "    .dataframe thead th {\n",
       "        text-align: right;\n",
       "    }\n",
       "</style>\n",
       "<table border=\"1\" class=\"dataframe\">\n",
       "  <thead>\n",
       "    <tr style=\"text-align: right;\">\n",
       "      <th></th>\n",
       "      <th>tweet_id</th>\n",
       "      <th>retweets</th>\n",
       "      <th>favorites</th>\n",
       "      <th>user_followers</th>\n",
       "      <th>user_favourites</th>\n",
       "    </tr>\n",
       "  </thead>\n",
       "  <tbody>\n",
       "    <tr>\n",
       "      <th>273</th>\n",
       "      <td>838916489579200512</td>\n",
       "      <td>34</td>\n",
       "      <td>0</td>\n",
       "      <td>8855165</td>\n",
       "      <td>145874</td>\n",
       "    </tr>\n",
       "    <tr>\n",
       "      <th>149</th>\n",
       "      <td>861383897657036800</td>\n",
       "      <td>9934</td>\n",
       "      <td>34149</td>\n",
       "      <td>8855164</td>\n",
       "      <td>145874</td>\n",
       "    </tr>\n",
       "    <tr>\n",
       "      <th>2138</th>\n",
       "      <td>669375718304980992</td>\n",
       "      <td>678</td>\n",
       "      <td>1254</td>\n",
       "      <td>8854948</td>\n",
       "      <td>145874</td>\n",
       "    </tr>\n",
       "    <tr>\n",
       "      <th>1309</th>\n",
       "      <td>705442520700944385</td>\n",
       "      <td>1589</td>\n",
       "      <td>4347</td>\n",
       "      <td>8855186</td>\n",
       "      <td>145874</td>\n",
       "    </tr>\n",
       "    <tr>\n",
       "      <th>1006</th>\n",
       "      <td>745433870967832576</td>\n",
       "      <td>2489</td>\n",
       "      <td>6977</td>\n",
       "      <td>8855185</td>\n",
       "      <td>145874</td>\n",
       "    </tr>\n",
       "    <tr>\n",
       "      <th>2027</th>\n",
       "      <td>671486386088865792</td>\n",
       "      <td>183</td>\n",
       "      <td>549</td>\n",
       "      <td>8854947</td>\n",
       "      <td>145874</td>\n",
       "    </tr>\n",
       "    <tr>\n",
       "      <th>235</th>\n",
       "      <td>846042936437604353</td>\n",
       "      <td>2778</td>\n",
       "      <td>15654</td>\n",
       "      <td>8855165</td>\n",
       "      <td>145874</td>\n",
       "    </tr>\n",
       "    <tr>\n",
       "      <th>717</th>\n",
       "      <td>781163403222056960</td>\n",
       "      <td>2748</td>\n",
       "      <td>9827</td>\n",
       "      <td>8855171</td>\n",
       "      <td>145874</td>\n",
       "    </tr>\n",
       "    <tr>\n",
       "      <th>85</th>\n",
       "      <td>875747767867523072</td>\n",
       "      <td>3845</td>\n",
       "      <td>23352</td>\n",
       "      <td>8855163</td>\n",
       "      <td>145874</td>\n",
       "    </tr>\n",
       "    <tr>\n",
       "      <th>2102</th>\n",
       "      <td>670319130621435904</td>\n",
       "      <td>1143</td>\n",
       "      <td>3694</td>\n",
       "      <td>8854948</td>\n",
       "      <td>145874</td>\n",
       "    </tr>\n",
       "    <tr>\n",
       "      <th>942</th>\n",
       "      <td>750383411068534784</td>\n",
       "      <td>1132</td>\n",
       "      <td>4518</td>\n",
       "      <td>8855185</td>\n",
       "      <td>145874</td>\n",
       "    </tr>\n",
       "    <tr>\n",
       "      <th>1921</th>\n",
       "      <td>673705679337693185</td>\n",
       "      <td>388</td>\n",
       "      <td>1203</td>\n",
       "      <td>8854946</td>\n",
       "      <td>145874</td>\n",
       "    </tr>\n",
       "    <tr>\n",
       "      <th>1676</th>\n",
       "      <td>680959110691590145</td>\n",
       "      <td>1958</td>\n",
       "      <td>4488</td>\n",
       "      <td>8855187</td>\n",
       "      <td>145874</td>\n",
       "    </tr>\n",
       "    <tr>\n",
       "      <th>1394</th>\n",
       "      <td>698355670425473025</td>\n",
       "      <td>435</td>\n",
       "      <td>1816</td>\n",
       "      <td>8855186</td>\n",
       "      <td>145874</td>\n",
       "    </tr>\n",
       "    <tr>\n",
       "      <th>1237</th>\n",
       "      <td>710153181850935296</td>\n",
       "      <td>872</td>\n",
       "      <td>2856</td>\n",
       "      <td>8855186</td>\n",
       "      <td>145874</td>\n",
       "    </tr>\n",
       "  </tbody>\n",
       "</table>\n",
       "</div>"
      ],
      "text/plain": [
       "                tweet_id  retweets  favorites  user_followers  user_favourites\n",
       "273   838916489579200512        34          0         8855165           145874\n",
       "149   861383897657036800      9934      34149         8855164           145874\n",
       "2138  669375718304980992       678       1254         8854948           145874\n",
       "1309  705442520700944385      1589       4347         8855186           145874\n",
       "1006  745433870967832576      2489       6977         8855185           145874\n",
       "2027  671486386088865792       183        549         8854947           145874\n",
       "235   846042936437604353      2778      15654         8855165           145874\n",
       "717   781163403222056960      2748       9827         8855171           145874\n",
       "85    875747767867523072      3845      23352         8855163           145874\n",
       "2102  670319130621435904      1143       3694         8854948           145874\n",
       "942   750383411068534784      1132       4518         8855185           145874\n",
       "1921  673705679337693185       388       1203         8854946           145874\n",
       "1676  680959110691590145      1958       4488         8855187           145874\n",
       "1394  698355670425473025       435       1816         8855186           145874\n",
       "1237  710153181850935296       872       2856         8855186           145874"
      ]
     },
     "execution_count": 43,
     "metadata": {},
     "output_type": "execute_result"
    }
   ],
   "source": [
    "df3_final.sample(15)"
   ]
  },
  {
   "cell_type": "code",
   "execution_count": 44,
   "metadata": {},
   "outputs": [
    {
     "name": "stdout",
     "output_type": "stream",
     "text": [
      "<class 'pandas.core.frame.DataFrame'>\n",
      "RangeIndex: 2331 entries, 0 to 2330\n",
      "Data columns (total 5 columns):\n",
      "tweet_id           2331 non-null int64\n",
      "retweets           2331 non-null int64\n",
      "favorites          2331 non-null int64\n",
      "user_followers     2331 non-null int64\n",
      "user_favourites    2331 non-null int64\n",
      "dtypes: int64(5)\n",
      "memory usage: 91.1 KB\n"
     ]
    }
   ],
   "source": [
    "df3_final.info()"
   ]
  },
  {
   "cell_type": "code",
   "execution_count": 45,
   "metadata": {},
   "outputs": [
    {
     "data": {
      "text/plain": [
       "0"
      ]
     },
     "execution_count": 45,
     "metadata": {},
     "output_type": "execute_result"
    }
   ],
   "source": [
    "sum(df3_final.duplicated())"
   ]
  },
  {
   "cell_type": "code",
   "execution_count": 46,
   "metadata": {},
   "outputs": [
    {
     "data": {
      "text/plain": [
       "<matplotlib.axes._subplots.AxesSubplot at 0x7fbea9149e48>"
      ]
     },
     "execution_count": 46,
     "metadata": {},
     "output_type": "execute_result"
    },
    {
     "data": {
      "image/png": "[encoded data removed]",
      "text/plain": [
       "<matplotlib.figure.Figure at 0x7fbea91551d0>"
      ]
     },
     "metadata": {
      "needs_background": "light"
     },
     "output_type": "display_data"
    }
   ],
   "source": [
    "sns.heatmap(df3_final.isnull())"
   ]
  },
  {
   "cell_type": "markdown",
   "metadata": {},
   "source": [
    "### Assessment Of Quality"
   ]
  },
  {
   "cell_type": "markdown",
   "metadata": {},
   "source": [
    "#### df1 dataframe"
   ]
  },
  {
   "cell_type": "markdown",
   "metadata": {},
   "source": [
    "<ol>\n",
    "    <li>\n",
    "        <ul>\n",
    "            <li>Change the tweet_id to string object now its an integer</li>\n",
    "            <li>Change the columns like in_reply_to_status_id,in_reply_to_user_id,retweeted_status_id,retweeted_status_user_id to String object not it is in float datatype.</li>\n",
    "            <li>Change Timestamp,retweeted_status_timestamp to String.</li>\n",
    "        </ul>\n",
    "    <li> Providing appropritate names for the columns like text to \"tweet_text\", timestamp to \"tweet_timestamp\", name to \"dog_name\", rating_numerator to \"dog_score_outof10\" </li>\n",
    "    <li> Invalid values in both numerator and denominators</li>\n",
    "    <li>Provide the data with appropriate readable format for the column Source</li>\n",
    "    <li> Extrcating the day, month, year, dayoftheweek from the column timestamp which is used for time based analysis </li>\n",
    "    <li> Finding the gender of the dog by using the tweet_text by splitting the text with appropriate function</li>\n",
    "    <li>Removing unneeded columns</li>\n",
    "    </ol>\n"
   ]
  },
  {
   "cell_type": "markdown",
   "metadata": {},
   "source": [
    "#### df2 dataframe"
   ]
  },
  {
   "cell_type": "markdown",
   "metadata": {},
   "source": [
    "<ol>\n",
    "    <li> Appending the predicted dog name with its corresponding confidence interval value </li>\n",
    "</ol>"
   ]
  },
  {
   "cell_type": "markdown",
   "metadata": {},
   "source": [
    "#### df3_final dataframe"
   ]
  },
  {
   "cell_type": "markdown",
   "metadata": {},
   "source": [
    "<ol>\n",
    "    <li>user_favourites value is same for all rows, which seems incorrect </li>\n",
    "    <li>datetime should be of datatime datatype instead of string</li>\n",
    "</ol>"
   ]
  },
  {
   "cell_type": "markdown",
   "metadata": {},
   "source": [
    "### Assessment On Tidiness"
   ]
  },
  {
   "cell_type": "markdown",
   "metadata": {},
   "source": [
    "<ol>\n",
    "    <li> Combine and clean different dog stages (eg: pupper,doggo) columns into one using the function melt </li>\n",
    "    <li> Merge all the three dataset into a single dataset </li>\n",
    "<ol>"
   ]
  },
  {
   "cell_type": "markdown",
   "metadata": {},
   "source": [
    "<table>\n",
    "  <tr>\n",
    "    <th>Issue No</th>\n",
    "    <th>Description</th>\n",
    "    <th>Category</th>\n",
    "      <th> Dataframe</th>\n",
    "  </tr>\n",
    "  <tr>\n",
    "    <td>Issue 1</td>\n",
    "    <td>Change the datatype</td>\n",
    "    <td>Quality</td>\n",
    "      <td> df1</td>\n",
    "  <tr>\n",
    "    <td>Issue 2</td>\n",
    "    <td>Rename the column with appropriate names</td>\n",
    "    <td>Quality</td>\n",
    "    <td> df1</td>\n",
    "  </tr>\n",
    "  <tr>\n",
    "    <td>Issue 3</td>\n",
    "    <td>Remove the invalid data in both numerator & denominator of the ranking and making corrections in rating if it has any wrong data</td>\n",
    "    <td>Quality</td>\n",
    "    <td> df1</td>\n",
    "  </tr>\n",
    "  <tr>\n",
    "    <td>Issue 4</td>\n",
    "    <td>Alter the data into more readable form for the column source</td>\n",
    "    <td>Quality</td>\n",
    "    <td> df1</td>\n",
    "  </tr>\n",
    "  <tr>\n",
    "    <td>Issue 5</td>\n",
    "    <td>Extract day, month and year from timestamp column to do indepth analysis about time related findings</td>\n",
    "    <td>Quality</td>\n",
    "    <td> df1</td>\n",
    "  </tr>\n",
    "  <tr>\n",
    "    <td>Issue 6</td>\n",
    "    <td>Find the dog gender using tweet_text column</td>\n",
    "    <td>Quality</td>\n",
    "    <td> df1</td>\n",
    "  </tr>\n",
    "    <tr>\n",
    "    <td>Issue 7</td>\n",
    "    <td>Delete the column which has null and na</td>\n",
    "    <td>Quality</td>\n",
    "    <td> df1</td>\n",
    "  </tr>\n",
    "    <tr>\n",
    "    <td>Issue 8</td>\n",
    "    <td>Change columns \"doggo\", \"floofer\", \"pupper\", and \"puppo\" from wide to long format.</td>\n",
    "    <td>Tidiness</td>\n",
    "    <td> df1</td>\n",
    "  </tr>\n",
    "    <tr>\n",
    "    <td>Issue 9</td>\n",
    "    <td>Append dog predicted name with corresponding C.I value</td>\n",
    "    <td>Quality</td>\n",
    "    <td> df2</td>\n",
    "  </tr>\n",
    "    <tr>\n",
    "    <td>Issue 10</td>\n",
    "    <td>Change the datatype</td>\n",
    "    <td>Quality</td>\n",
    "    <td> df3_final</td>\n",
    "  </tr>\n",
    "    <tr>\n",
    "    <td>Issue 11</td>\n",
    "    <td>Remove unwanted columns in all dataframes</td>\n",
    "    <td>Quality</td>\n",
    "    <td> df1, df2, df3_final</td>\n",
    "  </tr>\n",
    "    <tr>\n",
    "    <td>Issue 12</td>\n",
    "    <td>Merge the dataframe</td>\n",
    "    <td>Tidiness</td>\n",
    "    <td> df1,df2, df3_final</td>\n",
    "  </tr>\n",
    "    <tr>\n",
    "    <td>Issue 13</td>\n",
    "    <td>Remove the Retweet records</td>\n",
    "    <td>Quality</td>\n",
    "    <td> df1</td>\n",
    "  </tr>\n",
    "    <tr>\n",
    "    <td>Issue 14</td>\n",
    "    <td>Reorder the structure of the final dataframe</td>\n",
    "    <td>Tidiness</td>\n",
    "    <td>tweet_final_clean</td>\n",
    "  </tr>\n",
    "</table>\n",
    "\n",
    "</body>\n",
    "</html>\n"
   ]
  },
  {
   "cell_type": "markdown",
   "metadata": {},
   "source": [
    "### Cleaning"
   ]
  },
  {
   "cell_type": "code",
   "execution_count": 220,
   "metadata": {},
   "outputs": [],
   "source": [
    "# taking the copy of each original dataset\n",
    "df1_clean = df1.copy()\n",
    "df2_clean = df2.copy()\n",
    "df3_final_clean = df3_final.copy()"
   ]
  },
  {
   "cell_type": "markdown",
   "metadata": {},
   "source": [
    "#### Define"
   ]
  },
  {
   "cell_type": "markdown",
   "metadata": {},
   "source": [
    "Issue 1 : Change the datatype"
   ]
  },
  {
   "cell_type": "markdown",
   "metadata": {},
   "source": [
    "#### Code"
   ]
  },
  {
   "cell_type": "code",
   "execution_count": 221,
   "metadata": {},
   "outputs": [],
   "source": [
    "df1_clean.tweet_id = df1.tweet_id.astype(str)\n",
    "df1_clean.in_reply_to_status_id = df1.in_reply_to_status_id.astype(str)\n",
    "df1_clean.in_reply_to_user_id = df1.in_reply_to_user_id.astype(str)\n",
    "df1_clean.retweeted_status_id = df1.retweeted_status_id.astype(str)\n",
    "df1_clean.retweeted_status_user_id = df1.retweeted_status_user_id.astype(str)\n",
    "\n",
    "df1_clean.timestamp = pd.to_datetime(df1.timestamp)\n",
    "df1_clean.retweeted_status_timestamp     = pd.to_datetime(df1.retweeted_status_timestamp)"
   ]
  },
  {
   "cell_type": "markdown",
   "metadata": {},
   "source": [
    "#### Test"
   ]
  },
  {
   "cell_type": "code",
   "execution_count": 222,
   "metadata": {},
   "outputs": [
    {
     "name": "stdout",
     "output_type": "stream",
     "text": [
      "<class 'pandas.core.frame.DataFrame'>\n",
      "RangeIndex: 2356 entries, 0 to 2355\n",
      "Data columns (total 17 columns):\n",
      "tweet_id                      2356 non-null object\n",
      "in_reply_to_status_id         2356 non-null object\n",
      "in_reply_to_user_id           2356 non-null object\n",
      "timestamp                     2356 non-null datetime64[ns]\n",
      "source                        2356 non-null object\n",
      "text                          2356 non-null object\n",
      "retweeted_status_id           2356 non-null object\n",
      "retweeted_status_user_id      2356 non-null object\n",
      "retweeted_status_timestamp    181 non-null datetime64[ns]\n",
      "expanded_urls                 2297 non-null object\n",
      "rating_numerator              2356 non-null int64\n",
      "rating_denominator            2356 non-null int64\n",
      "name                          2356 non-null object\n",
      "doggo                         2356 non-null object\n",
      "floofer                       2356 non-null object\n",
      "pupper                        2356 non-null object\n",
      "puppo                         2356 non-null object\n",
      "dtypes: datetime64[ns](2), int64(2), object(13)\n",
      "memory usage: 313.0+ KB\n"
     ]
    }
   ],
   "source": [
    "df1_clean.info()"
   ]
  },
  {
   "cell_type": "markdown",
   "metadata": {},
   "source": [
    "#### Define"
   ]
  },
  {
   "cell_type": "markdown",
   "metadata": {},
   "source": [
    "Issue 2:  Rename the column with appropriate names\t"
   ]
  },
  {
   "cell_type": "markdown",
   "metadata": {},
   "source": [
    "#### Code"
   ]
  },
  {
   "cell_type": "code",
   "execution_count": 223,
   "metadata": {},
   "outputs": [],
   "source": [
    "df1_clean.rename(columns={\"text\":\"tweet_text\",\"timestamp\":\"tweet_timestamp\",\"rating_numerator\":\"dog_score_outof10\",\"name\":\"dog_name\"},inplace=True)"
   ]
  },
  {
   "cell_type": "markdown",
   "metadata": {},
   "source": [
    "#### Test"
   ]
  },
  {
   "cell_type": "code",
   "execution_count": 224,
   "metadata": {},
   "outputs": [
    {
     "name": "stdout",
     "output_type": "stream",
     "text": [
      "<class 'pandas.core.frame.DataFrame'>\n",
      "RangeIndex: 2356 entries, 0 to 2355\n",
      "Data columns (total 17 columns):\n",
      "tweet_id                      2356 non-null object\n",
      "in_reply_to_status_id         2356 non-null object\n",
      "in_reply_to_user_id           2356 non-null object\n",
      "tweet_timestamp               2356 non-null datetime64[ns]\n",
      "source                        2356 non-null object\n",
      "tweet_text                    2356 non-null object\n",
      "retweeted_status_id           2356 non-null object\n",
      "retweeted_status_user_id      2356 non-null object\n",
      "retweeted_status_timestamp    181 non-null datetime64[ns]\n",
      "expanded_urls                 2297 non-null object\n",
      "dog_score_outof10             2356 non-null int64\n",
      "rating_denominator            2356 non-null int64\n",
      "dog_name                      2356 non-null object\n",
      "doggo                         2356 non-null object\n",
      "floofer                       2356 non-null object\n",
      "pupper                        2356 non-null object\n",
      "puppo                         2356 non-null object\n",
      "dtypes: datetime64[ns](2), int64(2), object(13)\n",
      "memory usage: 313.0+ KB\n"
     ]
    }
   ],
   "source": [
    "df1_clean.info()"
   ]
  },
  {
   "cell_type": "markdown",
   "metadata": {},
   "source": [
    "#### Define"
   ]
  },
  {
   "cell_type": "markdown",
   "metadata": {},
   "source": [
    "Issue 3: Remove the invalid data in both numerator & denominator of the ranking and making corrections in rating if it has any wrong data\t"
   ]
  },
  {
   "cell_type": "markdown",
   "metadata": {},
   "source": [
    "#### Code"
   ]
  },
  {
   "cell_type": "code",
   "execution_count": 225,
   "metadata": {},
   "outputs": [
    {
     "data": {
      "text/plain": [
       "(23, 17)"
      ]
     },
     "execution_count": 225,
     "metadata": {},
     "output_type": "execute_result"
    }
   ],
   "source": [
    "# Invalid values in denominator\n",
    "df1_clean[df1_clean[\"rating_denominator\"]!=10].shape "
   ]
  },
  {
   "cell_type": "markdown",
   "metadata": {},
   "source": [
    "There are 23 cases with a wrong value in denominator. So, these records needs to be removed from the dataset."
   ]
  },
  {
   "cell_type": "code",
   "execution_count": 226,
   "metadata": {},
   "outputs": [],
   "source": [
    "# Deleting those 23 records from the dataset \n",
    "df1_clean = df1_clean[df1_clean[\"rating_denominator\"]==10]"
   ]
  },
  {
   "cell_type": "code",
   "execution_count": 227,
   "metadata": {},
   "outputs": [
    {
     "data": {
      "text/plain": [
       "(2333, 17)"
      ]
     },
     "execution_count": 227,
     "metadata": {},
     "output_type": "execute_result"
    }
   ],
   "source": [
    "df1_clean.shape"
   ]
  },
  {
   "cell_type": "markdown",
   "metadata": {},
   "source": [
    "Since all the denominator whose value not equal to 10 has removed.Now all records in the dataset has the denominator value 10 so need for the column rating_denominator.It has to be dropped from the dataset."
   ]
  },
  {
   "cell_type": "code",
   "execution_count": 228,
   "metadata": {},
   "outputs": [],
   "source": [
    "df1_clean.drop(columns=[\"rating_denominator\"],inplace = True) # Droping the column"
   ]
  },
  {
   "cell_type": "code",
   "execution_count": 229,
   "metadata": {},
   "outputs": [
    {
     "data": {
      "text/plain": [
       "12      558\n",
       "11      463\n",
       "10      461\n",
       "13      351\n",
       "9       156\n",
       "8       102\n",
       "14       54\n",
       "7        54\n",
       "5        37\n",
       "6        32\n",
       "3        19\n",
       "4        15\n",
       "2         9\n",
       "1         8\n",
       "75        2\n",
       "0         2\n",
       "420       2\n",
       "15        2\n",
       "26        1\n",
       "182       1\n",
       "27        1\n",
       "1776      1\n",
       "17        1\n",
       "666       1\n",
       "Name: dog_score_outof10, dtype: int64"
      ]
     },
     "execution_count": 229,
     "metadata": {},
     "output_type": "execute_result"
    }
   ],
   "source": [
    "# Checking the uniques values of dog score and its occurances\n",
    "df1_clean.dog_score_outof10.value_counts()"
   ]
  },
  {
   "cell_type": "markdown",
   "metadata": {},
   "source": [
    "Removing the cases where the dog_score is less than or equal to 10.As per the noms these values should be greater than 10."
   ]
  },
  {
   "cell_type": "code",
   "execution_count": 230,
   "metadata": {},
   "outputs": [
    {
     "data": {
      "text/plain": [
       "(895, 16)"
      ]
     },
     "execution_count": 230,
     "metadata": {},
     "output_type": "execute_result"
    }
   ],
   "source": [
    "# there are 895 records which falls under this scenario\n",
    "df1_clean[df1_clean.dog_score_outof10 <= 10].shape\n"
   ]
  },
  {
   "cell_type": "markdown",
   "metadata": {},
   "source": [
    "There are 895 cases with a wrong value in numerator. So, these records needs to be removed from the dataset."
   ]
  },
  {
   "cell_type": "code",
   "execution_count": 231,
   "metadata": {},
   "outputs": [],
   "source": [
    "# deleting the cases with the score less than or equal to 10\n",
    "df1_clean.drop(df1_clean[df1_clean[\"dog_score_outof10\"]<=10].index,inplace=True)"
   ]
  },
  {
   "cell_type": "code",
   "execution_count": 232,
   "metadata": {},
   "outputs": [
    {
     "data": {
      "text/plain": [
       "12      558\n",
       "11      463\n",
       "13      351\n",
       "14       54\n",
       "15        2\n",
       "75        2\n",
       "420       2\n",
       "17        1\n",
       "26        1\n",
       "27        1\n",
       "182       1\n",
       "666       1\n",
       "1776      1\n",
       "Name: dog_score_outof10, dtype: int64"
      ]
     },
     "execution_count": 232,
     "metadata": {},
     "output_type": "execute_result"
    }
   ],
   "source": [
    "# checking wheather the records has been deleted or not?\n",
    "df1_clean.dog_score_outof10.value_counts().sort_values(ascending=False)"
   ]
  },
  {
   "cell_type": "markdown",
   "metadata": {},
   "source": [
    "##### Now it is necessary to access the records with the rating score of 15,75,420,17,26,27,182,666,1776 since its looks odd from other tweet scores."
   ]
  },
  {
   "cell_type": "code",
   "execution_count": 233,
   "metadata": {},
   "outputs": [
    {
     "name": "stdout",
     "output_type": "stream",
     "text": [
      "Rating Number: 15\n",
      "Tweet id: 838916489579200512\n",
      "Tweet text: RT @KibaDva: I collected all the good dogs!! 15/10 @dog_rates #GoodDogs https://t.co/6UCGFczlOI\n",
      "expanded_urls: https://twitter.com/KibaDva/status/838905980628819968/photo/1,https://twitter.com/KibaDva/status/838905980628819968/photo/1,https://twitter.com/KibaDva/status/838905980628819968/photo/1,https://twitter.com/KibaDva/status/838905980628819968/photo/1\n",
      "indexx number: 285\n",
      "\n",
      "-------------------------------\n",
      "\n",
      "Tweet id: 838085839343206401\n",
      "Tweet text: @bragg6of8 @Andy_Pace_ we are still looking for the first 15/10\n",
      "expanded_urls: nan\n",
      "indexx number: 291\n",
      "\n",
      "-------------------------------\n",
      "\n",
      "Rating Number: 75\n",
      "Tweet id: 832215909146226688\n",
      "Tweet text: RT @dog_rates: This is Logan, the Chow who lived. He solemnly swears he's up to lots of good. H*ckin magical af 9.75/10 https://t.co/yBO5wu…\n",
      "expanded_urls: https://twitter.com/dog_rates/status/786709082849828864/photo/1\n",
      "indexx number: 340\n",
      "\n",
      "-------------------------------\n",
      "\n",
      "Tweet id: 786709082849828864\n",
      "Tweet text: This is Logan, the Chow who lived. He solemnly swears he's up to lots of good. H*ckin magical af 9.75/10 https://t.co/yBO5wuqaPS\n",
      "expanded_urls: https://twitter.com/dog_rates/status/786709082849828864/photo/1\n",
      "indexx number: 695\n",
      "\n",
      "-------------------------------\n",
      "\n",
      "Rating Number: 420\n",
      "Tweet id: 855862651834028034\n",
      "Tweet text: @dhmontgomery We also gave snoop dogg a 420/10 but I think that predated your research\n",
      "expanded_urls: nan\n",
      "indexx number: 188\n",
      "\n",
      "-------------------------------\n",
      "\n",
      "Tweet id: 670842764863651840\n",
      "Tweet text: After so many requests... here you go.\n",
      "\n",
      "Good dogg. 420/10 https://t.co/yfAAo1gdeY\n",
      "expanded_urls: https://twitter.com/dog_rates/status/670842764863651840/photo/1\n",
      "indexx number: 2074\n",
      "\n",
      "-------------------------------\n",
      "\n",
      "Rating Number: 17\n",
      "Tweet id: 881633300179243008\n",
      "Tweet text: @roushfenway These are good dogs but 17/10 is an emotional impulse rating. More like 13/10s\n",
      "expanded_urls: nan\n",
      "indexx number: 55\n",
      "\n",
      "-------------------------------\n",
      "\n",
      "Rating Number: 26\n",
      "Tweet id: 680494726643068929\n",
      "Tweet text: Here we have uncovered an entire battalion of holiday puppers. Average of 11.26/10 https://t.co/eNm2S6p9BD\n",
      "expanded_urls: https://twitter.com/dog_rates/status/680494726643068929/photo/1\n",
      "indexx number: 1712\n",
      "\n",
      "-------------------------------\n",
      "\n",
      "Rating Number: 27\n",
      "Tweet id: 778027034220126208\n",
      "Tweet text: This is Sophie. She's a Jubilant Bush Pupper. Super h*ckin rare. Appears at random just to smile at the locals. 11.27/10 would smile back https://t.co/QFaUiIHxHq\n",
      "expanded_urls: https://twitter.com/dog_rates/status/778027034220126208/photo/1\n",
      "indexx number: 763\n",
      "\n",
      "-------------------------------\n",
      "\n",
      "Rating Number: 182\n",
      "Tweet id: 838150277551247360\n",
      "Tweet text: @markhoppus 182/10\n",
      "expanded_urls: nan\n",
      "indexx number: 290\n",
      "\n",
      "-------------------------------\n",
      "\n",
      "Rating Number: 666\n",
      "Tweet id: 855860136149123072\n",
      "Tweet text: @s8n You tried very hard to portray this good boy as not so good, but you have ultimately failed. His goodness shines through. 666/10\n",
      "expanded_urls: nan\n",
      "indexx number: 189\n",
      "\n",
      "-------------------------------\n",
      "\n",
      "Rating Number: 1776\n",
      "Tweet id: 749981277374128128\n",
      "Tweet text: This is Atticus. He's quite simply America af. 1776/10 https://t.co/GRXwMxLBkh\n",
      "expanded_urls: https://twitter.com/dog_rates/status/749981277374128128/photo/1\n",
      "indexx number: 979\n",
      "\n",
      "-------------------------------\n",
      "\n"
     ]
    }
   ],
   "source": [
    "rating = [15,75,420,17,26,27,182,666,1776]\n",
    "\n",
    "for i in rating:\n",
    "    print('Rating Number: %s'%(i))\n",
    "    for j in range(0,len(df1.index)):\n",
    "        if df1.rating_numerator[j] == i:\n",
    "            print(\"Tweet id: %s\"%(df1.tweet_id[j]))\n",
    "            print(\"Tweet text: %s\"%(df1.text[j]))\n",
    "            print(\"expanded_urls: %s\"%(df1.expanded_urls[j]))\n",
    "            print(\"indexx number: %s\"%(df1.index[j]))\n",
    "            print()\n",
    "            print(\"-------------------------------\")\n",
    "            print()\n",
    "        else:\n",
    "            pass "
   ]
  },
  {
   "cell_type": "markdown",
   "metadata": {},
   "source": [
    "#### Observations about the issues\n",
    "1. case with the rating number 15 : It is evident that the rating value is 15 out of 10 from the tweet text.So no need of any change or deletion .\n",
    "\n",
    "2. case with the rating number 75 : From the tweet text it is conclude that the rating value has some wrong entry i,e) instead of 9.75 the record holds the value 75.So, the rating value 9.75 is less than 10 so the index with the value 340,695 has to gets dropped from the dataset.\n",
    "\n",
    "3. case with the rating number 420 : It is evident that the rating value is 420 out of 10 from the tweet text.So no need of any change or deletion .\n",
    "\n",
    "4. case with the rating number 17 : It is evident that the rating value is 17 out of 10 from the tweet text.So no need of any change or deletion .\n",
    "\n",
    "5. case with the rating number 26 :  From the tweet text it is conclude that the rating value has some wrong entry i,e) instead of 11.26 the record holds the value 26.It has to be changed.\n",
    "\n",
    "6. case with the rating number 27 :  From the tweet text it is conclude that the rating value has some wrong entry i,e) instead of 11.27 the record holds the value 26.It has to be changed.\n",
    "\n",
    "7. case with the rating number 182 : It is evident that the rating value is 182 out of 10 from the tweet text.So no need of any change or deletion .\n",
    "\n",
    "8. case with the rating number 666 : It is evident that the rating value is 666 out of 10 from the tweet text.So no need of any change or deletion .\n",
    "\n",
    "9. case with the rating number 1776 : It is evident that the rating value is 1776 out of 10 from the tweet text.So no need of any change or deletion .\n"
   ]
  },
  {
   "cell_type": "code",
   "execution_count": 234,
   "metadata": {},
   "outputs": [],
   "source": [
    "df1_clean.drop(axis=0,index=[340,695],inplace=True)"
   ]
  },
  {
   "cell_type": "code",
   "execution_count": 235,
   "metadata": {},
   "outputs": [],
   "source": [
    "df1_clean.loc[(df1_clean.tweet_id == \"680494726643068929\") & \n",
    "              (df1_clean.dog_score_outof10 == 26),[\"dog_score_outof10\"]] = 11.26"
   ]
  },
  {
   "cell_type": "code",
   "execution_count": 236,
   "metadata": {},
   "outputs": [],
   "source": [
    "df1_clean.loc[(df1_clean.tweet_id == \"778027034220126208\") & \n",
    "              (df1_clean.dog_score_outof10 == 27),[\"dog_score_outof10\"]] = 11.27"
   ]
  },
  {
   "cell_type": "markdown",
   "metadata": {},
   "source": [
    "#### Test"
   ]
  },
  {
   "cell_type": "code",
   "execution_count": 237,
   "metadata": {},
   "outputs": [
    {
     "data": {
      "text/plain": [
       "12.00      558\n",
       "11.00      463\n",
       "13.00      351\n",
       "14.00       54\n",
       "420.00       2\n",
       "15.00        2\n",
       "666.00       1\n",
       "1776.00      1\n",
       "182.00       1\n",
       "11.27        1\n",
       "11.26        1\n",
       "17.00        1\n",
       "Name: dog_score_outof10, dtype: int64"
      ]
     },
     "execution_count": 237,
     "metadata": {},
     "output_type": "execute_result"
    }
   ],
   "source": [
    "df1_clean.dog_score_outof10.value_counts()"
   ]
  },
  {
   "cell_type": "markdown",
   "metadata": {},
   "source": [
    "#### Define"
   ]
  },
  {
   "cell_type": "markdown",
   "metadata": {},
   "source": [
    "Issue 4: Alter the data into more readable form for the column source\t"
   ]
  },
  {
   "cell_type": "markdown",
   "metadata": {},
   "source": [
    "#### Code"
   ]
  },
  {
   "cell_type": "code",
   "execution_count": 238,
   "metadata": {},
   "outputs": [
    {
     "data": {
      "text/plain": [
       "<a href=\"http://twitter.com/download/iphone\" rel=\"nofollow\">Twitter for iPhone</a>     2221\n",
       "<a href=\"http://vine.co\" rel=\"nofollow\">Vine - Make a Scene</a>                          91\n",
       "<a href=\"http://twitter.com\" rel=\"nofollow\">Twitter Web Client</a>                       33\n",
       "<a href=\"https://about.twitter.com/products/tweetdeck\" rel=\"nofollow\">TweetDeck</a>      11\n",
       "Name: source, dtype: int64"
      ]
     },
     "execution_count": 238,
     "metadata": {},
     "output_type": "execute_result"
    }
   ],
   "source": [
    "df1.source.value_counts()"
   ]
  },
  {
   "cell_type": "code",
   "execution_count": 239,
   "metadata": {},
   "outputs": [],
   "source": [
    "df1_clean.source = df1_clean['source'].apply(lambda x: re.findall('>(.*)<', x)[0])"
   ]
  },
  {
   "cell_type": "code",
   "execution_count": 240,
   "metadata": {},
   "outputs": [
    {
     "data": {
      "text/plain": [
       "Twitter for iPhone     1340\n",
       "Vine - Make a Scene      71\n",
       "Twitter Web Client       17\n",
       "TweetDeck                 8\n",
       "Name: source, dtype: int64"
      ]
     },
     "execution_count": 240,
     "metadata": {},
     "output_type": "execute_result"
    }
   ],
   "source": [
    "df1_clean.source.value_counts()"
   ]
  },
  {
   "cell_type": "markdown",
   "metadata": {},
   "source": [
    "#### Test"
   ]
  },
  {
   "cell_type": "code",
   "execution_count": 241,
   "metadata": {},
   "outputs": [
    {
     "data": {
      "text/plain": [
       "0    Twitter for iPhone\n",
       "1    Twitter for iPhone\n",
       "2    Twitter for iPhone\n",
       "3    Twitter for iPhone\n",
       "4    Twitter for iPhone\n",
       "5    Twitter for iPhone\n",
       "6    Twitter for iPhone\n",
       "7    Twitter for iPhone\n",
       "8    Twitter for iPhone\n",
       "9    Twitter for iPhone\n",
       "Name: source, dtype: object"
      ]
     },
     "execution_count": 241,
     "metadata": {},
     "output_type": "execute_result"
    }
   ],
   "source": [
    "df1_clean.source.head(10)"
   ]
  },
  {
   "cell_type": "markdown",
   "metadata": {},
   "source": [
    "#### Define"
   ]
  },
  {
   "cell_type": "markdown",
   "metadata": {},
   "source": [
    "Issue 5: Extract day, month and year from timestamp column to do indepth analysis about time related findings"
   ]
  },
  {
   "cell_type": "markdown",
   "metadata": {},
   "source": [
    "#### Code"
   ]
  },
  {
   "cell_type": "code",
   "execution_count": 242,
   "metadata": {},
   "outputs": [],
   "source": [
    "df1_clean[\"date\"] = df1_clean.tweet_timestamp.dt.day\n",
    "df1_clean[\"month\"] = df1_clean.tweet_timestamp.dt.month\n",
    "df1_clean[\"year\"] = df1_clean.tweet_timestamp.dt.year\n",
    "df1_clean[\"dayoftheweek\"]=df1_clean.tweet_timestamp.dt.dayofweek"
   ]
  },
  {
   "cell_type": "code",
   "execution_count": 243,
   "metadata": {},
   "outputs": [],
   "source": [
    "daymapping = {0:'Monday',1:'Tuesday',2:'Wednesday',3:'Thrusday',4:'Friday',5:'Saturday',6:'Sunday'}\n",
    "df1_clean.dayoftheweek = df1_clean.dayoftheweek.map(daymapping)"
   ]
  },
  {
   "cell_type": "code",
   "execution_count": 244,
   "metadata": {},
   "outputs": [],
   "source": [
    "monthname = {1:'Jan',2:\"Feb\",3:\"Mar\",4:\"Apr\",5:\"May\",6:\"Jun\",7:\"Jul\",8:\"Aug\",9:\"Sep\",10:\"Oct\",11:\"Nov\",12:\"Dec\"}\n",
    "df1_clean.month = df1_clean.month.map(monthname)"
   ]
  },
  {
   "cell_type": "markdown",
   "metadata": {},
   "source": [
    "#### Test"
   ]
  },
  {
   "cell_type": "code",
   "execution_count": 245,
   "metadata": {},
   "outputs": [
    {
     "data": {
      "text/html": [
       "<div>\n",
       "<style scoped>\n",
       "    .dataframe tbody tr th:only-of-type {\n",
       "        vertical-align: middle;\n",
       "    }\n",
       "\n",
       "    .dataframe tbody tr th {\n",
       "        vertical-align: top;\n",
       "    }\n",
       "\n",
       "    .dataframe thead th {\n",
       "        text-align: right;\n",
       "    }\n",
       "</style>\n",
       "<table border=\"1\" class=\"dataframe\">\n",
       "  <thead>\n",
       "    <tr style=\"text-align: right;\">\n",
       "      <th></th>\n",
       "      <th>date</th>\n",
       "      <th>month</th>\n",
       "      <th>year</th>\n",
       "      <th>dayoftheweek</th>\n",
       "    </tr>\n",
       "  </thead>\n",
       "  <tbody>\n",
       "    <tr>\n",
       "      <th>0</th>\n",
       "      <td>1</td>\n",
       "      <td>Aug</td>\n",
       "      <td>2017</td>\n",
       "      <td>Tuesday</td>\n",
       "    </tr>\n",
       "    <tr>\n",
       "      <th>1</th>\n",
       "      <td>1</td>\n",
       "      <td>Aug</td>\n",
       "      <td>2017</td>\n",
       "      <td>Tuesday</td>\n",
       "    </tr>\n",
       "    <tr>\n",
       "      <th>2</th>\n",
       "      <td>31</td>\n",
       "      <td>Jul</td>\n",
       "      <td>2017</td>\n",
       "      <td>Monday</td>\n",
       "    </tr>\n",
       "    <tr>\n",
       "      <th>3</th>\n",
       "      <td>30</td>\n",
       "      <td>Jul</td>\n",
       "      <td>2017</td>\n",
       "      <td>Sunday</td>\n",
       "    </tr>\n",
       "    <tr>\n",
       "      <th>4</th>\n",
       "      <td>29</td>\n",
       "      <td>Jul</td>\n",
       "      <td>2017</td>\n",
       "      <td>Saturday</td>\n",
       "    </tr>\n",
       "  </tbody>\n",
       "</table>\n",
       "</div>"
      ],
      "text/plain": [
       "   date month  year dayoftheweek\n",
       "0     1   Aug  2017      Tuesday\n",
       "1     1   Aug  2017      Tuesday\n",
       "2    31   Jul  2017       Monday\n",
       "3    30   Jul  2017       Sunday\n",
       "4    29   Jul  2017     Saturday"
      ]
     },
     "execution_count": 245,
     "metadata": {},
     "output_type": "execute_result"
    }
   ],
   "source": [
    "df1_clean.iloc[:,16:21].head(5)"
   ]
  },
  {
   "cell_type": "markdown",
   "metadata": {},
   "source": [
    "#### Define"
   ]
  },
  {
   "cell_type": "markdown",
   "metadata": {},
   "source": [
    "Issue 6 : Find the dog gender using tweet_text column"
   ]
  },
  {
   "cell_type": "markdown",
   "metadata": {},
   "source": [
    "#### Code"
   ]
  },
  {
   "cell_type": "code",
   "execution_count": 246,
   "metadata": {},
   "outputs": [],
   "source": [
    "male_pronouns = ['He', 'he', 'him', 'his', \"he's\", 'himself']\n",
    "female_pronouns = ['She', 'she', 'her', 'hers', 'herself', \"she's\"]\n",
    "\n",
    "gender = []\n",
    "\n",
    "for tweet_text in df1_clean.tweet_text:\n",
    "    if any (map(lambda sex:sex in male_pronouns,tweet_text.split(\" \"))):\n",
    "        gender.append(\"Male\")\n",
    "    elif any (map(lambda sex:sex in female_pronouns,tweet_text.split(\" \"))):\n",
    "        gender.append(\"Female\")\n",
    "    else:\n",
    "        gender.append('NaN')\n",
    "        "
   ]
  },
  {
   "cell_type": "code",
   "execution_count": 247,
   "metadata": {},
   "outputs": [
    {
     "data": {
      "text/plain": [
       "NaN       820\n",
       "Male      426\n",
       "Female    190\n",
       "Name: dog_gender, dtype: int64"
      ]
     },
     "execution_count": 247,
     "metadata": {},
     "output_type": "execute_result"
    }
   ],
   "source": [
    "df1_clean['dog_gender'] = gender\n",
    "df1_clean.dog_gender.value_counts()"
   ]
  },
  {
   "cell_type": "markdown",
   "metadata": {},
   "source": [
    "#### Test"
   ]
  },
  {
   "cell_type": "code",
   "execution_count": 248,
   "metadata": {
    "scrolled": true
   },
   "outputs": [
    {
     "data": {
      "text/html": [
       "<div>\n",
       "<style scoped>\n",
       "    .dataframe tbody tr th:only-of-type {\n",
       "        vertical-align: middle;\n",
       "    }\n",
       "\n",
       "    .dataframe tbody tr th {\n",
       "        vertical-align: top;\n",
       "    }\n",
       "\n",
       "    .dataframe thead th {\n",
       "        text-align: right;\n",
       "    }\n",
       "</style>\n",
       "<table border=\"1\" class=\"dataframe\">\n",
       "  <thead>\n",
       "    <tr style=\"text-align: right;\">\n",
       "      <th></th>\n",
       "      <th>tweet_text</th>\n",
       "      <th>dog_gender</th>\n",
       "    </tr>\n",
       "  </thead>\n",
       "  <tbody>\n",
       "    <tr>\n",
       "      <th>0</th>\n",
       "      <td>This is Phineas. He's a mystical boy. Only eve...</td>\n",
       "      <td>NaN</td>\n",
       "    </tr>\n",
       "    <tr>\n",
       "      <th>1</th>\n",
       "      <td>This is Tilly. She's just checking pup on you....</td>\n",
       "      <td>Female</td>\n",
       "    </tr>\n",
       "    <tr>\n",
       "      <th>2</th>\n",
       "      <td>This is Archie. He is a rare Norwegian Pouncin...</td>\n",
       "      <td>Male</td>\n",
       "    </tr>\n",
       "    <tr>\n",
       "      <th>3</th>\n",
       "      <td>This is Darla. She commenced a snooze mid meal...</td>\n",
       "      <td>Female</td>\n",
       "    </tr>\n",
       "    <tr>\n",
       "      <th>4</th>\n",
       "      <td>This is Franklin. He would like you to stop ca...</td>\n",
       "      <td>Male</td>\n",
       "    </tr>\n",
       "  </tbody>\n",
       "</table>\n",
       "</div>"
      ],
      "text/plain": [
       "                                          tweet_text dog_gender\n",
       "0  This is Phineas. He's a mystical boy. Only eve...        NaN\n",
       "1  This is Tilly. She's just checking pup on you....     Female\n",
       "2  This is Archie. He is a rare Norwegian Pouncin...       Male\n",
       "3  This is Darla. She commenced a snooze mid meal...     Female\n",
       "4  This is Franklin. He would like you to stop ca...       Male"
      ]
     },
     "execution_count": 248,
     "metadata": {},
     "output_type": "execute_result"
    }
   ],
   "source": [
    "df1_clean.iloc[:,[5,20]].head(5)"
   ]
  },
  {
   "cell_type": "markdown",
   "metadata": {},
   "source": [
    "#### Define"
   ]
  },
  {
   "cell_type": "markdown",
   "metadata": {},
   "source": [
    "Issue 7: Delete the column which has null and na Melt the dog stage column into single column"
   ]
  },
  {
   "cell_type": "markdown",
   "metadata": {},
   "source": [
    "#### Code"
   ]
  },
  {
   "cell_type": "code",
   "execution_count": 249,
   "metadata": {
    "scrolled": true
   },
   "outputs": [
    {
     "data": {
      "text/plain": [
       "<matplotlib.axes._subplots.AxesSubplot at 0x7fbea7f6b4e0>"
      ]
     },
     "execution_count": 249,
     "metadata": {},
     "output_type": "execute_result"
    },
    {
     "data": {
      "image/png": "[encoded data removed]",
      "text/plain": [
       "<matplotlib.figure.Figure at 0x7fbea7f6ce10>"
      ]
     },
     "metadata": {
      "needs_background": "light"
     },
     "output_type": "display_data"
    }
   ],
   "source": [
    "sns.heatmap(df1_clean.isnull())"
   ]
  },
  {
   "cell_type": "markdown",
   "metadata": {},
   "source": [
    "It is evident from the above graph that the column retweeted_status_timestamp has more number of null values. so it has to be dropped from the dataset."
   ]
  },
  {
   "cell_type": "code",
   "execution_count": 250,
   "metadata": {},
   "outputs": [],
   "source": [
    "df1_clean = df1_clean.drop(columns=[\"retweeted_status_timestamp\"],axis=1)\n"
   ]
  },
  {
   "cell_type": "markdown",
   "metadata": {},
   "source": [
    "#### Test"
   ]
  },
  {
   "cell_type": "code",
   "execution_count": 251,
   "metadata": {
    "scrolled": true
   },
   "outputs": [
    {
     "name": "stdout",
     "output_type": "stream",
     "text": [
      "<class 'pandas.core.frame.DataFrame'>\n",
      "Int64Index: 1436 entries, 0 to 2339\n",
      "Data columns (total 20 columns):\n",
      "tweet_id                    1436 non-null object\n",
      "in_reply_to_status_id       1436 non-null object\n",
      "in_reply_to_user_id         1436 non-null object\n",
      "tweet_timestamp             1436 non-null datetime64[ns]\n",
      "source                      1436 non-null object\n",
      "tweet_text                  1436 non-null object\n",
      "retweeted_status_id         1436 non-null object\n",
      "retweeted_status_user_id    1436 non-null object\n",
      "expanded_urls               1396 non-null object\n",
      "dog_score_outof10           1436 non-null float64\n",
      "dog_name                    1436 non-null object\n",
      "doggo                       1436 non-null object\n",
      "floofer                     1436 non-null object\n",
      "pupper                      1436 non-null object\n",
      "puppo                       1436 non-null object\n",
      "date                        1436 non-null int64\n",
      "month                       1436 non-null object\n",
      "year                        1436 non-null int64\n",
      "dayoftheweek                1436 non-null object\n",
      "dog_gender                  1436 non-null object\n",
      "dtypes: datetime64[ns](1), float64(1), int64(2), object(16)\n",
      "memory usage: 235.6+ KB\n"
     ]
    }
   ],
   "source": [
    "df1_clean.info()"
   ]
  },
  {
   "cell_type": "code",
   "execution_count": 252,
   "metadata": {},
   "outputs": [
    {
     "data": {
      "text/plain": [
       "<matplotlib.axes._subplots.AxesSubplot at 0x7fbea7faf8d0>"
      ]
     },
     "execution_count": 252,
     "metadata": {},
     "output_type": "execute_result"
    },
    {
     "data": {
      "image/png": "[encoded data removed]",
      "text/plain": [
       "<matplotlib.figure.Figure at 0x7fbea7fa7588>"
      ]
     },
     "metadata": {
      "needs_background": "light"
     },
     "output_type": "display_data"
    }
   ],
   "source": [
    "sns.heatmap(df1_clean.isnull())"
   ]
  },
  {
   "cell_type": "markdown",
   "metadata": {},
   "source": [
    "#### Define  "
   ]
  },
  {
   "cell_type": "markdown",
   "metadata": {},
   "source": [
    "Issue 8 : Melt the dog stage column into single column"
   ]
  },
  {
   "cell_type": "markdown",
   "metadata": {},
   "source": [
    "#### Code"
   ]
  },
  {
   "cell_type": "code",
   "execution_count": 253,
   "metadata": {},
   "outputs": [],
   "source": [
    "df1_clean = pd.melt(df1_clean, id_vars=['tweet_id', 'in_reply_to_status_id', \n",
    "                        'in_reply_to_user_id',\n",
    "                        'tweet_timestamp', 'source', 'tweet_text',\n",
    "                        'retweeted_status_id',\n",
    "                        'retweeted_status_user_id',\n",
    "       'expanded_urls', 'dog_score_outof10', 'dog_name','date', 'month',\n",
    "       'year', 'dayoftheweek', 'dog_gender'],\n",
    "                               var_name='dogs', value_name='dogs_stage')"
   ]
  },
  {
   "cell_type": "code",
   "execution_count": 254,
   "metadata": {},
   "outputs": [],
   "source": [
    "df1_clean = df1_clean.drop(columns=\"dogs\",axis = 1)"
   ]
  },
  {
   "cell_type": "code",
   "execution_count": 255,
   "metadata": {},
   "outputs": [],
   "source": [
    "df1_clean = df1_clean.sort_values('dogs_stage',ascending=False).drop_duplicates(subset='tweet_id',keep='first')"
   ]
  },
  {
   "cell_type": "code",
   "execution_count": 256,
   "metadata": {},
   "outputs": [
    {
     "data": {
      "text/plain": [
       "None       1171\n",
       "pupper      159\n",
       "doggo        71\n",
       "puppo        26\n",
       "floofer       9\n",
       "Name: dogs_stage, dtype: int64"
      ]
     },
     "execution_count": 256,
     "metadata": {},
     "output_type": "execute_result"
    }
   ],
   "source": [
    "df1_clean.dogs_stage.value_counts()"
   ]
  },
  {
   "cell_type": "markdown",
   "metadata": {
    "scrolled": true
   },
   "source": [
    "#### Test"
   ]
  },
  {
   "cell_type": "code",
   "execution_count": 257,
   "metadata": {},
   "outputs": [
    {
     "data": {
      "text/html": [
       "<div>\n",
       "<style scoped>\n",
       "    .dataframe tbody tr th:only-of-type {\n",
       "        vertical-align: middle;\n",
       "    }\n",
       "\n",
       "    .dataframe tbody tr th {\n",
       "        vertical-align: top;\n",
       "    }\n",
       "\n",
       "    .dataframe thead th {\n",
       "        text-align: right;\n",
       "    }\n",
       "</style>\n",
       "<table border=\"1\" class=\"dataframe\">\n",
       "  <thead>\n",
       "    <tr style=\"text-align: right;\">\n",
       "      <th></th>\n",
       "      <th>tweet_id</th>\n",
       "      <th>dog_gender</th>\n",
       "      <th>dogs_stage</th>\n",
       "    </tr>\n",
       "  </thead>\n",
       "  <tbody>\n",
       "    <tr>\n",
       "      <th>4999</th>\n",
       "      <td>780931614150983680</td>\n",
       "      <td>NaN</td>\n",
       "      <td>puppo</td>\n",
       "    </tr>\n",
       "    <tr>\n",
       "      <th>4847</th>\n",
       "      <td>802239329049477120</td>\n",
       "      <td>NaN</td>\n",
       "      <td>puppo</td>\n",
       "    </tr>\n",
       "    <tr>\n",
       "      <th>4435</th>\n",
       "      <td>867421006826221569</td>\n",
       "      <td>Female</td>\n",
       "      <td>puppo</td>\n",
       "    </tr>\n",
       "    <tr>\n",
       "      <th>4756</th>\n",
       "      <td>816829038950027264</td>\n",
       "      <td>NaN</td>\n",
       "      <td>puppo</td>\n",
       "    </tr>\n",
       "    <tr>\n",
       "      <th>4378</th>\n",
       "      <td>878776093423087618</td>\n",
       "      <td>NaN</td>\n",
       "      <td>puppo</td>\n",
       "    </tr>\n",
       "    <tr>\n",
       "      <th>4322</th>\n",
       "      <td>889531135344209921</td>\n",
       "      <td>Male</td>\n",
       "      <td>puppo</td>\n",
       "    </tr>\n",
       "    <tr>\n",
       "      <th>4727</th>\n",
       "      <td>820013781606658049</td>\n",
       "      <td>Male</td>\n",
       "      <td>puppo</td>\n",
       "    </tr>\n",
       "    <tr>\n",
       "      <th>4826</th>\n",
       "      <td>805823200554876929</td>\n",
       "      <td>NaN</td>\n",
       "      <td>puppo</td>\n",
       "    </tr>\n",
       "    <tr>\n",
       "      <th>4401</th>\n",
       "      <td>874012996292530176</td>\n",
       "      <td>Male</td>\n",
       "      <td>puppo</td>\n",
       "    </tr>\n",
       "    <tr>\n",
       "      <th>4320</th>\n",
       "      <td>889665388333682689</td>\n",
       "      <td>NaN</td>\n",
       "      <td>puppo</td>\n",
       "    </tr>\n",
       "  </tbody>\n",
       "</table>\n",
       "</div>"
      ],
      "text/plain": [
       "                tweet_id dog_gender dogs_stage\n",
       "4999  780931614150983680        NaN      puppo\n",
       "4847  802239329049477120        NaN      puppo\n",
       "4435  867421006826221569     Female      puppo\n",
       "4756  816829038950027264        NaN      puppo\n",
       "4378  878776093423087618        NaN      puppo\n",
       "4322  889531135344209921       Male      puppo\n",
       "4727  820013781606658049       Male      puppo\n",
       "4826  805823200554876929        NaN      puppo\n",
       "4401  874012996292530176       Male      puppo\n",
       "4320  889665388333682689        NaN      puppo"
      ]
     },
     "execution_count": 257,
     "metadata": {},
     "output_type": "execute_result"
    }
   ],
   "source": [
    "df1_clean.iloc[:,[0,15,16]].sort_values('dogs_stage',ascending=False).head(10)"
   ]
  },
  {
   "cell_type": "markdown",
   "metadata": {},
   "source": [
    "#### Define"
   ]
  },
  {
   "cell_type": "markdown",
   "metadata": {},
   "source": [
    "Issue 9: Append dog predicted name with corresponding C.I value"
   ]
  },
  {
   "cell_type": "markdown",
   "metadata": {},
   "source": [
    "#### Code"
   ]
  },
  {
   "cell_type": "code",
   "execution_count": 258,
   "metadata": {},
   "outputs": [],
   "source": [
    "prediction = []\n",
    "confidence = []\n",
    "\n",
    "def get_prediction_confidence(dataframe):\n",
    "    if dataframe['p1_dog'] == True:\n",
    "        prediction.append(dataframe['p1'])\n",
    "        confidence.append(dataframe['p1_conf'])\n",
    "    elif dataframe['p2_dog'] == True:\n",
    "        prediction.append(dataframe['p2'])\n",
    "        confidence.append(dataframe['p2_conf'])\n",
    "    elif dataframe['p3_dog'] == True:\n",
    "        prediction.append(dataframe['p3'])\n",
    "        confidence.append(dataframe['p3_conf'])\n",
    "    else:\n",
    "        prediction.append('NaN')\n",
    "        confidence.append(0)\n",
    "\n",
    "df2_clean.apply(get_prediction_confidence, axis=1)\n",
    "df2_clean['prediction'] = prediction\n",
    "df2_clean['confidence'] = confidence"
   ]
  },
  {
   "cell_type": "markdown",
   "metadata": {},
   "source": [
    "#### Test"
   ]
  },
  {
   "cell_type": "code",
   "execution_count": 259,
   "metadata": {
    "scrolled": true
   },
   "outputs": [
    {
     "data": {
      "text/html": [
       "<div>\n",
       "<style scoped>\n",
       "    .dataframe tbody tr th:only-of-type {\n",
       "        vertical-align: middle;\n",
       "    }\n",
       "\n",
       "    .dataframe tbody tr th {\n",
       "        vertical-align: top;\n",
       "    }\n",
       "\n",
       "    .dataframe thead th {\n",
       "        text-align: right;\n",
       "    }\n",
       "</style>\n",
       "<table border=\"1\" class=\"dataframe\">\n",
       "  <thead>\n",
       "    <tr style=\"text-align: right;\">\n",
       "      <th></th>\n",
       "      <th>prediction</th>\n",
       "      <th>confidence</th>\n",
       "    </tr>\n",
       "  </thead>\n",
       "  <tbody>\n",
       "    <tr>\n",
       "      <th>0</th>\n",
       "      <td>Welsh_springer_spaniel</td>\n",
       "      <td>0.465074</td>\n",
       "    </tr>\n",
       "    <tr>\n",
       "      <th>1</th>\n",
       "      <td>redbone</td>\n",
       "      <td>0.506826</td>\n",
       "    </tr>\n",
       "    <tr>\n",
       "      <th>2</th>\n",
       "      <td>German_shepherd</td>\n",
       "      <td>0.596461</td>\n",
       "    </tr>\n",
       "    <tr>\n",
       "      <th>3</th>\n",
       "      <td>Rhodesian_ridgeback</td>\n",
       "      <td>0.408143</td>\n",
       "    </tr>\n",
       "    <tr>\n",
       "      <th>4</th>\n",
       "      <td>miniature_pinscher</td>\n",
       "      <td>0.560311</td>\n",
       "    </tr>\n",
       "  </tbody>\n",
       "</table>\n",
       "</div>"
      ],
      "text/plain": [
       "               prediction  confidence\n",
       "0  Welsh_springer_spaniel    0.465074\n",
       "1                 redbone    0.506826\n",
       "2         German_shepherd    0.596461\n",
       "3     Rhodesian_ridgeback    0.408143\n",
       "4      miniature_pinscher    0.560311"
      ]
     },
     "execution_count": 259,
     "metadata": {},
     "output_type": "execute_result"
    }
   ],
   "source": [
    "df2_clean.iloc[:5,[12,13]]"
   ]
  },
  {
   "cell_type": "markdown",
   "metadata": {},
   "source": [
    "#### Define"
   ]
  },
  {
   "cell_type": "markdown",
   "metadata": {},
   "source": [
    "Issue 10: Change the datatype"
   ]
  },
  {
   "cell_type": "markdown",
   "metadata": {},
   "source": [
    "#### Code"
   ]
  },
  {
   "cell_type": "code",
   "execution_count": 260,
   "metadata": {},
   "outputs": [],
   "source": [
    "df2_clean.tweet_id = df2_clean.tweet_id.astype(str)\n",
    "#df3_final_clean.user_created_time = pd.to_datetime(df3_final_clean.user_created_time)\n",
    "#df3_final_clean.tweet_created_time = pd.to_datetime(df3_final_clean.tweet_created_time)"
   ]
  },
  {
   "cell_type": "code",
   "execution_count": 261,
   "metadata": {},
   "outputs": [],
   "source": [
    "df3_final_clean.tweet_id = df3_final_clean.tweet_id.astype(str)"
   ]
  },
  {
   "cell_type": "markdown",
   "metadata": {},
   "source": [
    "#### Test"
   ]
  },
  {
   "cell_type": "code",
   "execution_count": 262,
   "metadata": {},
   "outputs": [
    {
     "name": "stdout",
     "output_type": "stream",
     "text": [
      "<class 'pandas.core.frame.DataFrame'>\n",
      "RangeIndex: 2075 entries, 0 to 2074\n",
      "Data columns (total 14 columns):\n",
      "tweet_id      2075 non-null object\n",
      "jpg_url       2075 non-null object\n",
      "img_num       2075 non-null int64\n",
      "p1            2075 non-null object\n",
      "p1_conf       2075 non-null float64\n",
      "p1_dog        2075 non-null bool\n",
      "p2            2075 non-null object\n",
      "p2_conf       2075 non-null float64\n",
      "p2_dog        2075 non-null bool\n",
      "p3            2075 non-null object\n",
      "p3_conf       2075 non-null float64\n",
      "p3_dog        2075 non-null bool\n",
      "prediction    2075 non-null object\n",
      "confidence    2075 non-null float64\n",
      "dtypes: bool(3), float64(4), int64(1), object(6)\n",
      "memory usage: 184.5+ KB\n"
     ]
    }
   ],
   "source": [
    "df2_clean.info()"
   ]
  },
  {
   "cell_type": "code",
   "execution_count": 263,
   "metadata": {},
   "outputs": [
    {
     "name": "stdout",
     "output_type": "stream",
     "text": [
      "<class 'pandas.core.frame.DataFrame'>\n",
      "RangeIndex: 2331 entries, 0 to 2330\n",
      "Data columns (total 5 columns):\n",
      "tweet_id           2331 non-null object\n",
      "retweets           2331 non-null int64\n",
      "favorites          2331 non-null int64\n",
      "user_followers     2331 non-null int64\n",
      "user_favourites    2331 non-null int64\n",
      "dtypes: int64(4), object(1)\n",
      "memory usage: 91.1+ KB\n"
     ]
    }
   ],
   "source": [
    "df3_final_clean.info()\n"
   ]
  },
  {
   "cell_type": "markdown",
   "metadata": {},
   "source": [
    "#### Define"
   ]
  },
  {
   "cell_type": "markdown",
   "metadata": {},
   "source": [
    "Issue 11: Remove unwanted columns in all dataframes"
   ]
  },
  {
   "cell_type": "markdown",
   "metadata": {},
   "source": [
    "#### Code"
   ]
  },
  {
   "cell_type": "code",
   "execution_count": 264,
   "metadata": {},
   "outputs": [],
   "source": [
    "df1_clean.drop(columns=['in_reply_to_status_id', 'in_reply_to_user_id', \n",
    "                        'tweet_timestamp'],\n",
    "                     axis=1,inplace = True)"
   ]
  },
  {
   "cell_type": "code",
   "execution_count": 265,
   "metadata": {},
   "outputs": [],
   "source": [
    "df2_clean.drop(columns=['img_num', 'p1', 'p1_conf', 'p1_dog', 'p2',\n",
    "       'p2_conf', 'p2_dog', 'p3', 'p3_conf', 'p3_dog'],axis=1,inplace=True)"
   ]
  },
  {
   "cell_type": "markdown",
   "metadata": {},
   "source": [
    "#### Test"
   ]
  },
  {
   "cell_type": "code",
   "execution_count": 266,
   "metadata": {
    "scrolled": true
   },
   "outputs": [
    {
     "name": "stdout",
     "output_type": "stream",
     "text": [
      "<class 'pandas.core.frame.DataFrame'>\n",
      "Int64Index: 1436 entries, 4999 to 4341\n",
      "Data columns (total 14 columns):\n",
      "tweet_id                    1436 non-null object\n",
      "source                      1436 non-null object\n",
      "tweet_text                  1436 non-null object\n",
      "retweeted_status_id         1436 non-null object\n",
      "retweeted_status_user_id    1436 non-null object\n",
      "expanded_urls               1396 non-null object\n",
      "dog_score_outof10           1436 non-null float64\n",
      "dog_name                    1436 non-null object\n",
      "date                        1436 non-null int64\n",
      "month                       1436 non-null object\n",
      "year                        1436 non-null int64\n",
      "dayoftheweek                1436 non-null object\n",
      "dog_gender                  1436 non-null object\n",
      "dogs_stage                  1436 non-null object\n",
      "dtypes: float64(1), int64(2), object(11)\n",
      "memory usage: 168.3+ KB\n"
     ]
    }
   ],
   "source": [
    "df1_clean.info()"
   ]
  },
  {
   "cell_type": "code",
   "execution_count": 267,
   "metadata": {},
   "outputs": [
    {
     "name": "stdout",
     "output_type": "stream",
     "text": [
      "<class 'pandas.core.frame.DataFrame'>\n",
      "RangeIndex: 2075 entries, 0 to 2074\n",
      "Data columns (total 4 columns):\n",
      "tweet_id      2075 non-null object\n",
      "jpg_url       2075 non-null object\n",
      "prediction    2075 non-null object\n",
      "confidence    2075 non-null float64\n",
      "dtypes: float64(1), object(3)\n",
      "memory usage: 64.9+ KB\n"
     ]
    }
   ],
   "source": [
    "df2_clean.info()"
   ]
  },
  {
   "cell_type": "markdown",
   "metadata": {},
   "source": [
    "#### Define"
   ]
  },
  {
   "cell_type": "markdown",
   "metadata": {},
   "source": [
    "Issue 12: Merge the dataframe"
   ]
  },
  {
   "cell_type": "markdown",
   "metadata": {},
   "source": [
    "#### Code"
   ]
  },
  {
   "cell_type": "code",
   "execution_count": 268,
   "metadata": {},
   "outputs": [],
   "source": [
    "tweet_final_clean = pd.merge(df1_clean,df2_clean,how=\"inner\",on=\"tweet_id\")"
   ]
  },
  {
   "cell_type": "code",
   "execution_count": 269,
   "metadata": {},
   "outputs": [],
   "source": [
    "tweet_final_clean = pd.merge(tweet_final_clean,df3_final_clean,how=\"inner\",on=\"tweet_id\")"
   ]
  },
  {
   "cell_type": "markdown",
   "metadata": {},
   "source": [
    "#### Test"
   ]
  },
  {
   "cell_type": "code",
   "execution_count": 270,
   "metadata": {},
   "outputs": [
    {
     "name": "stdout",
     "output_type": "stream",
     "text": [
      "<class 'pandas.core.frame.DataFrame'>\n",
      "Int64Index: 1202 entries, 0 to 1201\n",
      "Data columns (total 21 columns):\n",
      "tweet_id                    1202 non-null object\n",
      "source                      1202 non-null object\n",
      "tweet_text                  1202 non-null object\n",
      "retweeted_status_id         1202 non-null object\n",
      "retweeted_status_user_id    1202 non-null object\n",
      "expanded_urls               1202 non-null object\n",
      "dog_score_outof10           1202 non-null float64\n",
      "dog_name                    1202 non-null object\n",
      "date                        1202 non-null int64\n",
      "month                       1202 non-null object\n",
      "year                        1202 non-null int64\n",
      "dayoftheweek                1202 non-null object\n",
      "dog_gender                  1202 non-null object\n",
      "dogs_stage                  1202 non-null object\n",
      "jpg_url                     1202 non-null object\n",
      "prediction                  1202 non-null object\n",
      "confidence                  1202 non-null float64\n",
      "retweets                    1202 non-null int64\n",
      "favorites                   1202 non-null int64\n",
      "user_followers              1202 non-null int64\n",
      "user_favourites             1202 non-null int64\n",
      "dtypes: float64(2), int64(6), object(13)\n",
      "memory usage: 206.6+ KB\n"
     ]
    }
   ],
   "source": [
    "tweet_final_clean.info()"
   ]
  },
  {
   "cell_type": "markdown",
   "metadata": {},
   "source": [
    "#### Define"
   ]
  },
  {
   "cell_type": "code",
   "execution_count": null,
   "metadata": {},
   "outputs": [],
   "source": [
    "Issue 13: Remove the retweets records"
   ]
  },
  {
   "cell_type": "markdown",
   "metadata": {},
   "source": [
    "### Code"
   ]
  },
  {
   "cell_type": "code",
   "execution_count": 278,
   "metadata": {},
   "outputs": [],
   "source": [
    "df1.drop(df1[df1[\"retweeted_status_id\"].notnull()].index,inplace=True)"
   ]
  },
  {
   "cell_type": "markdown",
   "metadata": {},
   "source": [
    "### Test"
   ]
  },
  {
   "cell_type": "code",
   "execution_count": 279,
   "metadata": {},
   "outputs": [
    {
     "data": {
      "text/plain": [
       "0"
      ]
     },
     "execution_count": 279,
     "metadata": {},
     "output_type": "execute_result"
    }
   ],
   "source": [
    "df1.retweeted_status_id.notnull().sum()"
   ]
  },
  {
   "cell_type": "markdown",
   "metadata": {},
   "source": [
    "#### Define"
   ]
  },
  {
   "cell_type": "markdown",
   "metadata": {},
   "source": [
    "Issue 14: Reorder the structure of the final dataframe"
   ]
  },
  {
   "cell_type": "markdown",
   "metadata": {},
   "source": [
    "#### Code"
   ]
  },
  {
   "cell_type": "code",
   "execution_count": 280,
   "metadata": {},
   "outputs": [],
   "source": [
    "new_structure = ['tweet_id','tweet_text','source','expanded_urls',\n",
    "                 'date','month','year','dayoftheweek',\n",
    "                 'favorites','retweets','retweeted_status_id', \n",
    "                 'retweeted_status_user_id',\n",
    "                 'user_followers','user_favourites',\n",
    "                 'dog_name',\n",
    "                 'dog_gender',\n",
    "                 'dog_score_outof10','dogs_stage','jpg_url','prediction',\n",
    "                 'confidence']"
   ]
  },
  {
   "cell_type": "code",
   "execution_count": 281,
   "metadata": {},
   "outputs": [],
   "source": [
    "tweet_final_clean = tweet_final_clean.reindex(columns=new_structure)"
   ]
  },
  {
   "cell_type": "markdown",
   "metadata": {},
   "source": [
    "#### Test"
   ]
  },
  {
   "cell_type": "code",
   "execution_count": 282,
   "metadata": {},
   "outputs": [
    {
     "data": {
      "text/html": [
       "<div>\n",
       "<style scoped>\n",
       "    .dataframe tbody tr th:only-of-type {\n",
       "        vertical-align: middle;\n",
       "    }\n",
       "\n",
       "    .dataframe tbody tr th {\n",
       "        vertical-align: top;\n",
       "    }\n",
       "\n",
       "    .dataframe thead th {\n",
       "        text-align: right;\n",
       "    }\n",
       "</style>\n",
       "<table border=\"1\" class=\"dataframe\">\n",
       "  <thead>\n",
       "    <tr style=\"text-align: right;\">\n",
       "      <th></th>\n",
       "      <th>tweet_id</th>\n",
       "      <th>tweet_text</th>\n",
       "      <th>source</th>\n",
       "      <th>expanded_urls</th>\n",
       "      <th>date</th>\n",
       "      <th>month</th>\n",
       "      <th>year</th>\n",
       "      <th>dayoftheweek</th>\n",
       "      <th>favorites</th>\n",
       "      <th>retweets</th>\n",
       "      <th>...</th>\n",
       "      <th>retweeted_status_user_id</th>\n",
       "      <th>user_followers</th>\n",
       "      <th>user_favourites</th>\n",
       "      <th>dog_name</th>\n",
       "      <th>dog_gender</th>\n",
       "      <th>dog_score_outof10</th>\n",
       "      <th>dogs_stage</th>\n",
       "      <th>jpg_url</th>\n",
       "      <th>prediction</th>\n",
       "      <th>confidence</th>\n",
       "    </tr>\n",
       "  </thead>\n",
       "  <tbody>\n",
       "    <tr>\n",
       "      <th>0</th>\n",
       "      <td>780931614150983680</td>\n",
       "      <td>I want to finally rate this iconic puppo who t...</td>\n",
       "      <td>Twitter for iPhone</td>\n",
       "      <td>https://twitter.com/dog_rates/status/780931614...</td>\n",
       "      <td>28</td>\n",
       "      <td>Sep</td>\n",
       "      <td>2016</td>\n",
       "      <td>Wednesday</td>\n",
       "      <td>21664</td>\n",
       "      <td>7301</td>\n",
       "      <td>...</td>\n",
       "      <td>nan</td>\n",
       "      <td>8855171</td>\n",
       "      <td>145874</td>\n",
       "      <td>None</td>\n",
       "      <td>NaN</td>\n",
       "      <td>13.0</td>\n",
       "      <td>puppo</td>\n",
       "      <td>https://pbs.twimg.com/media/CtZtJxAXEAAyPGd.jpg</td>\n",
       "      <td>NaN</td>\n",
       "      <td>0.000000</td>\n",
       "    </tr>\n",
       "    <tr>\n",
       "      <th>1</th>\n",
       "      <td>867421006826221569</td>\n",
       "      <td>This is Shikha. She just watched you drop a sk...</td>\n",
       "      <td>Twitter for iPhone</td>\n",
       "      <td>https://twitter.com/dog_rates/status/867421006...</td>\n",
       "      <td>24</td>\n",
       "      <td>May</td>\n",
       "      <td>2017</td>\n",
       "      <td>Wednesday</td>\n",
       "      <td>15127</td>\n",
       "      <td>2285</td>\n",
       "      <td>...</td>\n",
       "      <td>nan</td>\n",
       "      <td>8855164</td>\n",
       "      <td>145874</td>\n",
       "      <td>Shikha</td>\n",
       "      <td>Female</td>\n",
       "      <td>12.0</td>\n",
       "      <td>puppo</td>\n",
       "      <td>https://pbs.twimg.com/media/DAmyy8FXYAIH8Ty.jpg</td>\n",
       "      <td>Eskimo_dog</td>\n",
       "      <td>0.616457</td>\n",
       "    </tr>\n",
       "    <tr>\n",
       "      <th>2</th>\n",
       "      <td>787717603741622272</td>\n",
       "      <td>This is Tonks. She is a service puppo. Can hea...</td>\n",
       "      <td>Twitter for iPhone</td>\n",
       "      <td>https://twitter.com/dog_rates/status/787717603...</td>\n",
       "      <td>16</td>\n",
       "      <td>Oct</td>\n",
       "      <td>2016</td>\n",
       "      <td>Sunday</td>\n",
       "      <td>10319</td>\n",
       "      <td>2784</td>\n",
       "      <td>...</td>\n",
       "      <td>nan</td>\n",
       "      <td>8855171</td>\n",
       "      <td>145874</td>\n",
       "      <td>Tonks</td>\n",
       "      <td>Female</td>\n",
       "      <td>13.0</td>\n",
       "      <td>puppo</td>\n",
       "      <td>https://pbs.twimg.com/media/Cu6I9vvWIAAZG0a.jpg</td>\n",
       "      <td>German_shepherd</td>\n",
       "      <td>0.992339</td>\n",
       "    </tr>\n",
       "    <tr>\n",
       "      <th>3</th>\n",
       "      <td>790946055508652032</td>\n",
       "      <td>This is Betty. She's assisting with the dishes...</td>\n",
       "      <td>Twitter for iPhone</td>\n",
       "      <td>https://twitter.com/dog_rates/status/790946055...</td>\n",
       "      <td>25</td>\n",
       "      <td>Oct</td>\n",
       "      <td>2016</td>\n",
       "      <td>Tuesday</td>\n",
       "      <td>16758</td>\n",
       "      <td>4719</td>\n",
       "      <td>...</td>\n",
       "      <td>nan</td>\n",
       "      <td>8855171</td>\n",
       "      <td>145874</td>\n",
       "      <td>Betty</td>\n",
       "      <td>NaN</td>\n",
       "      <td>12.0</td>\n",
       "      <td>puppo</td>\n",
       "      <td>https://pbs.twimg.com/media/CvoBPWRWgAA4het.jpg</td>\n",
       "      <td>golden_retriever</td>\n",
       "      <td>0.245773</td>\n",
       "    </tr>\n",
       "    <tr>\n",
       "      <th>4</th>\n",
       "      <td>793195938047070209</td>\n",
       "      <td>Say hello to Lily. She's pupset that her costu...</td>\n",
       "      <td>Twitter for iPhone</td>\n",
       "      <td>https://twitter.com/dog_rates/status/793195938...</td>\n",
       "      <td>31</td>\n",
       "      <td>Oct</td>\n",
       "      <td>2016</td>\n",
       "      <td>Monday</td>\n",
       "      <td>15365</td>\n",
       "      <td>5656</td>\n",
       "      <td>...</td>\n",
       "      <td>nan</td>\n",
       "      <td>8855171</td>\n",
       "      <td>145874</td>\n",
       "      <td>Lily</td>\n",
       "      <td>Female</td>\n",
       "      <td>12.0</td>\n",
       "      <td>puppo</td>\n",
       "      <td>https://pbs.twimg.com/media/CwH_foYWgAEvTyI.jpg</td>\n",
       "      <td>Labrador_retriever</td>\n",
       "      <td>0.654762</td>\n",
       "    </tr>\n",
       "  </tbody>\n",
       "</table>\n",
       "<p>5 rows × 21 columns</p>\n",
       "</div>"
      ],
      "text/plain": [
       "             tweet_id                                         tweet_text  \\\n",
       "0  780931614150983680  I want to finally rate this iconic puppo who t...   \n",
       "1  867421006826221569  This is Shikha. She just watched you drop a sk...   \n",
       "2  787717603741622272  This is Tonks. She is a service puppo. Can hea...   \n",
       "3  790946055508652032  This is Betty. She's assisting with the dishes...   \n",
       "4  793195938047070209  Say hello to Lily. She's pupset that her costu...   \n",
       "\n",
       "               source                                      expanded_urls  \\\n",
       "0  Twitter for iPhone  https://twitter.com/dog_rates/status/780931614...   \n",
       "1  Twitter for iPhone  https://twitter.com/dog_rates/status/867421006...   \n",
       "2  Twitter for iPhone  https://twitter.com/dog_rates/status/787717603...   \n",
       "3  Twitter for iPhone  https://twitter.com/dog_rates/status/790946055...   \n",
       "4  Twitter for iPhone  https://twitter.com/dog_rates/status/793195938...   \n",
       "\n",
       "   date month  year dayoftheweek  favorites  retweets    ...      \\\n",
       "0    28   Sep  2016    Wednesday      21664      7301    ...       \n",
       "1    24   May  2017    Wednesday      15127      2285    ...       \n",
       "2    16   Oct  2016       Sunday      10319      2784    ...       \n",
       "3    25   Oct  2016      Tuesday      16758      4719    ...       \n",
       "4    31   Oct  2016       Monday      15365      5656    ...       \n",
       "\n",
       "  retweeted_status_user_id user_followers  user_favourites  dog_name  \\\n",
       "0                      nan        8855171           145874      None   \n",
       "1                      nan        8855164           145874    Shikha   \n",
       "2                      nan        8855171           145874     Tonks   \n",
       "3                      nan        8855171           145874     Betty   \n",
       "4                      nan        8855171           145874      Lily   \n",
       "\n",
       "  dog_gender dog_score_outof10  dogs_stage  \\\n",
       "0        NaN              13.0       puppo   \n",
       "1     Female              12.0       puppo   \n",
       "2     Female              13.0       puppo   \n",
       "3        NaN              12.0       puppo   \n",
       "4     Female              12.0       puppo   \n",
       "\n",
       "                                           jpg_url          prediction  \\\n",
       "0  https://pbs.twimg.com/media/CtZtJxAXEAAyPGd.jpg                 NaN   \n",
       "1  https://pbs.twimg.com/media/DAmyy8FXYAIH8Ty.jpg          Eskimo_dog   \n",
       "2  https://pbs.twimg.com/media/Cu6I9vvWIAAZG0a.jpg     German_shepherd   \n",
       "3  https://pbs.twimg.com/media/CvoBPWRWgAA4het.jpg    golden_retriever   \n",
       "4  https://pbs.twimg.com/media/CwH_foYWgAEvTyI.jpg  Labrador_retriever   \n",
       "\n",
       "  confidence  \n",
       "0   0.000000  \n",
       "1   0.616457  \n",
       "2   0.992339  \n",
       "3   0.245773  \n",
       "4   0.654762  \n",
       "\n",
       "[5 rows x 21 columns]"
      ]
     },
     "execution_count": 282,
     "metadata": {},
     "output_type": "execute_result"
    }
   ],
   "source": [
    "tweet_final_clean.head(5)"
   ]
  },
  {
   "cell_type": "code",
   "execution_count": 283,
   "metadata": {},
   "outputs": [
    {
     "data": {
      "text/plain": [
       "Index(['tweet_id', 'tweet_text', 'source', 'expanded_urls', 'date', 'month',\n",
       "       'year', 'dayoftheweek', 'favorites', 'retweets', 'retweeted_status_id',\n",
       "       'retweeted_status_user_id', 'user_followers', 'user_favourites',\n",
       "       'dog_name', 'dog_gender', 'dog_score_outof10', 'dogs_stage', 'jpg_url',\n",
       "       'prediction', 'confidence'],\n",
       "      dtype='object')"
      ]
     },
     "execution_count": 283,
     "metadata": {},
     "output_type": "execute_result"
    }
   ],
   "source": [
    "tweet_final_clean.columns"
   ]
  },
  {
   "cell_type": "markdown",
   "metadata": {},
   "source": [
    "### Storing the final dataset as CSV file"
   ]
  },
  {
   "cell_type": "code",
   "execution_count": 294,
   "metadata": {},
   "outputs": [],
   "source": [
    "final_dataset = pd.DataFrame(tweet_final_clean, columns = ['tweet_id', 'tweet_text', 'source', 'expanded_urls', 'date', 'month',\n",
    "       'year', 'dayoftheweek', 'favorites', 'retweets','retweeted_status_id',\n",
    "        'retweeted_status_user_id',                                                   \n",
    "       'user_followers', 'user_favourites', 'dog_name', 'dog_gender',\n",
    "       'dog_score_outof10', 'dogs_stage', 'jpg_url', 'prediction',\n",
    "       'confidence'])\n"
   ]
  },
  {
   "cell_type": "code",
   "execution_count": 301,
   "metadata": {},
   "outputs": [],
   "source": [
    "final_dataset.to_csv('twitter_archive_master', encoding = 'utf-8', index=False)"
   ]
  },
  {
   "cell_type": "code",
   "execution_count": 302,
   "metadata": {},
   "outputs": [],
   "source": [
    "twitter_archive_master = pd.read_csv(\"twitter_archive_master\")"
   ]
  },
  {
   "cell_type": "code",
   "execution_count": 303,
   "metadata": {},
   "outputs": [
    {
     "name": "stdout",
     "output_type": "stream",
     "text": [
      "<class 'pandas.core.frame.DataFrame'>\n",
      "RangeIndex: 1202 entries, 0 to 1201\n",
      "Data columns (total 21 columns):\n",
      "tweet_id                    1202 non-null int64\n",
      "tweet_text                  1202 non-null object\n",
      "source                      1202 non-null object\n",
      "expanded_urls               1202 non-null object\n",
      "date                        1202 non-null int64\n",
      "month                       1202 non-null object\n",
      "year                        1202 non-null int64\n",
      "dayoftheweek                1202 non-null object\n",
      "favorites                   1202 non-null int64\n",
      "retweets                    1202 non-null int64\n",
      "retweeted_status_id         62 non-null float64\n",
      "retweeted_status_user_id    62 non-null float64\n",
      "user_followers              1202 non-null int64\n",
      "user_favourites             1202 non-null int64\n",
      "dog_name                    1202 non-null object\n",
      "dog_gender                  548 non-null object\n",
      "dog_score_outof10           1202 non-null float64\n",
      "dogs_stage                  1202 non-null object\n",
      "jpg_url                     1202 non-null object\n",
      "prediction                  1079 non-null object\n",
      "confidence                  1202 non-null float64\n",
      "dtypes: float64(4), int64(7), object(10)\n",
      "memory usage: 197.3+ KB\n"
     ]
    }
   ],
   "source": [
    "twitter_archive_master.info()"
   ]
  },
  {
   "cell_type": "code",
   "execution_count": 3,
   "metadata": {},
   "outputs": [],
   "source": [
    "df = pd.read_csv(\"twitter_archive_master\")"
   ]
  },
  {
   "cell_type": "code",
   "execution_count": 4,
   "metadata": {},
   "outputs": [
    {
     "data": {
      "text/html": [
       "<div>\n",
       "<style scoped>\n",
       "    .dataframe tbody tr th:only-of-type {\n",
       "        vertical-align: middle;\n",
       "    }\n",
       "\n",
       "    .dataframe tbody tr th {\n",
       "        vertical-align: top;\n",
       "    }\n",
       "\n",
       "    .dataframe thead th {\n",
       "        text-align: right;\n",
       "    }\n",
       "</style>\n",
       "<table border=\"1\" class=\"dataframe\">\n",
       "  <thead>\n",
       "    <tr style=\"text-align: right;\">\n",
       "      <th></th>\n",
       "      <th>tweet_id</th>\n",
       "      <th>tweet_text</th>\n",
       "      <th>source</th>\n",
       "      <th>expanded_urls</th>\n",
       "      <th>date</th>\n",
       "      <th>month</th>\n",
       "      <th>year</th>\n",
       "      <th>dayoftheweek</th>\n",
       "      <th>favorites</th>\n",
       "      <th>retweets</th>\n",
       "      <th>...</th>\n",
       "      <th>retweeted_status_user_id</th>\n",
       "      <th>user_followers</th>\n",
       "      <th>user_favourites</th>\n",
       "      <th>dog_name</th>\n",
       "      <th>dog_gender</th>\n",
       "      <th>dog_score_outof10</th>\n",
       "      <th>dogs_stage</th>\n",
       "      <th>jpg_url</th>\n",
       "      <th>prediction</th>\n",
       "      <th>confidence</th>\n",
       "    </tr>\n",
       "  </thead>\n",
       "  <tbody>\n",
       "    <tr>\n",
       "      <th>0</th>\n",
       "      <td>780931614150983680</td>\n",
       "      <td>I want to finally rate this iconic puppo who t...</td>\n",
       "      <td>Twitter for iPhone</td>\n",
       "      <td>https://twitter.com/dog_rates/status/780931614...</td>\n",
       "      <td>28</td>\n",
       "      <td>Sep</td>\n",
       "      <td>2016</td>\n",
       "      <td>Wednesday</td>\n",
       "      <td>21664</td>\n",
       "      <td>7301</td>\n",
       "      <td>...</td>\n",
       "      <td>NaN</td>\n",
       "      <td>8855171</td>\n",
       "      <td>145874</td>\n",
       "      <td>None</td>\n",
       "      <td>NaN</td>\n",
       "      <td>13.0</td>\n",
       "      <td>puppo</td>\n",
       "      <td>https://pbs.twimg.com/media/CtZtJxAXEAAyPGd.jpg</td>\n",
       "      <td>NaN</td>\n",
       "      <td>0.000000</td>\n",
       "    </tr>\n",
       "    <tr>\n",
       "      <th>1</th>\n",
       "      <td>867421006826221569</td>\n",
       "      <td>This is Shikha. She just watched you drop a sk...</td>\n",
       "      <td>Twitter for iPhone</td>\n",
       "      <td>https://twitter.com/dog_rates/status/867421006...</td>\n",
       "      <td>24</td>\n",
       "      <td>May</td>\n",
       "      <td>2017</td>\n",
       "      <td>Wednesday</td>\n",
       "      <td>15127</td>\n",
       "      <td>2285</td>\n",
       "      <td>...</td>\n",
       "      <td>NaN</td>\n",
       "      <td>8855164</td>\n",
       "      <td>145874</td>\n",
       "      <td>Shikha</td>\n",
       "      <td>Female</td>\n",
       "      <td>12.0</td>\n",
       "      <td>puppo</td>\n",
       "      <td>https://pbs.twimg.com/media/DAmyy8FXYAIH8Ty.jpg</td>\n",
       "      <td>Eskimo_dog</td>\n",
       "      <td>0.616457</td>\n",
       "    </tr>\n",
       "    <tr>\n",
       "      <th>2</th>\n",
       "      <td>787717603741622272</td>\n",
       "      <td>This is Tonks. She is a service puppo. Can hea...</td>\n",
       "      <td>Twitter for iPhone</td>\n",
       "      <td>https://twitter.com/dog_rates/status/787717603...</td>\n",
       "      <td>16</td>\n",
       "      <td>Oct</td>\n",
       "      <td>2016</td>\n",
       "      <td>Sunday</td>\n",
       "      <td>10319</td>\n",
       "      <td>2784</td>\n",
       "      <td>...</td>\n",
       "      <td>NaN</td>\n",
       "      <td>8855171</td>\n",
       "      <td>145874</td>\n",
       "      <td>Tonks</td>\n",
       "      <td>Female</td>\n",
       "      <td>13.0</td>\n",
       "      <td>puppo</td>\n",
       "      <td>https://pbs.twimg.com/media/Cu6I9vvWIAAZG0a.jpg</td>\n",
       "      <td>German_shepherd</td>\n",
       "      <td>0.992339</td>\n",
       "    </tr>\n",
       "    <tr>\n",
       "      <th>3</th>\n",
       "      <td>790946055508652032</td>\n",
       "      <td>This is Betty. She's assisting with the dishes...</td>\n",
       "      <td>Twitter for iPhone</td>\n",
       "      <td>https://twitter.com/dog_rates/status/790946055...</td>\n",
       "      <td>25</td>\n",
       "      <td>Oct</td>\n",
       "      <td>2016</td>\n",
       "      <td>Tuesday</td>\n",
       "      <td>16758</td>\n",
       "      <td>4719</td>\n",
       "      <td>...</td>\n",
       "      <td>NaN</td>\n",
       "      <td>8855171</td>\n",
       "      <td>145874</td>\n",
       "      <td>Betty</td>\n",
       "      <td>NaN</td>\n",
       "      <td>12.0</td>\n",
       "      <td>puppo</td>\n",
       "      <td>https://pbs.twimg.com/media/CvoBPWRWgAA4het.jpg</td>\n",
       "      <td>golden_retriever</td>\n",
       "      <td>0.245773</td>\n",
       "    </tr>\n",
       "    <tr>\n",
       "      <th>4</th>\n",
       "      <td>793195938047070209</td>\n",
       "      <td>Say hello to Lily. She's pupset that her costu...</td>\n",
       "      <td>Twitter for iPhone</td>\n",
       "      <td>https://twitter.com/dog_rates/status/793195938...</td>\n",
       "      <td>31</td>\n",
       "      <td>Oct</td>\n",
       "      <td>2016</td>\n",
       "      <td>Monday</td>\n",
       "      <td>15365</td>\n",
       "      <td>5656</td>\n",
       "      <td>...</td>\n",
       "      <td>NaN</td>\n",
       "      <td>8855171</td>\n",
       "      <td>145874</td>\n",
       "      <td>Lily</td>\n",
       "      <td>Female</td>\n",
       "      <td>12.0</td>\n",
       "      <td>puppo</td>\n",
       "      <td>https://pbs.twimg.com/media/CwH_foYWgAEvTyI.jpg</td>\n",
       "      <td>Labrador_retriever</td>\n",
       "      <td>0.654762</td>\n",
       "    </tr>\n",
       "  </tbody>\n",
       "</table>\n",
       "<p>5 rows × 21 columns</p>\n",
       "</div>"
      ],
      "text/plain": [
       "             tweet_id                                         tweet_text  \\\n",
       "0  780931614150983680  I want to finally rate this iconic puppo who t...   \n",
       "1  867421006826221569  This is Shikha. She just watched you drop a sk...   \n",
       "2  787717603741622272  This is Tonks. She is a service puppo. Can hea...   \n",
       "3  790946055508652032  This is Betty. She's assisting with the dishes...   \n",
       "4  793195938047070209  Say hello to Lily. She's pupset that her costu...   \n",
       "\n",
       "               source                                      expanded_urls  \\\n",
       "0  Twitter for iPhone  https://twitter.com/dog_rates/status/780931614...   \n",
       "1  Twitter for iPhone  https://twitter.com/dog_rates/status/867421006...   \n",
       "2  Twitter for iPhone  https://twitter.com/dog_rates/status/787717603...   \n",
       "3  Twitter for iPhone  https://twitter.com/dog_rates/status/790946055...   \n",
       "4  Twitter for iPhone  https://twitter.com/dog_rates/status/793195938...   \n",
       "\n",
       "   date month  year dayoftheweek  favorites  retweets    ...      \\\n",
       "0    28   Sep  2016    Wednesday      21664      7301    ...       \n",
       "1    24   May  2017    Wednesday      15127      2285    ...       \n",
       "2    16   Oct  2016       Sunday      10319      2784    ...       \n",
       "3    25   Oct  2016      Tuesday      16758      4719    ...       \n",
       "4    31   Oct  2016       Monday      15365      5656    ...       \n",
       "\n",
       "   retweeted_status_user_id  user_followers  user_favourites  dog_name  \\\n",
       "0                       NaN         8855171           145874      None   \n",
       "1                       NaN         8855164           145874    Shikha   \n",
       "2                       NaN         8855171           145874     Tonks   \n",
       "3                       NaN         8855171           145874     Betty   \n",
       "4                       NaN         8855171           145874      Lily   \n",
       "\n",
       "  dog_gender dog_score_outof10  dogs_stage  \\\n",
       "0        NaN              13.0       puppo   \n",
       "1     Female              12.0       puppo   \n",
       "2     Female              13.0       puppo   \n",
       "3        NaN              12.0       puppo   \n",
       "4     Female              12.0       puppo   \n",
       "\n",
       "                                           jpg_url          prediction  \\\n",
       "0  https://pbs.twimg.com/media/CtZtJxAXEAAyPGd.jpg                 NaN   \n",
       "1  https://pbs.twimg.com/media/DAmyy8FXYAIH8Ty.jpg          Eskimo_dog   \n",
       "2  https://pbs.twimg.com/media/Cu6I9vvWIAAZG0a.jpg     German_shepherd   \n",
       "3  https://pbs.twimg.com/media/CvoBPWRWgAA4het.jpg    golden_retriever   \n",
       "4  https://pbs.twimg.com/media/CwH_foYWgAEvTyI.jpg  Labrador_retriever   \n",
       "\n",
       "  confidence  \n",
       "0   0.000000  \n",
       "1   0.616457  \n",
       "2   0.992339  \n",
       "3   0.245773  \n",
       "4   0.654762  \n",
       "\n",
       "[5 rows x 21 columns]"
      ]
     },
     "execution_count": 4,
     "metadata": {},
     "output_type": "execute_result"
    }
   ],
   "source": [
    "df.head(5)"
   ]
  },
  {
   "cell_type": "code",
   "execution_count": 315,
   "metadata": {},
   "outputs": [
    {
     "data": {
      "text/html": [
       "<div>\n",
       "<style scoped>\n",
       "    .dataframe tbody tr th:only-of-type {\n",
       "        vertical-align: middle;\n",
       "    }\n",
       "\n",
       "    .dataframe tbody tr th {\n",
       "        vertical-align: top;\n",
       "    }\n",
       "\n",
       "    .dataframe thead th {\n",
       "        text-align: right;\n",
       "    }\n",
       "</style>\n",
       "<table border=\"1\" class=\"dataframe\">\n",
       "  <thead>\n",
       "    <tr style=\"text-align: right;\">\n",
       "      <th></th>\n",
       "      <th>tweet_id</th>\n",
       "      <th>tweet_text</th>\n",
       "      <th>source</th>\n",
       "      <th>expanded_urls</th>\n",
       "      <th>date</th>\n",
       "      <th>month</th>\n",
       "      <th>year</th>\n",
       "      <th>dayoftheweek</th>\n",
       "      <th>favorites</th>\n",
       "      <th>retweets</th>\n",
       "      <th>...</th>\n",
       "      <th>retweeted_status_user_id</th>\n",
       "      <th>user_followers</th>\n",
       "      <th>user_favourites</th>\n",
       "      <th>dog_name</th>\n",
       "      <th>dog_gender</th>\n",
       "      <th>dog_score_outof10</th>\n",
       "      <th>dogs_stage</th>\n",
       "      <th>jpg_url</th>\n",
       "      <th>prediction</th>\n",
       "      <th>confidence</th>\n",
       "    </tr>\n",
       "  </thead>\n",
       "  <tbody>\n",
       "    <tr>\n",
       "      <th>1197</th>\n",
       "      <td>884925521741709313</td>\n",
       "      <td>This is Earl. He found a hat. Nervous about wh...</td>\n",
       "      <td>Twitter for iPhone</td>\n",
       "      <td>https://twitter.com/dog_rates/status/884925521...</td>\n",
       "      <td>12</td>\n",
       "      <td>Jul</td>\n",
       "      <td>2017</td>\n",
       "      <td>Wednesday</td>\n",
       "      <td>71311</td>\n",
       "      <td>16155</td>\n",
       "      <td>...</td>\n",
       "      <td>NaN</td>\n",
       "      <td>8855163</td>\n",
       "      <td>145874</td>\n",
       "      <td>Earl</td>\n",
       "      <td>Male</td>\n",
       "      <td>12.0</td>\n",
       "      <td>None</td>\n",
       "      <td>https://pbs.twimg.com/media/DEfjEaNXkAAtPlj.jpg</td>\n",
       "      <td>Italian_greyhound</td>\n",
       "      <td>0.259916</td>\n",
       "    </tr>\n",
       "    <tr>\n",
       "      <th>1198</th>\n",
       "      <td>885167619883638784</td>\n",
       "      <td>Here we have a corgi undercover as a malamute....</td>\n",
       "      <td>Twitter for iPhone</td>\n",
       "      <td>https://twitter.com/dog_rates/status/885167619...</td>\n",
       "      <td>12</td>\n",
       "      <td>Jul</td>\n",
       "      <td>2017</td>\n",
       "      <td>Wednesday</td>\n",
       "      <td>20268</td>\n",
       "      <td>3910</td>\n",
       "      <td>...</td>\n",
       "      <td>NaN</td>\n",
       "      <td>8855163</td>\n",
       "      <td>145874</td>\n",
       "      <td>None</td>\n",
       "      <td>NaN</td>\n",
       "      <td>13.0</td>\n",
       "      <td>None</td>\n",
       "      <td>https://pbs.twimg.com/media/DEi_N9qXYAAgEEw.jpg</td>\n",
       "      <td>malamute</td>\n",
       "      <td>0.812482</td>\n",
       "    </tr>\n",
       "    <tr>\n",
       "      <th>1199</th>\n",
       "      <td>885311592912609280</td>\n",
       "      <td>RT @dog_rates: This is Lilly. She just paralle...</td>\n",
       "      <td>Twitter for iPhone</td>\n",
       "      <td>https://twitter.com/dog_rates/status/830583320...</td>\n",
       "      <td>13</td>\n",
       "      <td>Jul</td>\n",
       "      <td>2017</td>\n",
       "      <td>Thrusday</td>\n",
       "      <td>0</td>\n",
       "      <td>16569</td>\n",
       "      <td>...</td>\n",
       "      <td>4.196984e+09</td>\n",
       "      <td>8855163</td>\n",
       "      <td>145874</td>\n",
       "      <td>Lilly</td>\n",
       "      <td>Female</td>\n",
       "      <td>13.0</td>\n",
       "      <td>None</td>\n",
       "      <td>https://pbs.twimg.com/media/C4bTH6nWMAAX_bJ.jpg</td>\n",
       "      <td>Labrador_retriever</td>\n",
       "      <td>0.908703</td>\n",
       "    </tr>\n",
       "    <tr>\n",
       "      <th>1200</th>\n",
       "      <td>885528943205470208</td>\n",
       "      <td>This is Maisey. She fell asleep mid-excavation...</td>\n",
       "      <td>Twitter for iPhone</td>\n",
       "      <td>https://twitter.com/dog_rates/status/885528943...</td>\n",
       "      <td>13</td>\n",
       "      <td>Jul</td>\n",
       "      <td>2017</td>\n",
       "      <td>Thrusday</td>\n",
       "      <td>33302</td>\n",
       "      <td>5727</td>\n",
       "      <td>...</td>\n",
       "      <td>NaN</td>\n",
       "      <td>8855163</td>\n",
       "      <td>145874</td>\n",
       "      <td>Maisey</td>\n",
       "      <td>Female</td>\n",
       "      <td>13.0</td>\n",
       "      <td>None</td>\n",
       "      <td>https://pbs.twimg.com/media/DEoH3yvXgAAzQtS.jpg</td>\n",
       "      <td>pug</td>\n",
       "      <td>0.369275</td>\n",
       "    </tr>\n",
       "    <tr>\n",
       "      <th>1201</th>\n",
       "      <td>885984800019947520</td>\n",
       "      <td>Viewer discretion advised. This is Jimbo. He w...</td>\n",
       "      <td>Twitter for iPhone</td>\n",
       "      <td>https://twitter.com/dog_rates/status/885984800...</td>\n",
       "      <td>14</td>\n",
       "      <td>Jul</td>\n",
       "      <td>2017</td>\n",
       "      <td>Friday</td>\n",
       "      <td>30183</td>\n",
       "      <td>6022</td>\n",
       "      <td>...</td>\n",
       "      <td>NaN</td>\n",
       "      <td>8855163</td>\n",
       "      <td>145874</td>\n",
       "      <td>Jimbo</td>\n",
       "      <td>Male</td>\n",
       "      <td>12.0</td>\n",
       "      <td>None</td>\n",
       "      <td>https://pbs.twimg.com/media/DEumeWWV0AA-Z61.jpg</td>\n",
       "      <td>Blenheim_spaniel</td>\n",
       "      <td>0.972494</td>\n",
       "    </tr>\n",
       "  </tbody>\n",
       "</table>\n",
       "<p>5 rows × 21 columns</p>\n",
       "</div>"
      ],
      "text/plain": [
       "                tweet_id                                         tweet_text  \\\n",
       "1197  884925521741709313  This is Earl. He found a hat. Nervous about wh...   \n",
       "1198  885167619883638784  Here we have a corgi undercover as a malamute....   \n",
       "1199  885311592912609280  RT @dog_rates: This is Lilly. She just paralle...   \n",
       "1200  885528943205470208  This is Maisey. She fell asleep mid-excavation...   \n",
       "1201  885984800019947520  Viewer discretion advised. This is Jimbo. He w...   \n",
       "\n",
       "                  source                                      expanded_urls  \\\n",
       "1197  Twitter for iPhone  https://twitter.com/dog_rates/status/884925521...   \n",
       "1198  Twitter for iPhone  https://twitter.com/dog_rates/status/885167619...   \n",
       "1199  Twitter for iPhone  https://twitter.com/dog_rates/status/830583320...   \n",
       "1200  Twitter for iPhone  https://twitter.com/dog_rates/status/885528943...   \n",
       "1201  Twitter for iPhone  https://twitter.com/dog_rates/status/885984800...   \n",
       "\n",
       "      date month  year dayoftheweek  favorites  retweets    ...      \\\n",
       "1197    12   Jul  2017    Wednesday      71311     16155    ...       \n",
       "1198    12   Jul  2017    Wednesday      20268      3910    ...       \n",
       "1199    13   Jul  2017     Thrusday          0     16569    ...       \n",
       "1200    13   Jul  2017     Thrusday      33302      5727    ...       \n",
       "1201    14   Jul  2017       Friday      30183      6022    ...       \n",
       "\n",
       "      retweeted_status_user_id  user_followers  user_favourites  dog_name  \\\n",
       "1197                       NaN         8855163           145874      Earl   \n",
       "1198                       NaN         8855163           145874      None   \n",
       "1199              4.196984e+09         8855163           145874     Lilly   \n",
       "1200                       NaN         8855163           145874    Maisey   \n",
       "1201                       NaN         8855163           145874     Jimbo   \n",
       "\n",
       "     dog_gender dog_score_outof10  dogs_stage  \\\n",
       "1197       Male              12.0        None   \n",
       "1198        NaN              13.0        None   \n",
       "1199     Female              13.0        None   \n",
       "1200     Female              13.0        None   \n",
       "1201       Male              12.0        None   \n",
       "\n",
       "                                              jpg_url          prediction  \\\n",
       "1197  https://pbs.twimg.com/media/DEfjEaNXkAAtPlj.jpg   Italian_greyhound   \n",
       "1198  https://pbs.twimg.com/media/DEi_N9qXYAAgEEw.jpg            malamute   \n",
       "1199  https://pbs.twimg.com/media/C4bTH6nWMAAX_bJ.jpg  Labrador_retriever   \n",
       "1200  https://pbs.twimg.com/media/DEoH3yvXgAAzQtS.jpg                 pug   \n",
       "1201  https://pbs.twimg.com/media/DEumeWWV0AA-Z61.jpg    Blenheim_spaniel   \n",
       "\n",
       "     confidence  \n",
       "1197   0.259916  \n",
       "1198   0.812482  \n",
       "1199   0.908703  \n",
       "1200   0.369275  \n",
       "1201   0.972494  \n",
       "\n",
       "[5 rows x 21 columns]"
      ]
     },
     "execution_count": 315,
     "metadata": {},
     "output_type": "execute_result"
    }
   ],
   "source": [
    "df.tail(5)"
   ]
  },
  {
   "cell_type": "code",
   "execution_count": 316,
   "metadata": {},
   "outputs": [
    {
     "data": {
      "text/plain": [
       "Index(['tweet_id', 'tweet_text', 'source', 'expanded_urls', 'date', 'month',\n",
       "       'year', 'dayoftheweek', 'favorites', 'retweets', 'retweeted_status_id',\n",
       "       'retweeted_status_user_id', 'user_followers', 'user_favourites',\n",
       "       'dog_name', 'dog_gender', 'dog_score_outof10', 'dogs_stage', 'jpg_url',\n",
       "       'prediction', 'confidence'],\n",
       "      dtype='object')"
      ]
     },
     "execution_count": 316,
     "metadata": {},
     "output_type": "execute_result"
    }
   ],
   "source": [
    "df.columns"
   ]
  },
  {
   "cell_type": "code",
   "execution_count": 317,
   "metadata": {},
   "outputs": [
    {
     "data": {
      "text/plain": [
       "(1202, 21)"
      ]
     },
     "execution_count": 317,
     "metadata": {},
     "output_type": "execute_result"
    }
   ],
   "source": [
    "df.shape"
   ]
  },
  {
   "cell_type": "code",
   "execution_count": 318,
   "metadata": {},
   "outputs": [
    {
     "name": "stdout",
     "output_type": "stream",
     "text": [
      "<class 'pandas.core.frame.DataFrame'>\n",
      "RangeIndex: 1202 entries, 0 to 1201\n",
      "Data columns (total 21 columns):\n",
      "tweet_id                    1202 non-null int64\n",
      "tweet_text                  1202 non-null object\n",
      "source                      1202 non-null object\n",
      "expanded_urls               1202 non-null object\n",
      "date                        1202 non-null int64\n",
      "month                       1202 non-null object\n",
      "year                        1202 non-null int64\n",
      "dayoftheweek                1202 non-null object\n",
      "favorites                   1202 non-null int64\n",
      "retweets                    1202 non-null int64\n",
      "retweeted_status_id         62 non-null float64\n",
      "retweeted_status_user_id    62 non-null float64\n",
      "user_followers              1202 non-null int64\n",
      "user_favourites             1202 non-null int64\n",
      "dog_name                    1202 non-null object\n",
      "dog_gender                  548 non-null object\n",
      "dog_score_outof10           1202 non-null float64\n",
      "dogs_stage                  1202 non-null object\n",
      "jpg_url                     1202 non-null object\n",
      "prediction                  1079 non-null object\n",
      "confidence                  1202 non-null float64\n",
      "dtypes: float64(4), int64(7), object(10)\n",
      "memory usage: 197.3+ KB\n"
     ]
    }
   ],
   "source": [
    "df.info()"
   ]
  },
  {
   "cell_type": "code",
   "execution_count": 319,
   "metadata": {},
   "outputs": [
    {
     "data": {
      "text/html": [
       "<div>\n",
       "<style scoped>\n",
       "    .dataframe tbody tr th:only-of-type {\n",
       "        vertical-align: middle;\n",
       "    }\n",
       "\n",
       "    .dataframe tbody tr th {\n",
       "        vertical-align: top;\n",
       "    }\n",
       "\n",
       "    .dataframe thead th {\n",
       "        text-align: right;\n",
       "    }\n",
       "</style>\n",
       "<table border=\"1\" class=\"dataframe\">\n",
       "  <thead>\n",
       "    <tr style=\"text-align: right;\">\n",
       "      <th></th>\n",
       "      <th>tweet_id</th>\n",
       "      <th>date</th>\n",
       "      <th>year</th>\n",
       "      <th>favorites</th>\n",
       "      <th>retweets</th>\n",
       "      <th>retweeted_status_id</th>\n",
       "      <th>retweeted_status_user_id</th>\n",
       "      <th>user_followers</th>\n",
       "      <th>user_favourites</th>\n",
       "      <th>dog_score_outof10</th>\n",
       "      <th>confidence</th>\n",
       "    </tr>\n",
       "  </thead>\n",
       "  <tbody>\n",
       "    <tr>\n",
       "      <th>count</th>\n",
       "      <td>1.202000e+03</td>\n",
       "      <td>1202.000000</td>\n",
       "      <td>1202.000000</td>\n",
       "      <td>1202.000000</td>\n",
       "      <td>1202.000000</td>\n",
       "      <td>6.200000e+01</td>\n",
       "      <td>6.200000e+01</td>\n",
       "      <td>1.202000e+03</td>\n",
       "      <td>1202.000000</td>\n",
       "      <td>1202.000000</td>\n",
       "      <td>1202.000000</td>\n",
       "    </tr>\n",
       "    <tr>\n",
       "      <th>mean</th>\n",
       "      <td>7.675589e+17</td>\n",
       "      <td>15.693012</td>\n",
       "      <td>2016.138935</td>\n",
       "      <td>11246.779534</td>\n",
       "      <td>3536.187188</td>\n",
       "      <td>7.665545e+17</td>\n",
       "      <td>1.270100e+16</td>\n",
       "      <td>8.855150e+06</td>\n",
       "      <td>145874.010815</td>\n",
       "      <td>13.756681</td>\n",
       "      <td>0.514555</td>\n",
       "    </tr>\n",
       "    <tr>\n",
       "      <th>std</th>\n",
       "      <td>6.921065e+16</td>\n",
       "      <td>8.923102</td>\n",
       "      <td>0.674131</td>\n",
       "      <td>14065.816170</td>\n",
       "      <td>5308.437778</td>\n",
       "      <td>5.619705e+16</td>\n",
       "      <td>1.000077e+17</td>\n",
       "      <td>8.891517e+01</td>\n",
       "      <td>0.103476</td>\n",
       "      <td>52.222071</td>\n",
       "      <td>0.329727</td>\n",
       "    </tr>\n",
       "    <tr>\n",
       "      <th>min</th>\n",
       "      <td>6.661022e+17</td>\n",
       "      <td>1.000000</td>\n",
       "      <td>2015.000000</td>\n",
       "      <td>0.000000</td>\n",
       "      <td>11.000000</td>\n",
       "      <td>6.675094e+17</td>\n",
       "      <td>7.832140e+05</td>\n",
       "      <td>8.854946e+06</td>\n",
       "      <td>145874.000000</td>\n",
       "      <td>11.000000</td>\n",
       "      <td>0.000000</td>\n",
       "    </tr>\n",
       "    <tr>\n",
       "      <th>25%</th>\n",
       "      <td>6.990456e+17</td>\n",
       "      <td>8.000000</td>\n",
       "      <td>2016.000000</td>\n",
       "      <td>2691.000000</td>\n",
       "      <td>962.750000</td>\n",
       "      <td>7.273831e+17</td>\n",
       "      <td>4.196984e+09</td>\n",
       "      <td>8.855164e+06</td>\n",
       "      <td>145874.000000</td>\n",
       "      <td>11.000000</td>\n",
       "      <td>0.245229</td>\n",
       "    </tr>\n",
       "    <tr>\n",
       "      <th>50%</th>\n",
       "      <td>7.721554e+17</td>\n",
       "      <td>16.000000</td>\n",
       "      <td>2016.000000</td>\n",
       "      <td>7213.000000</td>\n",
       "      <td>2105.500000</td>\n",
       "      <td>7.801500e+17</td>\n",
       "      <td>4.196984e+09</td>\n",
       "      <td>8.855171e+06</td>\n",
       "      <td>145874.000000</td>\n",
       "      <td>12.000000</td>\n",
       "      <td>0.522865</td>\n",
       "    </tr>\n",
       "    <tr>\n",
       "      <th>75%</th>\n",
       "      <td>8.249690e+17</td>\n",
       "      <td>23.000000</td>\n",
       "      <td>2017.000000</td>\n",
       "      <td>15275.500000</td>\n",
       "      <td>4068.000000</td>\n",
       "      <td>7.991435e+17</td>\n",
       "      <td>4.196984e+09</td>\n",
       "      <td>8.855186e+06</td>\n",
       "      <td>145874.000000</td>\n",
       "      <td>13.000000</td>\n",
       "      <td>0.817731</td>\n",
       "    </tr>\n",
       "    <tr>\n",
       "      <th>max</th>\n",
       "      <td>8.924206e+17</td>\n",
       "      <td>31.000000</td>\n",
       "      <td>2017.000000</td>\n",
       "      <td>153976.000000</td>\n",
       "      <td>76279.000000</td>\n",
       "      <td>8.768508e+17</td>\n",
       "      <td>7.874618e+17</td>\n",
       "      <td>8.855598e+06</td>\n",
       "      <td>145875.000000</td>\n",
       "      <td>1776.000000</td>\n",
       "      <td>0.999953</td>\n",
       "    </tr>\n",
       "  </tbody>\n",
       "</table>\n",
       "</div>"
      ],
      "text/plain": [
       "           tweet_id         date         year      favorites      retweets  \\\n",
       "count  1.202000e+03  1202.000000  1202.000000    1202.000000   1202.000000   \n",
       "mean   7.675589e+17    15.693012  2016.138935   11246.779534   3536.187188   \n",
       "std    6.921065e+16     8.923102     0.674131   14065.816170   5308.437778   \n",
       "min    6.661022e+17     1.000000  2015.000000       0.000000     11.000000   \n",
       "25%    6.990456e+17     8.000000  2016.000000    2691.000000    962.750000   \n",
       "50%    7.721554e+17    16.000000  2016.000000    7213.000000   2105.500000   \n",
       "75%    8.249690e+17    23.000000  2017.000000   15275.500000   4068.000000   \n",
       "max    8.924206e+17    31.000000  2017.000000  153976.000000  76279.000000   \n",
       "\n",
       "       retweeted_status_id  retweeted_status_user_id  user_followers  \\\n",
       "count         6.200000e+01              6.200000e+01    1.202000e+03   \n",
       "mean          7.665545e+17              1.270100e+16    8.855150e+06   \n",
       "std           5.619705e+16              1.000077e+17    8.891517e+01   \n",
       "min           6.675094e+17              7.832140e+05    8.854946e+06   \n",
       "25%           7.273831e+17              4.196984e+09    8.855164e+06   \n",
       "50%           7.801500e+17              4.196984e+09    8.855171e+06   \n",
       "75%           7.991435e+17              4.196984e+09    8.855186e+06   \n",
       "max           8.768508e+17              7.874618e+17    8.855598e+06   \n",
       "\n",
       "       user_favourites  dog_score_outof10   confidence  \n",
       "count      1202.000000        1202.000000  1202.000000  \n",
       "mean     145874.010815          13.756681     0.514555  \n",
       "std           0.103476          52.222071     0.329727  \n",
       "min      145874.000000          11.000000     0.000000  \n",
       "25%      145874.000000          11.000000     0.245229  \n",
       "50%      145874.000000          12.000000     0.522865  \n",
       "75%      145874.000000          13.000000     0.817731  \n",
       "max      145875.000000        1776.000000     0.999953  "
      ]
     },
     "execution_count": 319,
     "metadata": {},
     "output_type": "execute_result"
    }
   ],
   "source": [
    "df.describe()"
   ]
  },
  {
   "cell_type": "markdown",
   "metadata": {},
   "source": [
    "### Which dog gender is gets involved most in the user rating process ?\n"
   ]
  },
  {
   "cell_type": "code",
   "execution_count": 320,
   "metadata": {},
   "outputs": [
    {
     "data": {
      "image/png": "[encoded data removed]",
      "text/plain": [
       "<matplotlib.figure.Figure at 0x7fbea7cedeb8>"
      ]
     },
     "metadata": {},
     "output_type": "display_data"
    }
   ],
   "source": [
    "# Dog ratio based on gender\n",
    "labels = 'Male', 'Female'\n",
    "Totalcount = df.dog_gender.count()\n",
    "Maleprop = ((df[df['dog_gender']=='Male'].count()['dog_gender'])/Totalcount)*100\n",
    "Femaleprop = ((df[df['dog_gender']=='Female'].count()['dog_gender'])/Totalcount)*100\n",
    "sizes = [Maleprop,Femaleprop]\n",
    "explode = (0.2, 0)  # only \"explode\" the 2nd slice (i.e. 'Hogs')\n",
    "col = [\"#0C86B1\",\"#ff07b0\"]\n",
    "fig1, ax1 = plt.subplots(figsize=(4,4))\n",
    "ax1.pie(sizes, explode=explode, labels=labels, autopct='%1.0f%%',\n",
    "        shadow=True, startangle=90,colors=col)\n",
    "ax1.axis('equal')  # Equal aspect ratio ensures that pie is drawn as a circle.\n",
    "leg = ax1.legend(loc=4)\n",
    "plt.title(\"Dog gender ratio rated by the twitter user\",fontsize=20)\n",
    "plt.show()"
   ]
  },
  {
   "cell_type": "markdown",
   "metadata": {},
   "source": [
    "It is conclusive from the graph that more dogs in male gender is reviewed by the twitter users than the dogs in female gender.i,e) approximately less than 50% of female dogs get reviewed by the users in the WeRateDogs twitter page."
   ]
  },
  {
   "cell_type": "markdown",
   "metadata": {},
   "source": [
    "### Analysis on dog stages grouped by gender ?"
   ]
  },
  {
   "cell_type": "code",
   "execution_count": 321,
   "metadata": {},
   "outputs": [
    {
     "data": {
      "text/plain": [
       "dog_gender  dogs_stage\n",
       "Female      None          140\n",
       "            pupper         17\n",
       "            doggo           8\n",
       "            puppo           7\n",
       "Male        None          320\n",
       "            doggo          25\n",
       "            pupper         24\n",
       "            puppo           4\n",
       "            floofer         3\n",
       "Name: dogs_stage, dtype: int64"
      ]
     },
     "execution_count": 321,
     "metadata": {},
     "output_type": "execute_result"
    }
   ],
   "source": [
    "df.groupby(['dog_gender'])['dogs_stage'].value_counts()"
   ]
  },
  {
   "cell_type": "code",
   "execution_count": 5,
   "metadata": {},
   "outputs": [
    {
     "data": {
      "image/png": "[encoded data removed]",
      "text/plain": [
       "<matplotlib.figure.Figure at 0x7eff8d566400>"
      ]
     },
     "metadata": {
      "needs_background": "light"
     },
     "output_type": "display_data"
    }
   ],
   "source": [
    "import matplotlib.patches as mpatches\n",
    "col=['#ff77b4','#54CFFB']\n",
    "df.groupby(['dog_gender'])['dogs_stage'].value_counts().unstack(0).plot.bar(figsize=(10,8),color=col,edgecolor=\"white\");\n",
    "plt.title('Dogs count in each dog stage grouped by gender',fontsize=20);\n",
    "plt.xlabel('Dog stage',fontsize = 12,fontweight=\"bold\");\n",
    "plt.ylabel('Count',fontsize = 12,fontweight=\"bold\");\n",
    "pink_patch = mpatches.Patch(color='#ff77b4', label='Female');\n",
    "blue_patch = mpatches.Patch(color='#54CFFB', label='Male');\n",
    "plt.legend(handles=[pink_patch,blue_patch],fontsize=12);"
   ]
  },
  {
   "cell_type": "markdown",
   "metadata": {},
   "source": [
    "It is conclusive that floofer is the dog stage with no dogs in female gender and it is the least popular in twitter since it got very least reviews by the users. On the other hand, most of the reviews given by the twitter users doesnt point any of the dog stages and they rated the dogs based on other factors in general."
   ]
  },
  {
   "cell_type": "code",
   "execution_count": 323,
   "metadata": {},
   "outputs": [
    {
     "data": {
      "text/plain": [
       "dog_gender\n",
       "Female    2072.0\n",
       "Male      4493.0\n",
       "Name: dog_score_outof10, dtype: float64"
      ]
     },
     "execution_count": 323,
     "metadata": {},
     "output_type": "execute_result"
    }
   ],
   "source": [
    "df.groupby(['dog_gender'])['dog_score_outof10'].sum()"
   ]
  },
  {
   "cell_type": "markdown",
   "metadata": {},
   "source": [
    "### Which gender dogs has more ratings in general ?"
   ]
  },
  {
   "cell_type": "code",
   "execution_count": 324,
   "metadata": {},
   "outputs": [
    {
     "data": {
      "image/png": "[encoded data removed]",
      "text/plain": [
       "<matplotlib.figure.Figure at 0x7fbea7fa1390>"
      ]
     },
     "metadata": {
      "needs_background": "light"
     },
     "output_type": "display_data"
    }
   ],
   "source": [
    "import matplotlib.patches as mpatches\n",
    "col=['#ff77b4','#54CFFB']\n",
    "df.groupby(['dog_gender'])['dog_score_outof10'].sum().plot.bar(figsize=(10,8),color=col,edgecolor=\"white\");\n",
    "plt.title('Gender based rating score',fontsize=20);\n",
    "plt.xlabel('Gender of the dog',fontsize = 12,fontweight=\"bold\");\n",
    "plt.ylabel('Total rating of the breed',fontsize = 12,fontweight=\"bold\");\n",
    "pink_patch = mpatches.Patch(color='#ff77b4', label='Female');\n",
    "blue_patch = mpatches.Patch(color='#54CFFB', label='Male');\n",
    "plt.legend(handles=[pink_patch,blue_patch],fontsize=12);"
   ]
  },
  {
   "cell_type": "markdown",
   "metadata": {},
   "source": [
    "From the above bar chart it is evident that male dogs are high in total ratings than the female dogs."
   ]
  },
  {
   "cell_type": "markdown",
   "metadata": {},
   "source": [
    "### Analysis on Retweet Vs Dog Score\n"
   ]
  },
  {
   "cell_type": "code",
   "execution_count": 325,
   "metadata": {},
   "outputs": [
    {
     "data": {
      "image/png": "[encoded data removed]",
      "text/plain": [
       "<matplotlib.figure.Figure at 0x7fbea7c7eef0>"
      ]
     },
     "metadata": {
      "needs_background": "light"
     },
     "output_type": "display_data"
    }
   ],
   "source": [
    "df.plot(x='retweets', y='dog_score_outof10', kind='scatter')\n",
    "plt.xlabel('Retweet Counts')\n",
    "plt.ylabel('Ratings')\n",
    "plt.title('Retweet Counts by Ratings Scatter Plot')\n",
    "\n",
    "fig = plt.gcf()\n",
    "fig.savefig('output3.png',bbox_inches='tight');"
   ]
  },
  {
   "cell_type": "markdown",
   "metadata": {},
   "source": [
    "In the above scatter plot, we can conclude that the tweets which gave more score to the dogs are less retweeted in general. On the other hand the tweets with less rating score for the dogs are higly retweeted by the users."
   ]
  },
  {
   "cell_type": "markdown",
   "metadata": {},
   "source": [
    "### Correlation heat map\n"
   ]
  },
  {
   "cell_type": "code",
   "execution_count": 326,
   "metadata": {},
   "outputs": [
    {
     "data": {
      "text/plain": [
       "Text(0.5,1,'Correlation Heat Map')"
      ]
     },
     "execution_count": 326,
     "metadata": {},
     "output_type": "execute_result"
    },
    {
     "data": {
      "image/png": "[encoded data removed]",
      "text/plain": [
       "<matplotlib.figure.Figure at 0x7fbea7c378d0>"
      ]
     },
     "metadata": {
      "needs_background": "light"
     },
     "output_type": "display_data"
    }
   ],
   "source": [
    "f,ax = plt.subplots(figsize=(12, 12))\n",
    "sns.heatmap(df[['source','user_followers','favorites','retweets',\n",
    "               'dog_score_outof10']].corr(), annot=True, linewidths=.8, fmt= '.1f',ax=ax)\n",
    "plt.title('Correlation Heat Map')"
   ]
  },
  {
   "cell_type": "markdown",
   "metadata": {},
   "source": [
    "1) There is a strong relationship between favorites and retweets\n",
    "2) There is a week relationship between user_followers and retweets."
   ]
  }
 ],
 "metadata": {
  "kernelspec": {
   "display_name": "Python 3",
   "language": "python",
   "name": "python3"
  },
  "language_info": {
   "codemirror_mode": {
    "name": "ipython",
    "version": 3
   },
   "file_extension": ".py",
   "mimetype": "text/x-python",
   "name": "python",
   "nbconvert_exporter": "python",
   "pygments_lexer": "ipython3",
   "version": "3.6.3"
  }
 },
 "nbformat": 4,
 "nbformat_minor": 2
}
